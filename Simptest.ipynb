{
 "cells": [
  {
   "cell_type": "code",
   "execution_count": null,
   "metadata": {
    "id": "oRQ-K-N69mC9"
   },
   "outputs": [],
   "source": [
    "from __future__ import print_function\n",
    "import torch\n",
    "import torch.nn as nn\n",
    "import torch.optim as optim\n",
    "from torch.optim import lr_scheduler\n",
    "import torch.nn.functional as F\n",
    "import torch.backends.cudnn as cudnn\n",
    "import torchvision\n",
    "import torchvision.transforms as transforms\n",
    "import matplotlib.pyplot as plt\n",
    "from torch.utils.data.sampler import SubsetRandomSampler\n",
    "import os\n",
    "import numpy as np\n",
    "from tqdm import tqdm"
   ]
  },
  {
   "cell_type": "code",
   "execution_count": null,
   "metadata": {
    "colab": {
     "base_uri": "https://localhost:8080/"
    },
    "id": "YkjIxxsK9rvw",
    "outputId": "ccca23b6-6a3e-499e-c65c-5dff9f976ba3"
   },
   "outputs": [
    {
     "name": "stdout",
     "output_type": "stream",
     "text": [
      "cuda\n"
     ]
    }
   ],
   "source": [
    "lr = 0.01\n",
    "wd = 1e-6\n",
    "ne = 60\n",
    "nsc = 20\n",
    "gamma = 0.32\n",
    "device = 'cuda' if torch.cuda.is_available() else 'cpu'\n",
    "#To get reproductible experiment\n",
    "torch.manual_seed(0)\n",
    "np.random.seed(0)\n",
    "print(device)"
   ]
  },
  {
   "cell_type": "code",
   "execution_count": null,
   "metadata": {
    "colab": {
     "base_uri": "https://localhost:8080/",
     "height": 118,
     "referenced_widgets": [
      "799f9fc09bb648c5a49b2cb5a6bf9d09",
      "5c3aa0b16a874c53af9d294b5dd04d47",
      "024baba2b7db4c6f8a505888e63746ba",
      "b4acf9f37fb74346af357256adc10141",
      "b357ec12586d4c97b7dab82c63a9987f",
      "9a0dc49484834c8c87c04df8d2f81c7d",
      "7e84405f6557476eb299ac6aa7a12c66",
      "592cf45eaa9b49f19d86bc993bcf1df3",
      "54a26e25f6d64d5191f63f6162b570c1",
      "00718357d942402a99b98911618f5994",
      "eea528b972684dcdb02e32344f7f7559"
     ]
    },
    "id": "nRxFZUfS9uhx",
    "outputId": "aa460710-2ebf-4e92-c567-e838869d5bb6"
   },
   "outputs": [
    {
     "name": "stdout",
     "output_type": "stream",
     "text": [
      "Downloading https://www.cs.toronto.edu/~kriz/cifar-10-python.tar.gz to ./data/cifar-10-python.tar.gz\n"
     ]
    },
    {
     "data": {
      "application/vnd.jupyter.widget-view+json": {
       "model_id": "799f9fc09bb648c5a49b2cb5a6bf9d09",
       "version_major": 2,
       "version_minor": 0
      },
      "text/plain": [
       "  0%|          | 0/170498071 [00:00<?, ?it/s]"
      ]
     },
     "metadata": {},
     "output_type": "display_data"
    },
    {
     "name": "stdout",
     "output_type": "stream",
     "text": [
      "Extracting ./data/cifar-10-python.tar.gz to ./data\n",
      "Files already downloaded and verified\n",
      "Files already downloaded and verified\n"
     ]
    }
   ],
   "source": [
    "transform_train = transforms.Compose([\n",
    "    transforms.RandomCrop(32, padding=4),\n",
    "    transforms.RandomHorizontalFlip(),\n",
    "    transforms.ToTensor(),\n",
    "    transforms.Normalize((0.4913725490196078, 0.4823529411764706, 0.4466666666666667), (0.24705882352941178, 0.24352941176470588, 0.2615686274509804)),\n",
    "])\n",
    "\n",
    "transform_test = transforms.Compose([\n",
    "    transforms.ToTensor(),\n",
    "    transforms.Normalize((0.4913725490196078, 0.4823529411764706, 0.4466666666666667), (0.24705882352941178, 0.24352941176470588, 0.2615686274509804)),\n",
    "])\n",
    "\n",
    "trainset = torchvision.datasets.CIFAR10(root='./data', train=True, download=True, transform=transform_train)\n",
    "# Création de l'ensemble de validation\n",
    "validset = torchvision.datasets.CIFAR10(root='./data', train=True, download=True, transform=transform_test)\n",
    "split=5000\n",
    "num_train=50000\n",
    "indices = list(range(num_train))\n",
    "np.random.seed(123)\n",
    "np.random.shuffle(indices)\n",
    "train_idx, valid_idx = indices[split:], indices[:split]\n",
    "trainset = torch.utils.data.Subset(trainset,train_idx)\n",
    "validset = torch.utils.data.Subset(validset,valid_idx)\n",
    "trainloader = torch.utils.data.DataLoader(trainset, batch_size=128, shuffle=True, num_workers=2)\n",
    "validloader = torch.utils.data.DataLoader(validset, batch_size=100, shuffle=False, num_workers=2)\n",
    "#Création de l'ensemble de test\n",
    "testset = torchvision.datasets.CIFAR10(root='./data', train=False, download=True, transform=transform_test)\n",
    "testloader = torch.utils.data.DataLoader(testset, batch_size=100, shuffle=False, num_workers=2)"
   ]
  },
  {
   "cell_type": "code",
   "execution_count": null,
   "metadata": {
    "id": "IHIjZCpo9xKe"
   },
   "outputs": [],
   "source": [
    "architecture = [64, 128, 128, 128, 'M', 128, 128, 256, 'M', 256, 256, 'M', 512, 'M', 2048, 256, 'M', 256]\n",
    "class SimpleNet(nn.Module):\n",
    "    def __init__(self,architecture):\n",
    "        super(SimpleNet, self).__init__()\n",
    "        self.layers = self.make_layers(architecture)\n",
    "        self.classifier = nn.Linear(256, 10, bias=True)\n",
    "    def forward(self,x):\n",
    "        x = self.layers(x)\n",
    "        x = x.view(x.size(0),-1)\n",
    "        return self.classifier(x)\n",
    "    def make_layers(self,architecture):\n",
    "        layers = []\n",
    "        in_channels = 3\n",
    "        for x in architecture:\n",
    "            if x=='M':\n",
    "                layers += [nn.MaxPool2d(kernel_size=(2, 2), stride=(2, 2), padding=0, dilation=(1, 1), ceil_mode=False),\n",
    "                           nn.Dropout2d(p=0.1)]\n",
    "            else:\n",
    "                layers += [nn.Conv2d(in_channels, x, kernel_size=[3, 3], stride=(1, 1), padding=(1, 1)),\n",
    "                           nn.BatchNorm2d(x,eps=1e-05, momentum=0.05, affine=True, track_running_stats=True),\n",
    "                           nn.ReLU(inplace=True)]\n",
    "                in_channels = x\n",
    "        return nn.Sequential(*layers)\n",
    "            \n",
    "\n",
    "\n",
    "net = SimpleNet(architecture)\n",
    "\n",
    "net = net.to(device)"
   ]
  },
  {
   "cell_type": "code",
   "execution_count": null,
   "metadata": {
    "id": "A06a5vmK9zjA"
   },
   "outputs": [],
   "source": [
    "criterion = nn.CrossEntropyLoss()\n",
    "# optimizer = optim.SGD(net.parameters(), lr=lr, momentum=0.9, weight_decay=wd)\n",
    "optimizer = optim.Adadelta(net.parameters(),lr=0.1, rho=0.9, eps= 0.001, weight_decay=0.002)\n",
    "lr_sc = lr_scheduler.StepLR(optimizer, step_size=nsc, gamma=gamma)\n",
    "#optimizer = optim.Adadelta(lr=0.1, rho=0.9, eps= 0.001, weight_decay=0.002, params= [140655709219720, 140655709219792, 140655709219936, 140655709220080, 140655709220440, 140655709220512, 140655709220656, 140655709220800, 140655709219288, 140655709302856, 140655709303000, 140655709303144, 140655709303432, 140655709303504, 140655709303576, 140655709303648, 140655709303936, 140655709304008, 140655709304080, 140655709304152, 140655709304440, 140655709304512, 140655709304584, 140655709304656, 140655709304944, 140655709305016, 140655709305088, 140655709305160, 140655709305448, 140655709305520, 140655709305592, 140655709305664, 140655709305952, 140655709306024, 140655709306096, 140655709306168, 140655709306456, 140655709306528, 140655709306600, 140655709306672, 140655607672976, 140655607673048, 140655607673120, 140655607673192, 140655607673480, 140655607673552, 140655607673624, 140655607673696, 140655607673984, 140655607674056, 140655607674200, 140655607674344, 140655607674704, 140655607674776])"
   ]
  },
  {
   "cell_type": "code",
   "execution_count": null,
   "metadata": {
    "colab": {
     "base_uri": "https://localhost:8080/"
    },
    "id": "zKDMACdu98TS",
    "outputId": "2d386e0a-897a-4d8b-d3e9-78210bcf591a"
   },
   "outputs": [
    {
     "name": "stderr",
     "output_type": "stream",
     "text": [
      "Epoch [0]: 100%|██████████| 352/352 [02:42<00:00,  2.17it/s, acc=0.436]\n",
      "100%|██████████| 50/50 [00:07<00:00,  7.12it/s, acc=0.564]\n"
     ]
    },
    {
     "name": "stdout",
     "output_type": "stream",
     "text": [
      "Saving..\n"
     ]
    },
    {
     "name": "stderr",
     "output_type": "stream",
     "text": [
      "Epoch [1]: 100%|██████████| 352/352 [02:42<00:00,  2.17it/s, acc=0.641]\n",
      "100%|██████████| 50/50 [00:07<00:00,  7.10it/s, acc=0.68]\n"
     ]
    },
    {
     "name": "stdout",
     "output_type": "stream",
     "text": [
      "Saving..\n"
     ]
    },
    {
     "name": "stderr",
     "output_type": "stream",
     "text": [
      "Epoch [2]: 100%|██████████| 352/352 [02:41<00:00,  2.18it/s, acc=0.722]\n",
      "100%|██████████| 50/50 [00:07<00:00,  7.13it/s, acc=0.694]\n"
     ]
    },
    {
     "name": "stdout",
     "output_type": "stream",
     "text": [
      "Saving..\n"
     ]
    },
    {
     "name": "stderr",
     "output_type": "stream",
     "text": [
      "Epoch [3]: 100%|██████████| 352/352 [02:42<00:00,  2.16it/s, acc=0.761]\n",
      "100%|██████████| 50/50 [00:07<00:00,  7.05it/s, acc=0.753]\n"
     ]
    },
    {
     "name": "stdout",
     "output_type": "stream",
     "text": [
      "Saving..\n"
     ]
    },
    {
     "name": "stderr",
     "output_type": "stream",
     "text": [
      "Epoch [4]: 100%|██████████| 352/352 [02:43<00:00,  2.16it/s, acc=0.786]\n",
      "100%|██████████| 50/50 [00:07<00:00,  7.08it/s, acc=0.724]\n",
      "Epoch [5]: 100%|██████████| 352/352 [02:43<00:00,  2.15it/s, acc=0.805]\n",
      "100%|██████████| 50/50 [00:07<00:00,  7.05it/s, acc=0.782]\n"
     ]
    },
    {
     "name": "stdout",
     "output_type": "stream",
     "text": [
      "Saving..\n"
     ]
    },
    {
     "name": "stderr",
     "output_type": "stream",
     "text": [
      "Epoch [6]: 100%|██████████| 352/352 [02:42<00:00,  2.16it/s, acc=0.82]\n",
      "100%|██████████| 50/50 [00:07<00:00,  7.06it/s, acc=0.773]\n",
      "Epoch [7]: 100%|██████████| 352/352 [02:42<00:00,  2.16it/s, acc=0.83]\n",
      "100%|██████████| 50/50 [00:07<00:00,  7.10it/s, acc=0.799]\n"
     ]
    },
    {
     "name": "stdout",
     "output_type": "stream",
     "text": [
      "Saving..\n"
     ]
    },
    {
     "name": "stderr",
     "output_type": "stream",
     "text": [
      "Epoch [8]: 100%|██████████| 352/352 [02:43<00:00,  2.16it/s, acc=0.84]\n",
      "100%|██████████| 50/50 [00:07<00:00,  7.06it/s, acc=0.729]\n",
      "Epoch [9]: 100%|██████████| 352/352 [02:43<00:00,  2.15it/s, acc=0.848]\n",
      "100%|██████████| 50/50 [00:07<00:00,  7.09it/s, acc=0.801]\n"
     ]
    },
    {
     "name": "stdout",
     "output_type": "stream",
     "text": [
      "Saving..\n"
     ]
    },
    {
     "name": "stderr",
     "output_type": "stream",
     "text": [
      "Epoch [10]: 100%|██████████| 352/352 [02:42<00:00,  2.17it/s, acc=0.855]\n",
      "100%|██████████| 50/50 [00:07<00:00,  7.11it/s, acc=0.836]\n"
     ]
    },
    {
     "name": "stdout",
     "output_type": "stream",
     "text": [
      "Saving..\n"
     ]
    },
    {
     "name": "stderr",
     "output_type": "stream",
     "text": [
      "Epoch [11]: 100%|██████████| 352/352 [02:42<00:00,  2.17it/s, acc=0.864]\n",
      "100%|██████████| 50/50 [00:07<00:00,  7.08it/s, acc=0.771]\n",
      "Epoch [12]: 100%|██████████| 352/352 [02:42<00:00,  2.16it/s, acc=0.868]\n",
      "100%|██████████| 50/50 [00:07<00:00,  7.07it/s, acc=0.749]\n",
      "Epoch [13]: 100%|██████████| 352/352 [02:42<00:00,  2.16it/s, acc=0.873]\n",
      "100%|██████████| 50/50 [00:06<00:00,  7.17it/s, acc=0.846]\n"
     ]
    },
    {
     "name": "stdout",
     "output_type": "stream",
     "text": [
      "Saving..\n"
     ]
    },
    {
     "name": "stderr",
     "output_type": "stream",
     "text": [
      "Epoch [14]: 100%|██████████| 352/352 [02:42<00:00,  2.17it/s, acc=0.877]\n",
      "100%|██████████| 50/50 [00:07<00:00,  7.07it/s, acc=0.858]\n"
     ]
    },
    {
     "name": "stdout",
     "output_type": "stream",
     "text": [
      "Saving..\n"
     ]
    },
    {
     "name": "stderr",
     "output_type": "stream",
     "text": [
      "Epoch [15]: 100%|██████████| 352/352 [02:42<00:00,  2.17it/s, acc=0.884]\n",
      "100%|██████████| 50/50 [00:07<00:00,  7.11it/s, acc=0.819]\n",
      "Epoch [16]: 100%|██████████| 352/352 [02:43<00:00,  2.16it/s, acc=0.884]\n",
      "100%|██████████| 50/50 [00:07<00:00,  7.10it/s, acc=0.808]\n",
      "Epoch [17]: 100%|██████████| 352/352 [02:43<00:00,  2.15it/s, acc=0.889]\n",
      "100%|██████████| 50/50 [00:07<00:00,  7.08it/s, acc=0.835]\n",
      "Epoch [18]: 100%|██████████| 352/352 [02:42<00:00,  2.17it/s, acc=0.894]\n",
      "100%|██████████| 50/50 [00:07<00:00,  7.07it/s, acc=0.864]\n"
     ]
    },
    {
     "name": "stdout",
     "output_type": "stream",
     "text": [
      "Saving..\n"
     ]
    },
    {
     "name": "stderr",
     "output_type": "stream",
     "text": [
      "Epoch [19]: 100%|██████████| 352/352 [02:42<00:00,  2.17it/s, acc=0.897]\n",
      "100%|██████████| 50/50 [00:07<00:00,  7.09it/s, acc=0.851]\n",
      "Epoch [20]: 100%|██████████| 352/352 [02:43<00:00,  2.16it/s, acc=0.932]\n",
      "100%|██████████| 50/50 [00:07<00:00,  7.06it/s, acc=0.912]\n"
     ]
    },
    {
     "name": "stdout",
     "output_type": "stream",
     "text": [
      "Saving..\n"
     ]
    },
    {
     "name": "stderr",
     "output_type": "stream",
     "text": [
      "Epoch [21]: 100%|██████████| 352/352 [02:43<00:00,  2.16it/s, acc=0.942]\n",
      "100%|██████████| 50/50 [00:07<00:00,  7.11it/s, acc=0.908]\n",
      "Epoch [22]: 100%|██████████| 352/352 [02:42<00:00,  2.17it/s, acc=0.945]\n",
      "100%|██████████| 50/50 [00:07<00:00,  7.10it/s, acc=0.912]\n"
     ]
    },
    {
     "name": "stdout",
     "output_type": "stream",
     "text": [
      "Saving..\n"
     ]
    },
    {
     "name": "stderr",
     "output_type": "stream",
     "text": [
      "Epoch [23]: 100%|██████████| 352/352 [02:42<00:00,  2.17it/s, acc=0.947]\n",
      "100%|██████████| 50/50 [00:07<00:00,  7.07it/s, acc=0.907]\n",
      "Epoch [24]: 100%|██████████| 352/352 [02:43<00:00,  2.16it/s, acc=0.95]\n",
      "100%|██████████| 50/50 [00:07<00:00,  7.02it/s, acc=0.91]\n",
      "Epoch [25]: 100%|██████████| 352/352 [02:43<00:00,  2.16it/s, acc=0.953]\n",
      "100%|██████████| 50/50 [00:07<00:00,  7.05it/s, acc=0.905]\n",
      "Epoch [26]: 100%|██████████| 352/352 [02:42<00:00,  2.17it/s, acc=0.953]\n",
      "100%|██████████| 50/50 [00:07<00:00,  7.05it/s, acc=0.915]\n"
     ]
    },
    {
     "name": "stdout",
     "output_type": "stream",
     "text": [
      "Saving..\n"
     ]
    },
    {
     "name": "stderr",
     "output_type": "stream",
     "text": [
      "Epoch [27]: 100%|██████████| 352/352 [02:42<00:00,  2.17it/s, acc=0.953]\n",
      "100%|██████████| 50/50 [00:07<00:00,  7.08it/s, acc=0.902]\n",
      "Epoch [28]: 100%|██████████| 352/352 [02:43<00:00,  2.16it/s, acc=0.956]\n",
      "100%|██████████| 50/50 [00:07<00:00,  7.05it/s, acc=0.913]\n",
      "Epoch [29]: 100%|██████████| 352/352 [02:43<00:00,  2.15it/s, acc=0.955]\n",
      "100%|██████████| 50/50 [00:07<00:00,  7.08it/s, acc=0.913]\n",
      "Epoch [30]: 100%|██████████| 352/352 [02:42<00:00,  2.17it/s, acc=0.956]\n",
      "100%|██████████| 50/50 [00:07<00:00,  7.09it/s, acc=0.907]\n",
      "Epoch [31]: 100%|██████████| 352/352 [02:42<00:00,  2.17it/s, acc=0.956]\n",
      "100%|██████████| 50/50 [00:07<00:00,  7.10it/s, acc=0.884]\n",
      "Epoch [32]: 100%|██████████| 352/352 [02:43<00:00,  2.16it/s, acc=0.958]\n",
      "100%|██████████| 50/50 [00:07<00:00,  7.07it/s, acc=0.903]\n",
      "Epoch [33]: 100%|██████████| 352/352 [02:43<00:00,  2.15it/s, acc=0.958]\n",
      "100%|██████████| 50/50 [00:07<00:00,  7.07it/s, acc=0.911]\n",
      "Epoch [34]: 100%|██████████| 352/352 [02:42<00:00,  2.17it/s, acc=0.956]\n",
      "100%|██████████| 50/50 [00:07<00:00,  7.09it/s, acc=0.893]\n",
      "Epoch [35]: 100%|██████████| 352/352 [02:42<00:00,  2.17it/s, acc=0.957]\n",
      "100%|██████████| 50/50 [00:07<00:00,  7.06it/s, acc=0.884]\n",
      "Epoch [36]: 100%|██████████| 352/352 [02:43<00:00,  2.16it/s, acc=0.957]\n",
      "100%|██████████| 50/50 [00:07<00:00,  7.08it/s, acc=0.892]\n",
      "Epoch [37]: 100%|██████████| 352/352 [02:43<00:00,  2.15it/s, acc=0.959]\n",
      "100%|██████████| 50/50 [00:07<00:00,  7.05it/s, acc=0.911]\n",
      "Epoch [38]: 100%|██████████| 352/352 [02:42<00:00,  2.17it/s, acc=0.96]\n",
      "100%|██████████| 50/50 [00:07<00:00,  7.08it/s, acc=0.904]\n",
      "Epoch [39]: 100%|██████████| 352/352 [02:42<00:00,  2.16it/s, acc=0.959]\n",
      "100%|██████████| 50/50 [00:07<00:00,  7.06it/s, acc=0.91]\n",
      "Epoch [40]: 100%|██████████| 352/352 [02:43<00:00,  2.16it/s, acc=0.976]\n",
      "100%|██████████| 50/50 [00:07<00:00,  7.06it/s, acc=0.927]\n"
     ]
    },
    {
     "name": "stdout",
     "output_type": "stream",
     "text": [
      "Saving..\n"
     ]
    },
    {
     "name": "stderr",
     "output_type": "stream",
     "text": [
      "Epoch [41]: 100%|██████████| 352/352 [02:43<00:00,  2.15it/s, acc=0.983]\n",
      "100%|██████████| 50/50 [00:07<00:00,  7.10it/s, acc=0.931]\n"
     ]
    },
    {
     "name": "stdout",
     "output_type": "stream",
     "text": [
      "Saving..\n"
     ]
    },
    {
     "name": "stderr",
     "output_type": "stream",
     "text": [
      "Epoch [42]: 100%|██████████| 352/352 [02:42<00:00,  2.17it/s, acc=0.985]\n",
      "100%|██████████| 50/50 [00:07<00:00,  7.07it/s, acc=0.929]\n",
      "Epoch [43]: 100%|██████████| 352/352 [02:42<00:00,  2.17it/s, acc=0.987]\n",
      "100%|██████████| 50/50 [00:07<00:00,  7.10it/s, acc=0.929]\n",
      "Epoch [44]: 100%|██████████| 352/352 [02:43<00:00,  2.16it/s, acc=0.988]\n",
      "100%|██████████| 50/50 [00:07<00:00,  7.08it/s, acc=0.931]\n",
      "Epoch [45]: 100%|██████████| 352/352 [02:43<00:00,  2.15it/s, acc=0.988]\n",
      "100%|██████████| 50/50 [00:07<00:00,  7.05it/s, acc=0.935]\n"
     ]
    },
    {
     "name": "stdout",
     "output_type": "stream",
     "text": [
      "Saving..\n"
     ]
    },
    {
     "name": "stderr",
     "output_type": "stream",
     "text": [
      "Epoch [46]: 100%|██████████| 352/352 [02:42<00:00,  2.17it/s, acc=0.988]\n",
      "100%|██████████| 50/50 [00:07<00:00,  7.06it/s, acc=0.934]\n",
      "Epoch [47]: 100%|██████████| 352/352 [02:42<00:00,  2.16it/s, acc=0.989]\n",
      "100%|██████████| 50/50 [00:07<00:00,  7.07it/s, acc=0.935]\n",
      "Epoch [48]: 100%|██████████| 352/352 [02:43<00:00,  2.15it/s, acc=0.99]\n",
      "100%|██████████| 50/50 [00:07<00:00,  7.04it/s, acc=0.934]\n",
      "Epoch [49]: 100%|██████████| 352/352 [02:43<00:00,  2.15it/s, acc=0.99]\n",
      "100%|██████████| 50/50 [00:07<00:00,  7.06it/s, acc=0.928]\n",
      "Epoch [50]: 100%|██████████| 352/352 [02:42<00:00,  2.17it/s, acc=0.99]\n",
      "100%|██████████| 50/50 [00:07<00:00,  7.08it/s, acc=0.929]\n",
      "Epoch [51]: 100%|██████████| 352/352 [02:42<00:00,  2.17it/s, acc=0.991]\n",
      "100%|██████████| 50/50 [00:07<00:00,  7.05it/s, acc=0.929]\n",
      "Epoch [52]: 100%|██████████| 352/352 [02:43<00:00,  2.16it/s, acc=0.991]\n",
      "100%|██████████| 50/50 [00:07<00:00,  7.09it/s, acc=0.93]\n",
      "Epoch [53]: 100%|██████████| 352/352 [02:43<00:00,  2.15it/s, acc=0.989]\n",
      "100%|██████████| 50/50 [00:07<00:00,  7.06it/s, acc=0.929]\n",
      "Epoch [54]: 100%|██████████| 352/352 [02:42<00:00,  2.17it/s, acc=0.99]\n",
      "100%|██████████| 50/50 [00:07<00:00,  7.06it/s, acc=0.929]\n",
      "Epoch [55]: 100%|██████████| 352/352 [02:42<00:00,  2.17it/s, acc=0.991]\n",
      "100%|██████████| 50/50 [00:07<00:00,  7.06it/s, acc=0.93]\n",
      "Epoch [56]: 100%|██████████| 352/352 [02:43<00:00,  2.16it/s, acc=0.992]\n",
      "100%|██████████| 50/50 [00:07<00:00,  7.09it/s, acc=0.933]\n",
      "Epoch [57]: 100%|██████████| 352/352 [02:43<00:00,  2.15it/s, acc=0.991]\n",
      "100%|██████████| 50/50 [00:07<00:00,  7.07it/s, acc=0.93]\n",
      "Epoch [58]: 100%|██████████| 352/352 [02:41<00:00,  2.18it/s, acc=0.992]\n",
      "100%|██████████| 50/50 [00:07<00:00,  7.14it/s, acc=0.931]\n",
      "Epoch [59]: 100%|██████████| 352/352 [02:41<00:00,  2.18it/s, acc=0.991]\n",
      "100%|██████████| 50/50 [00:07<00:00,  7.11it/s, acc=0.926]\n"
     ]
    },
    {
     "name": "stdout",
     "output_type": "stream",
     "text": [
      "==> Resuming from checkpoint..\n"
     ]
    },
    {
     "name": "stderr",
     "output_type": "stream",
     "text": [
      "100%|██████████| 100/100 [00:13<00:00,  7.18it/s, acc=0.93]"
     ]
    },
    {
     "name": "stdout",
     "output_type": "stream",
     "text": [
      "\n",
      "Final accuracy on the test set :  0.9297\n"
     ]
    },
    {
     "name": "stderr",
     "output_type": "stream",
     "text": [
      "\n"
     ]
    }
   ],
   "source": [
    "# Training\n",
    "def train(epoch,trainloader):\n",
    "    net.train()\n",
    "    train_loss = 0\n",
    "    correct = 0\n",
    "    total = 0\n",
    "    loop = tqdm(enumerate(trainloader), total=len(trainloader))\n",
    "    for batch_idx, (inputs, targets) in loop:\n",
    "        inputs, targets = inputs.to(device), targets.to(device)\n",
    "        optimizer.zero_grad()\n",
    "        outputs = net(inputs)\n",
    "        loss = criterion(outputs, targets)\n",
    "        loss.backward()\n",
    "        optimizer.step()\n",
    "        train_loss += loss.item()\n",
    "        _, predicted = outputs.max(1)\n",
    "        total += targets.size(0)\n",
    "        correct += predicted.eq(targets).sum().item()\n",
    "        loop.set_description(f\"Epoch [{epoch}]\")\n",
    "        loop.set_postfix(acc=correct/total)\n",
    "\n",
    "def test(epoch,validloader):\n",
    "    global best_acc\n",
    "    net.eval()\n",
    "    test_loss = 0\n",
    "    correct = 0\n",
    "    total = 0\n",
    "    with torch.no_grad():\n",
    "        loop = tqdm(enumerate(validloader), total=len(validloader))\n",
    "        for batch_idx, (inputs, targets) in loop:\n",
    "            inputs, targets = inputs.to(device), targets.to(device)\n",
    "            outputs = net(inputs)\n",
    "            loss = criterion(outputs, targets)\n",
    "            test_loss += loss.item()\n",
    "            _, predicted = outputs.max(1)\n",
    "            total += targets.size(0)\n",
    "            correct += predicted.eq(targets).sum().item()\n",
    "            loop.set_postfix(acc=correct/total)\n",
    "    # Save checkpoint.\n",
    "    acc = 100.*correct/total\n",
    "    if acc > best_acc:\n",
    "        print('Saving..')\n",
    "        state = {\n",
    "            'net': net.state_dict(),\n",
    "            'acc': acc,\n",
    "            'epoch': epoch,\n",
    "        }\n",
    "        if not os.path.isdir('checkpoint'):\n",
    "            os.mkdir('checkpoint')\n",
    "        torch.save(state, './checkpoint/ckpt.t7')\n",
    "        best_acc = acc\n",
    "        \n",
    "def testfinal(testloader):\n",
    "    print('==> Resuming from checkpoint..')\n",
    "    assert os.path.isdir('checkpoint'), 'Error: no checkpoint directory found!'\n",
    "    checkpoint = torch.load('./checkpoint/ckpt.t7')\n",
    "    net.load_state_dict(checkpoint['net'])\n",
    "    net.eval()\n",
    "    test_loss = 0\n",
    "    correct = 0\n",
    "    total = 0\n",
    "    with torch.no_grad():\n",
    "        loop = tqdm(enumerate(testloader), total=len(testloader))\n",
    "        for batch_idx, (inputs, targets) in loop:\n",
    "            inputs, targets = inputs.to(device), targets.to(device)\n",
    "            outputs = net(inputs)\n",
    "            loss = criterion(outputs, targets)\n",
    "            test_loss += loss.item()\n",
    "            _, predicted = outputs.max(1)\n",
    "            total += targets.size(0)\n",
    "            correct += predicted.eq(targets).sum().item()\n",
    "            loop.set_postfix(acc=correct/total)\n",
    "        print(\"\\nFinal accuracy on the test set : \",correct/total)\n",
    "\n",
    "best_acc = 0       \n",
    "\n",
    "for epoch in range(0, ne):\n",
    "    train(epoch,trainloader)\n",
    "    test(epoch,validloader)\n",
    "    lr_sc.step()\n",
    "\n",
    "testfinal(testloader)"
   ]
  }
 ],
 "metadata": {
  "accelerator": "GPU",
  "colab": {
   "name": "Simptest",
   "provenance": []
  },
  "kernelspec": {
   "display_name": "Python 3 (ipykernel)",
   "language": "python",
   "name": "python3"
  },
  "language_info": {
   "codemirror_mode": {
    "name": "ipython",
    "version": 3
   },
   "file_extension": ".py",
   "mimetype": "text/x-python",
   "name": "python",
   "nbconvert_exporter": "python",
   "pygments_lexer": "ipython3",
   "version": "3.9.7"
  },
  "widgets": {
   "application/vnd.jupyter.widget-state+json": {
    "00718357d942402a99b98911618f5994": {
     "model_module": "@jupyter-widgets/controls",
     "model_module_version": "1.5.0",
     "model_name": "DescriptionStyleModel",
     "state": {
      "_model_module": "@jupyter-widgets/controls",
      "_model_module_version": "1.5.0",
      "_model_name": "DescriptionStyleModel",
      "_view_count": null,
      "_view_module": "@jupyter-widgets/base",
      "_view_module_version": "1.2.0",
      "_view_name": "StyleView",
      "description_width": ""
     }
    },
    "024baba2b7db4c6f8a505888e63746ba": {
     "model_module": "@jupyter-widgets/controls",
     "model_module_version": "1.5.0",
     "model_name": "HTMLModel",
     "state": {
      "_dom_classes": [],
      "_model_module": "@jupyter-widgets/controls",
      "_model_module_version": "1.5.0",
      "_model_name": "HTMLModel",
      "_view_count": null,
      "_view_module": "@jupyter-widgets/controls",
      "_view_module_version": "1.5.0",
      "_view_name": "HTMLView",
      "description": "",
      "description_tooltip": null,
      "layout": "IPY_MODEL_7e84405f6557476eb299ac6aa7a12c66",
      "placeholder": "​",
      "style": "IPY_MODEL_9a0dc49484834c8c87c04df8d2f81c7d",
      "value": ""
     }
    },
    "54a26e25f6d64d5191f63f6162b570c1": {
     "model_module": "@jupyter-widgets/base",
     "model_module_version": "1.2.0",
     "model_name": "LayoutModel",
     "state": {
      "_model_module": "@jupyter-widgets/base",
      "_model_module_version": "1.2.0",
      "_model_name": "LayoutModel",
      "_view_count": null,
      "_view_module": "@jupyter-widgets/base",
      "_view_module_version": "1.2.0",
      "_view_name": "LayoutView",
      "align_content": null,
      "align_items": null,
      "align_self": null,
      "border": null,
      "bottom": null,
      "display": null,
      "flex": null,
      "flex_flow": null,
      "grid_area": null,
      "grid_auto_columns": null,
      "grid_auto_flow": null,
      "grid_auto_rows": null,
      "grid_column": null,
      "grid_gap": null,
      "grid_row": null,
      "grid_template_areas": null,
      "grid_template_columns": null,
      "grid_template_rows": null,
      "height": null,
      "justify_content": null,
      "justify_items": null,
      "left": null,
      "margin": null,
      "max_height": null,
      "max_width": null,
      "min_height": null,
      "min_width": null,
      "object_fit": null,
      "object_position": null,
      "order": null,
      "overflow": null,
      "overflow_x": null,
      "overflow_y": null,
      "padding": null,
      "right": null,
      "top": null,
      "visibility": null,
      "width": null
     }
    },
    "592cf45eaa9b49f19d86bc993bcf1df3": {
     "model_module": "@jupyter-widgets/controls",
     "model_module_version": "1.5.0",
     "model_name": "ProgressStyleModel",
     "state": {
      "_model_module": "@jupyter-widgets/controls",
      "_model_module_version": "1.5.0",
      "_model_name": "ProgressStyleModel",
      "_view_count": null,
      "_view_module": "@jupyter-widgets/base",
      "_view_module_version": "1.2.0",
      "_view_name": "StyleView",
      "bar_color": null,
      "description_width": ""
     }
    },
    "5c3aa0b16a874c53af9d294b5dd04d47": {
     "model_module": "@jupyter-widgets/base",
     "model_module_version": "1.2.0",
     "model_name": "LayoutModel",
     "state": {
      "_model_module": "@jupyter-widgets/base",
      "_model_module_version": "1.2.0",
      "_model_name": "LayoutModel",
      "_view_count": null,
      "_view_module": "@jupyter-widgets/base",
      "_view_module_version": "1.2.0",
      "_view_name": "LayoutView",
      "align_content": null,
      "align_items": null,
      "align_self": null,
      "border": null,
      "bottom": null,
      "display": null,
      "flex": null,
      "flex_flow": null,
      "grid_area": null,
      "grid_auto_columns": null,
      "grid_auto_flow": null,
      "grid_auto_rows": null,
      "grid_column": null,
      "grid_gap": null,
      "grid_row": null,
      "grid_template_areas": null,
      "grid_template_columns": null,
      "grid_template_rows": null,
      "height": null,
      "justify_content": null,
      "justify_items": null,
      "left": null,
      "margin": null,
      "max_height": null,
      "max_width": null,
      "min_height": null,
      "min_width": null,
      "object_fit": null,
      "object_position": null,
      "order": null,
      "overflow": null,
      "overflow_x": null,
      "overflow_y": null,
      "padding": null,
      "right": null,
      "top": null,
      "visibility": null,
      "width": null
     }
    },
    "799f9fc09bb648c5a49b2cb5a6bf9d09": {
     "model_module": "@jupyter-widgets/controls",
     "model_module_version": "1.5.0",
     "model_name": "HBoxModel",
     "state": {
      "_dom_classes": [],
      "_model_module": "@jupyter-widgets/controls",
      "_model_module_version": "1.5.0",
      "_model_name": "HBoxModel",
      "_view_count": null,
      "_view_module": "@jupyter-widgets/controls",
      "_view_module_version": "1.5.0",
      "_view_name": "HBoxView",
      "box_style": "",
      "children": [
       "IPY_MODEL_024baba2b7db4c6f8a505888e63746ba",
       "IPY_MODEL_b4acf9f37fb74346af357256adc10141",
       "IPY_MODEL_b357ec12586d4c97b7dab82c63a9987f"
      ],
      "layout": "IPY_MODEL_5c3aa0b16a874c53af9d294b5dd04d47"
     }
    },
    "7e84405f6557476eb299ac6aa7a12c66": {
     "model_module": "@jupyter-widgets/base",
     "model_module_version": "1.2.0",
     "model_name": "LayoutModel",
     "state": {
      "_model_module": "@jupyter-widgets/base",
      "_model_module_version": "1.2.0",
      "_model_name": "LayoutModel",
      "_view_count": null,
      "_view_module": "@jupyter-widgets/base",
      "_view_module_version": "1.2.0",
      "_view_name": "LayoutView",
      "align_content": null,
      "align_items": null,
      "align_self": null,
      "border": null,
      "bottom": null,
      "display": null,
      "flex": null,
      "flex_flow": null,
      "grid_area": null,
      "grid_auto_columns": null,
      "grid_auto_flow": null,
      "grid_auto_rows": null,
      "grid_column": null,
      "grid_gap": null,
      "grid_row": null,
      "grid_template_areas": null,
      "grid_template_columns": null,
      "grid_template_rows": null,
      "height": null,
      "justify_content": null,
      "justify_items": null,
      "left": null,
      "margin": null,
      "max_height": null,
      "max_width": null,
      "min_height": null,
      "min_width": null,
      "object_fit": null,
      "object_position": null,
      "order": null,
      "overflow": null,
      "overflow_x": null,
      "overflow_y": null,
      "padding": null,
      "right": null,
      "top": null,
      "visibility": null,
      "width": null
     }
    },
    "9a0dc49484834c8c87c04df8d2f81c7d": {
     "model_module": "@jupyter-widgets/controls",
     "model_module_version": "1.5.0",
     "model_name": "DescriptionStyleModel",
     "state": {
      "_model_module": "@jupyter-widgets/controls",
      "_model_module_version": "1.5.0",
      "_model_name": "DescriptionStyleModel",
      "_view_count": null,
      "_view_module": "@jupyter-widgets/base",
      "_view_module_version": "1.2.0",
      "_view_name": "StyleView",
      "description_width": ""
     }
    },
    "b357ec12586d4c97b7dab82c63a9987f": {
     "model_module": "@jupyter-widgets/controls",
     "model_module_version": "1.5.0",
     "model_name": "HTMLModel",
     "state": {
      "_dom_classes": [],
      "_model_module": "@jupyter-widgets/controls",
      "_model_module_version": "1.5.0",
      "_model_name": "HTMLModel",
      "_view_count": null,
      "_view_module": "@jupyter-widgets/controls",
      "_view_module_version": "1.5.0",
      "_view_name": "HTMLView",
      "description": "",
      "description_tooltip": null,
      "layout": "IPY_MODEL_eea528b972684dcdb02e32344f7f7559",
      "placeholder": "​",
      "style": "IPY_MODEL_00718357d942402a99b98911618f5994",
      "value": " 170499072/? [00:05&lt;00:00, 48274437.05it/s]"
     }
    },
    "b4acf9f37fb74346af357256adc10141": {
     "model_module": "@jupyter-widgets/controls",
     "model_module_version": "1.5.0",
     "model_name": "FloatProgressModel",
     "state": {
      "_dom_classes": [],
      "_model_module": "@jupyter-widgets/controls",
      "_model_module_version": "1.5.0",
      "_model_name": "FloatProgressModel",
      "_view_count": null,
      "_view_module": "@jupyter-widgets/controls",
      "_view_module_version": "1.5.0",
      "_view_name": "ProgressView",
      "bar_style": "success",
      "description": "",
      "description_tooltip": null,
      "layout": "IPY_MODEL_54a26e25f6d64d5191f63f6162b570c1",
      "max": 170498071,
      "min": 0,
      "orientation": "horizontal",
      "style": "IPY_MODEL_592cf45eaa9b49f19d86bc993bcf1df3",
      "value": 170498071
     }
    },
    "eea528b972684dcdb02e32344f7f7559": {
     "model_module": "@jupyter-widgets/base",
     "model_module_version": "1.2.0",
     "model_name": "LayoutModel",
     "state": {
      "_model_module": "@jupyter-widgets/base",
      "_model_module_version": "1.2.0",
      "_model_name": "LayoutModel",
      "_view_count": null,
      "_view_module": "@jupyter-widgets/base",
      "_view_module_version": "1.2.0",
      "_view_name": "LayoutView",
      "align_content": null,
      "align_items": null,
      "align_self": null,
      "border": null,
      "bottom": null,
      "display": null,
      "flex": null,
      "flex_flow": null,
      "grid_area": null,
      "grid_auto_columns": null,
      "grid_auto_flow": null,
      "grid_auto_rows": null,
      "grid_column": null,
      "grid_gap": null,
      "grid_row": null,
      "grid_template_areas": null,
      "grid_template_columns": null,
      "grid_template_rows": null,
      "height": null,
      "justify_content": null,
      "justify_items": null,
      "left": null,
      "margin": null,
      "max_height": null,
      "max_width": null,
      "min_height": null,
      "min_width": null,
      "object_fit": null,
      "object_position": null,
      "order": null,
      "overflow": null,
      "overflow_x": null,
      "overflow_y": null,
      "padding": null,
      "right": null,
      "top": null,
      "visibility": null,
      "width": null
     }
    }
   }
  }
 },
 "nbformat": 4,
 "nbformat_minor": 1
}
