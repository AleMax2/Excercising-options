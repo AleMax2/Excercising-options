{
 "cells": [
  {
   "cell_type": "code",
   "execution_count": 41,
   "id": "80123672",
   "metadata": {},
   "outputs": [],
   "source": [
    "#from helpers import *\n",
    "from keras.layers import *\n",
    "from keras.models import Model\n",
    "from keras import optimizers\n",
    "from keras.preprocessing.image import ImageDataGenerator\n",
    "import numpy as np\n",
    "import tensorflow as tf\n",
    "from tensorflow import keras\n",
    "from tensorflow.keras import layers\n",
    "import matplotlib.pyplot as plt"
   ]
  },
  {
   "cell_type": "code",
   "execution_count": 10,
   "id": "c2286843",
   "metadata": {},
   "outputs": [
    {
     "name": "stdout",
     "output_type": "stream",
     "text": [
      "2.7.0\n",
      "[PhysicalDevice(name='/physical_device:CPU:0', device_type='CPU'), PhysicalDevice(name='/physical_device:GPU:0', device_type='GPU')]\n"
     ]
    }
   ],
   "source": [
    "print(tf.__version__)\n",
    "print(tf.config.list_physical_devices())"
   ]
  },
  {
   "cell_type": "code",
   "execution_count": 11,
   "id": "bb04f914",
   "metadata": {},
   "outputs": [
    {
     "name": "stdout",
     "output_type": "stream",
     "text": [
      "Device found : [PhysicalDevice(name='/physical_device:GPU:0', device_type='GPU')]\n"
     ]
    }
   ],
   "source": [
    "physical_device = tf.config.experimental.list_physical_devices('GPU')\n",
    "print(f'Device found : {physical_device}')"
   ]
  },
  {
   "cell_type": "code",
   "execution_count": 12,
   "id": "c7d54b2e",
   "metadata": {},
   "outputs": [
    {
     "name": "stdout",
     "output_type": "stream",
     "text": [
      "Found GPU at: /device:GPU:0\n"
     ]
    }
   ],
   "source": [
    "device_name = tf.test.gpu_device_name()\n",
    "if device_name != '/device:GPU:0':\n",
    "  raise SystemError('GPU device not found')\n",
    "print('Found GPU at: {}'.format(device_name))"
   ]
  },
  {
   "cell_type": "code",
   "execution_count": 13,
   "id": "0a9c1a38",
   "metadata": {},
   "outputs": [
    {
     "data": {
      "text/plain": [
       "[PhysicalDevice(name='/physical_device:GPU:0', device_type='GPU')]"
      ]
     },
     "execution_count": 13,
     "metadata": {},
     "output_type": "execute_result"
    }
   ],
   "source": [
    "tf.config.experimental.list_physical_devices('GPU')"
   ]
  },
  {
   "cell_type": "code",
   "execution_count": 14,
   "id": "63c7b884",
   "metadata": {},
   "outputs": [],
   "source": [
    "tf.config.experimental.get_memory_growth(physical_device[0])"
   ]
  },
  {
   "cell_type": "code",
   "execution_count": 36,
   "id": "47efca17",
   "metadata": {},
   "outputs": [],
   "source": [
    "np.random.seed(0)\n",
    "tf.random.set_seed(0)\n",
    "\n",
    "num_classes = 10\n",
    "input_shape = (32, 32, 3)\n",
    "\n",
    "# the data, split between train and test sets\n",
    "(x_train, y_train), (x_test, y_test) = keras.datasets.cifar10.load_data()\n",
    "# convert class vectors to binary class matrices\n",
    "y_train = keras.utils.to_categorical(y_train, num_classes)\n",
    "y_test = keras.utils.to_categorical(y_test, num_classes)\n",
    "datagen = ImageDataGenerator(\n",
    "    featurewise_center=True,\n",
    "    featurewise_std_normalization=True,\n",
    "    rotation_range=(0,180),\n",
    "    width_shift_range=0.1,\n",
    "    height_shift_range=0.1,\n",
    "    horizontal_flip=True)\n",
    "datagen.fit(x_train)\n",
    "datagen_test = ImageDataGenerator(\n",
    "    featurewise_center=True,\n",
    "    featurewise_std_normalization=True)\n",
    "datagen_test.fit(x_train)\n",
    "\n",
    "def split_data(images, labels, train_size=0.9, shuffle=True):\n",
    "    # 1. Get the total size of the dataset\n",
    "    size = len(images)\n",
    "    # 2. Make an indices array and shuffle it, if required\n",
    "    indices = np.arange(size)\n",
    "    if shuffle:\n",
    "        np.random.shuffle(indices)\n",
    "    # 3. Get the size of training samples\n",
    "    train_samples = int(size * train_size)\n",
    "    # 4. Split data into training and validation sets\n",
    "    x_train, y_train = images[indices[:train_samples]], labels[indices[:train_samples]]\n",
    "    x_valid, y_valid = images[indices[train_samples:]], labels[indices[train_samples:]]\n",
    "    return x_train, x_valid, y_train, y_valid\n",
    "\n",
    "\n",
    "# Splitting data into training and validation sets\n",
    "x_train, x_valid, y_train, y_valid = split_data(x_train, y_train)"
   ]
  },
  {
   "cell_type": "code",
   "execution_count": 16,
   "id": "038d9dbd",
   "metadata": {},
   "outputs": [],
   "source": [
    "# ResNet building block of two layers\n",
    "def building_block(X, filter_size, filters, stride=1):\n",
    "\n",
    "    # Save the input value for shortcut\n",
    "    X_shortcut = X\n",
    "\n",
    "    # Reshape shortcut for later adding if dimensions change\n",
    "    if stride > 1:\n",
    "\n",
    "        X_shortcut = Conv2D(filters, (1, 1), strides=stride, padding='same')(X_shortcut)\n",
    "        X_shortcut = BatchNormalization(axis=3)(X_shortcut)\n",
    "\n",
    "    # First layer of the block\n",
    "    X = Conv2D(filters, kernel_size = filter_size, strides=stride, padding='same')(X)\n",
    "    X = BatchNormalization(axis=3)(X)\n",
    "    X = Activation('relu')(X)\n",
    "\n",
    "    # Second layer of the block\n",
    "    X = Conv2D(filters, kernel_size = filter_size, strides=(1, 1), padding='same')(X)\n",
    "    X = BatchNormalization(axis=3)(X)\n",
    "    X = add([X, X_shortcut])  # Add shortcut value to main path\n",
    "    X = Activation('relu')(X)\n",
    "\n",
    "    return X"
   ]
  },
  {
   "cell_type": "code",
   "execution_count": 17,
   "id": "f1e65135",
   "metadata": {},
   "outputs": [],
   "source": [
    "# Full model\n",
    "def create_model(input_shape, classes, name):\n",
    "\n",
    "    # Define the input\n",
    "    X_input = Input(input_shape)\n",
    "\n",
    "    # Stage 1\n",
    "    X = Conv2D(filters=16, kernel_size=3, strides=(1, 1), padding='same')(X_input)\n",
    "    X = BatchNormalization(axis=3)(X)\n",
    "    X = Activation('relu')(X)\n",
    "\n",
    "    # Stage 2\n",
    "    X = building_block(X, filter_size=3, filters=16, stride=1)\n",
    "    X = building_block(X, filter_size=3, filters=16, stride=1)\n",
    "    X = building_block(X, filter_size=3, filters=16, stride=1)\n",
    "    X = building_block(X, filter_size=3, filters=16, stride=1)\n",
    "    X = building_block(X, filter_size=3, filters=16, stride=1)\n",
    "\n",
    "    # Stage 3\n",
    "    X = building_block(X, filter_size=3, filters=32, stride=2)  # dimensions change (stride=2)\n",
    "    X = building_block(X, filter_size=3, filters=32, stride=1)\n",
    "    X = building_block(X, filter_size=3, filters=32, stride=1)\n",
    "    X = building_block(X, filter_size=3, filters=32, stride=1)\n",
    "    X = building_block(X, filter_size=3, filters=32, stride=1)\n",
    "\n",
    "    # Stage 4\n",
    "    X = building_block(X, filter_size=3, filters=64, stride=2)  # dimensions change (stride=2)\n",
    "    X = building_block(X, filter_size=3, filters=64, stride=1)\n",
    "    X = building_block(X, filter_size=3, filters=64, stride=1)\n",
    "    X = building_block(X, filter_size=3, filters=64, stride=1)\n",
    "    X = building_block(X, filter_size=3, filters=64, stride=1)\n",
    "\n",
    "    # Average pooling and output layer\n",
    "    X = GlobalAveragePooling2D()(X)\n",
    "    X = Dense(classes, activation='softmax')(X)\n",
    "\n",
    "    # Create model\n",
    "    model = Model(inputs=X_input, outputs=X, name=name)\n",
    "\n",
    "    return model"
   ]
  },
  {
   "cell_type": "code",
   "execution_count": 24,
   "id": "d5feab2b",
   "metadata": {},
   "outputs": [],
   "source": [
    "batch_size = 128\n",
    "epochs = 60\n",
    "\n",
    "def scheduler(epoch, lr):\n",
    "    if epoch == 0:\n",
    "        return lr\n",
    "#     if (epoch % 10) == 0:\n",
    "#         return lr * 0.32\n",
    "    else:\n",
    "        return lr"
   ]
  },
  {
   "cell_type": "code",
   "execution_count": 25,
   "id": "e7c39994",
   "metadata": {},
   "outputs": [],
   "source": [
    "classes = y_train.shape[1]\n",
    "opt = tf.keras.optimizers.Adam(learning_rate=0.001, beta_1=0.9, beta_2=0.999, epsilon=1e-08, decay=0.0)\n",
    "ResNet32 = create_model(input_shape=input_shape, classes=classes, name='ResNet32')\n",
    "ResNet32.compile(optimizer=opt, loss='categorical_crossentropy', metrics = ['accuracy'])\n",
    "schedule = keras.callbacks.LearningRateScheduler(scheduler)"
   ]
  },
  {
   "cell_type": "code",
   "execution_count": 26,
   "id": "123a19f0",
   "metadata": {},
   "outputs": [
    {
     "name": "stdout",
     "output_type": "stream",
     "text": [
      "Epoch 1/60\n",
      "351/351 [==============================] - 52s 133ms/step - loss: 1.5327 - accuracy: 0.4435 - val_loss: 2.2570 - val_accuracy: 0.3538 - lr: 0.0010\n",
      "Epoch 2/60\n",
      "351/351 [==============================] - 46s 130ms/step - loss: 1.0747 - accuracy: 0.6140 - val_loss: 1.5102 - val_accuracy: 0.5536 - lr: 0.0010\n",
      "Epoch 3/60\n",
      "351/351 [==============================] - 46s 131ms/step - loss: 0.8986 - accuracy: 0.6798 - val_loss: 1.1612 - val_accuracy: 0.6114 - lr: 0.0010\n",
      "Epoch 4/60\n",
      "351/351 [==============================] - 46s 132ms/step - loss: 0.7950 - accuracy: 0.7208 - val_loss: 1.3846 - val_accuracy: 0.5840 - lr: 0.0010\n",
      "Epoch 5/60\n",
      "351/351 [==============================] - 47s 133ms/step - loss: 0.7145 - accuracy: 0.7480 - val_loss: 1.1478 - val_accuracy: 0.6458 - lr: 0.0010\n",
      "Epoch 6/60\n",
      "351/351 [==============================] - 46s 129ms/step - loss: 0.6463 - accuracy: 0.7747 - val_loss: 0.9083 - val_accuracy: 0.6970 - lr: 0.0010\n",
      "Epoch 7/60\n",
      "351/351 [==============================] - 46s 130ms/step - loss: 0.5993 - accuracy: 0.7906 - val_loss: 0.6320 - val_accuracy: 0.7824 - lr: 0.0010\n",
      "Epoch 8/60\n",
      "351/351 [==============================] - 46s 131ms/step - loss: 0.5664 - accuracy: 0.8013 - val_loss: 0.7574 - val_accuracy: 0.7484 - lr: 0.0010\n",
      "Epoch 9/60\n",
      "351/351 [==============================] - 47s 134ms/step - loss: 0.5338 - accuracy: 0.8147 - val_loss: 0.8327 - val_accuracy: 0.7254 - lr: 0.0010\n",
      "Epoch 10/60\n",
      "351/351 [==============================] - 46s 129ms/step - loss: 0.4964 - accuracy: 0.8272 - val_loss: 0.9747 - val_accuracy: 0.7122 - lr: 0.0010\n",
      "Epoch 11/60\n",
      "351/351 [==============================] - 45s 129ms/step - loss: 0.4775 - accuracy: 0.8335 - val_loss: 0.7094 - val_accuracy: 0.7738 - lr: 0.0010\n",
      "Epoch 12/60\n",
      "351/351 [==============================] - 45s 128ms/step - loss: 0.4564 - accuracy: 0.8432 - val_loss: 1.1046 - val_accuracy: 0.6784 - lr: 0.0010\n",
      "Epoch 13/60\n",
      "351/351 [==============================] - 46s 131ms/step - loss: 0.4293 - accuracy: 0.8499 - val_loss: 0.7387 - val_accuracy: 0.7774 - lr: 0.0010\n",
      "Epoch 14/60\n",
      "351/351 [==============================] - 46s 131ms/step - loss: 0.4156 - accuracy: 0.8570 - val_loss: 0.5917 - val_accuracy: 0.8020 - lr: 0.0010\n",
      "Epoch 15/60\n",
      "351/351 [==============================] - 129s 366ms/step - loss: 0.3998 - accuracy: 0.8602 - val_loss: 0.6201 - val_accuracy: 0.7910 - lr: 0.0010\n",
      "Epoch 16/60\n",
      "351/351 [==============================] - 90s 256ms/step - loss: 0.3781 - accuracy: 0.8691 - val_loss: 0.5771 - val_accuracy: 0.8192 - lr: 0.0010\n",
      "Epoch 17/60\n",
      "351/351 [==============================] - 46s 131ms/step - loss: 0.3631 - accuracy: 0.8739 - val_loss: 0.5880 - val_accuracy: 0.8106 - lr: 0.0010\n",
      "Epoch 18/60\n",
      "351/351 [==============================] - 46s 130ms/step - loss: 0.3520 - accuracy: 0.8761 - val_loss: 0.5585 - val_accuracy: 0.8158 - lr: 0.0010\n",
      "Epoch 19/60\n",
      "351/351 [==============================] - 46s 132ms/step - loss: 0.3414 - accuracy: 0.8814 - val_loss: 0.5955 - val_accuracy: 0.8130 - lr: 0.0010\n",
      "Epoch 20/60\n",
      "351/351 [==============================] - 48s 135ms/step - loss: 0.3285 - accuracy: 0.8870 - val_loss: 0.5625 - val_accuracy: 0.8220 - lr: 0.0010\n",
      "Epoch 21/60\n",
      "351/351 [==============================] - 47s 132ms/step - loss: 0.3194 - accuracy: 0.8903 - val_loss: 0.4969 - val_accuracy: 0.8360 - lr: 0.0010\n",
      "Epoch 22/60\n",
      "351/351 [==============================] - 45s 128ms/step - loss: 0.3055 - accuracy: 0.8939 - val_loss: 0.5730 - val_accuracy: 0.8180 - lr: 0.0010\n",
      "Epoch 23/60\n",
      "351/351 [==============================] - 45s 129ms/step - loss: 0.2979 - accuracy: 0.8968 - val_loss: 0.4621 - val_accuracy: 0.8436 - lr: 0.0010\n",
      "Epoch 24/60\n",
      "351/351 [==============================] - 46s 130ms/step - loss: 0.2856 - accuracy: 0.9015 - val_loss: 0.5492 - val_accuracy: 0.8332 - lr: 0.0010\n",
      "Epoch 25/60\n",
      "351/351 [==============================] - 45s 129ms/step - loss: 0.2770 - accuracy: 0.9025 - val_loss: 0.4548 - val_accuracy: 0.8504 - lr: 0.0010\n",
      "Epoch 26/60\n",
      "351/351 [==============================] - 46s 131ms/step - loss: 0.2681 - accuracy: 0.9067 - val_loss: 0.4903 - val_accuracy: 0.8484 - lr: 0.0010\n",
      "Epoch 27/60\n",
      "351/351 [==============================] - 46s 130ms/step - loss: 0.2557 - accuracy: 0.9102 - val_loss: 0.5611 - val_accuracy: 0.8198 - lr: 0.0010\n",
      "Epoch 28/60\n",
      "351/351 [==============================] - 45s 129ms/step - loss: 0.2557 - accuracy: 0.9099 - val_loss: 0.5863 - val_accuracy: 0.8124 - lr: 0.0010\n",
      "Epoch 29/60\n",
      "351/351 [==============================] - 45s 128ms/step - loss: 0.2456 - accuracy: 0.9146 - val_loss: 0.5657 - val_accuracy: 0.8280 - lr: 0.0010\n",
      "Epoch 30/60\n",
      "351/351 [==============================] - 46s 131ms/step - loss: 0.2415 - accuracy: 0.9143 - val_loss: 0.4489 - val_accuracy: 0.8640 - lr: 0.0010\n",
      "Epoch 31/60\n",
      "351/351 [==============================] - 45s 127ms/step - loss: 0.2338 - accuracy: 0.9174 - val_loss: 0.5616 - val_accuracy: 0.8288 - lr: 0.0010\n",
      "Epoch 32/60\n",
      "351/351 [==============================] - 45s 127ms/step - loss: 0.2260 - accuracy: 0.9196 - val_loss: 0.5683 - val_accuracy: 0.8302 - lr: 0.0010\n",
      "Epoch 33/60\n",
      "351/351 [==============================] - 45s 129ms/step - loss: 0.2230 - accuracy: 0.9218 - val_loss: 0.5270 - val_accuracy: 0.8424 - lr: 0.0010\n",
      "Epoch 34/60\n",
      "351/351 [==============================] - 45s 127ms/step - loss: 0.2125 - accuracy: 0.9241 - val_loss: 0.4744 - val_accuracy: 0.8526 - lr: 0.0010\n",
      "Epoch 35/60\n",
      "351/351 [==============================] - 45s 127ms/step - loss: 0.2120 - accuracy: 0.9256 - val_loss: 0.5444 - val_accuracy: 0.8294 - lr: 0.0010\n",
      "Epoch 36/60\n",
      "351/351 [==============================] - 45s 127ms/step - loss: 0.2047 - accuracy: 0.9281 - val_loss: 0.5633 - val_accuracy: 0.8390 - lr: 0.0010\n",
      "Epoch 37/60\n",
      "351/351 [==============================] - 46s 129ms/step - loss: 0.1962 - accuracy: 0.9315 - val_loss: 0.4644 - val_accuracy: 0.8624 - lr: 0.0010\n",
      "Epoch 38/60\n",
      "351/351 [==============================] - 45s 129ms/step - loss: 0.1894 - accuracy: 0.9318 - val_loss: 0.7887 - val_accuracy: 0.8036 - lr: 0.0010\n",
      "Epoch 39/60\n",
      "351/351 [==============================] - 46s 129ms/step - loss: 0.1916 - accuracy: 0.9321 - val_loss: 0.6010 - val_accuracy: 0.8282 - lr: 0.0010\n",
      "Epoch 40/60\n",
      "351/351 [==============================] - 45s 128ms/step - loss: 0.1782 - accuracy: 0.9364 - val_loss: 0.4646 - val_accuracy: 0.8610 - lr: 0.0010\n",
      "Epoch 41/60\n",
      "351/351 [==============================] - 46s 131ms/step - loss: 0.1783 - accuracy: 0.9366 - val_loss: 0.4420 - val_accuracy: 0.8698 - lr: 0.0010\n",
      "Epoch 42/60\n",
      "351/351 [==============================] - 45s 128ms/step - loss: 0.1739 - accuracy: 0.9390 - val_loss: 0.5734 - val_accuracy: 0.8428 - lr: 0.0010\n",
      "Epoch 43/60\n",
      "351/351 [==============================] - 45s 128ms/step - loss: 0.1700 - accuracy: 0.9405 - val_loss: 0.6108 - val_accuracy: 0.8350 - lr: 0.0010\n",
      "Epoch 44/60\n",
      "351/351 [==============================] - 45s 129ms/step - loss: 0.1673 - accuracy: 0.9404 - val_loss: 0.5216 - val_accuracy: 0.8554 - lr: 0.0010\n",
      "Epoch 45/60\n",
      "351/351 [==============================] - 46s 131ms/step - loss: 0.1659 - accuracy: 0.9403 - val_loss: 0.5224 - val_accuracy: 0.8486 - lr: 0.0010\n",
      "Epoch 46/60\n",
      "351/351 [==============================] - 45s 129ms/step - loss: 0.1582 - accuracy: 0.9438 - val_loss: 0.8788 - val_accuracy: 0.7856 - lr: 0.0010\n",
      "Epoch 47/60\n",
      "351/351 [==============================] - 45s 128ms/step - loss: 0.1567 - accuracy: 0.9441 - val_loss: 0.5895 - val_accuracy: 0.8432 - lr: 0.0010\n",
      "Epoch 48/60\n",
      "351/351 [==============================] - 46s 132ms/step - loss: 0.1522 - accuracy: 0.9447 - val_loss: 0.5068 - val_accuracy: 0.8586 - lr: 0.0010\n",
      "Epoch 49/60\n",
      "351/351 [==============================] - 46s 130ms/step - loss: 0.1531 - accuracy: 0.9465 - val_loss: 0.4964 - val_accuracy: 0.8680 - lr: 0.0010\n",
      "Epoch 50/60\n",
      "351/351 [==============================] - 46s 130ms/step - loss: 0.1487 - accuracy: 0.9462 - val_loss: 0.4344 - val_accuracy: 0.8792 - lr: 0.0010\n",
      "Epoch 51/60\n",
      "351/351 [==============================] - 46s 130ms/step - loss: 0.1435 - accuracy: 0.9487 - val_loss: 0.4596 - val_accuracy: 0.8756 - lr: 0.0010\n",
      "Epoch 52/60\n"
     ]
    },
    {
     "name": "stdout",
     "output_type": "stream",
     "text": [
      "351/351 [==============================] - 45s 128ms/step - loss: 0.1372 - accuracy: 0.9509 - val_loss: 0.6898 - val_accuracy: 0.8234 - lr: 0.0010\n",
      "Epoch 53/60\n",
      "351/351 [==============================] - 46s 131ms/step - loss: 0.1427 - accuracy: 0.9487 - val_loss: 0.5110 - val_accuracy: 0.8634 - lr: 0.0010\n",
      "Epoch 54/60\n",
      "351/351 [==============================] - 46s 130ms/step - loss: 0.1331 - accuracy: 0.9528 - val_loss: 0.5957 - val_accuracy: 0.8456 - lr: 0.0010\n",
      "Epoch 55/60\n",
      "351/351 [==============================] - 46s 130ms/step - loss: 0.1317 - accuracy: 0.9530 - val_loss: 0.6302 - val_accuracy: 0.8374 - lr: 0.0010\n",
      "Epoch 56/60\n",
      "351/351 [==============================] - 46s 129ms/step - loss: 0.1312 - accuracy: 0.9528 - val_loss: 0.5378 - val_accuracy: 0.8604 - lr: 0.0010\n",
      "Epoch 57/60\n",
      "351/351 [==============================] - 45s 129ms/step - loss: 0.1249 - accuracy: 0.9550 - val_loss: 0.4426 - val_accuracy: 0.8776 - lr: 0.0010\n",
      "Epoch 58/60\n",
      "351/351 [==============================] - 46s 130ms/step - loss: 0.1243 - accuracy: 0.9551 - val_loss: 0.4885 - val_accuracy: 0.8708 - lr: 0.0010\n",
      "Epoch 59/60\n",
      "351/351 [==============================] - 45s 128ms/step - loss: 0.1227 - accuracy: 0.9563 - val_loss: 0.4937 - val_accuracy: 0.8680 - lr: 0.0010\n",
      "Epoch 60/60\n",
      "351/351 [==============================] - 45s 129ms/step - loss: 0.1190 - accuracy: 0.9576 - val_loss: 0.6984 - val_accuracy: 0.8298 - lr: 0.0010\n",
      "100/100 [==============================] - 3s 31ms/step - loss: 0.6993 - accuracy: 0.8343\n",
      "Test accuracy: 0.8342999815940857\n"
     ]
    }
   ],
   "source": [
    "history= ResNet32.fit(datagen.flow(x_train, y_train, batch_size=batch_size), steps_per_epoch=len(x_train) / batch_size, epochs=epochs, validation_data=datagen_test.flow(x_valid,y_valid,batch_size=100),validation_steps=50,callbacks=[schedule])\n",
    "\n",
    "score = ResNet32.evaluate(datagen_test.flow(x_test, y_test,batch_size=100,shuffle=False),steps=len(x_test)/100)\n",
    "print(\"Test accuracy:\", score[1])"
   ]
  },
  {
   "cell_type": "code",
   "execution_count": 32,
   "id": "c7ef74ed",
   "metadata": {},
   "outputs": [
    {
     "data": {
      "text/plain": [
       "45000"
      ]
     },
     "execution_count": 32,
     "metadata": {},
     "output_type": "execute_result"
    }
   ],
   "source": [
    "len(x_train)"
   ]
  },
  {
   "cell_type": "code",
   "execution_count": 33,
   "id": "7fdbd370",
   "metadata": {},
   "outputs": [
    {
     "data": {
      "text/plain": [
       "5000"
      ]
     },
     "execution_count": 33,
     "metadata": {},
     "output_type": "execute_result"
    }
   ],
   "source": [
    "len(x_valid)"
   ]
  },
  {
   "cell_type": "code",
   "execution_count": 40,
   "id": "958f51f3",
   "metadata": {},
   "outputs": [],
   "source": [
    "tf.keras.optimizers.Adam?"
   ]
  },
  {
   "cell_type": "code",
   "execution_count": null,
   "id": "7fab1728",
   "metadata": {},
   "outputs": [],
   "source": []
  }
 ],
 "metadata": {
  "kernelspec": {
   "display_name": "Python 3 (ipykernel)",
   "language": "python",
   "name": "python3"
  },
  "language_info": {
   "codemirror_mode": {
    "name": "ipython",
    "version": 3
   },
   "file_extension": ".py",
   "mimetype": "text/x-python",
   "name": "python",
   "nbconvert_exporter": "python",
   "pygments_lexer": "ipython3",
   "version": "3.9.7"
  }
 },
 "nbformat": 4,
 "nbformat_minor": 5
}
