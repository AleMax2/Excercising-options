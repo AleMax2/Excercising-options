{
 "cells": [
  {
   "cell_type": "code",
   "execution_count": 1,
   "id": "26206cd8",
   "metadata": {},
   "outputs": [],
   "source": [
    "import math\n",
    "import os\n",
    "import random\n",
    "import re\n",
    "import sys\n",
    "import numpy as np\n",
    "import pandas as pd"
   ]
  },
  {
   "cell_type": "code",
   "execution_count": 15,
   "id": "1eb9c45e",
   "metadata": {},
   "outputs": [],
   "source": [
    "def miniMaxSum(arr):\n",
    "    a=sorted(arr)\n",
    "    mini = sum(a[0:(len(a)-1)])\n",
    "    maxi = sum(a[1:len(a)])\n",
    "    print(str(mini) + \" \" + str(maxi))"
   ]
  },
  {
   "cell_type": "code",
   "execution_count": 16,
   "id": "58d76efb",
   "metadata": {},
   "outputs": [],
   "source": [
    "arr = [1,2,3,4,5]"
   ]
  },
  {
   "cell_type": "code",
   "execution_count": 17,
   "id": "d55fdc93",
   "metadata": {},
   "outputs": [
    {
     "name": "stdout",
     "output_type": "stream",
     "text": [
      "10 14\n"
     ]
    }
   ],
   "source": [
    "miniMaxSum(arr)"
   ]
  },
  {
   "cell_type": "code",
   "execution_count": 14,
   "id": "5a61f82e",
   "metadata": {},
   "outputs": [
    {
     "data": {
      "text/plain": [
       "10"
      ]
     },
     "execution_count": 14,
     "metadata": {},
     "output_type": "execute_result"
    }
   ],
   "source": [
    "sum(arr[0:(len(arr)-1)])"
   ]
  },
  {
   "cell_type": "code",
   "execution_count": 18,
   "id": "49ad9818",
   "metadata": {},
   "outputs": [],
   "source": [
    "def timeConversion(s):\n",
    "    ins = s.strip()\n",
    "    is_pm = ins[-2:].lower() == 'pm'\n",
    "    time_list = list(map(int, ins[:-2].split(':')))\n",
    "    if is_pm and time_list[0] < 12:\n",
    "        time_list[0] += 12\n",
    "    if not is_pm and time_list[0] == 12:\n",
    "            time_list[0] = 0\n",
    "    print(':'.join(map(lambda x: str(x).rjust(2, '0'), time_list)))"
   ]
  },
  {
   "cell_type": "code",
   "execution_count": 19,
   "id": "6e11bc10",
   "metadata": {},
   "outputs": [
    {
     "name": "stdout",
     "output_type": "stream",
     "text": [
      "19:05:45\n"
     ]
    }
   ],
   "source": [
    "s= '07:05:45PM'\n",
    "timeConversion(s)"
   ]
  },
  {
   "cell_type": "code",
   "execution_count": 20,
   "id": "4f79cac5",
   "metadata": {},
   "outputs": [],
   "source": [
    "s.strip?"
   ]
  },
  {
   "cell_type": "code",
   "execution_count": 21,
   "id": "0cbdf4a9",
   "metadata": {},
   "outputs": [
    {
     "data": {
      "text/plain": [
       "2"
      ]
     },
     "execution_count": 21,
     "metadata": {},
     "output_type": "execute_result"
    }
   ],
   "source": [
    "ex=2.5\n",
    "int(ex)"
   ]
  },
  {
   "cell_type": "code",
   "execution_count": 26,
   "id": "6a93e786",
   "metadata": {},
   "outputs": [
    {
     "data": {
      "text/plain": [
       "4"
      ]
     },
     "execution_count": 26,
     "metadata": {},
     "output_type": "execute_result"
    }
   ],
   "source": [
    "a=[1,2,3,4,3,2,1]\n",
    "a=sorted(a)\n",
    "for i in range(0,len(a)):\n",
    "    if a[i]!=a[i-1]:\n",
    "        unique = a[i]\n",
    "unique\n",
    "    "
   ]
  },
  {
   "cell_type": "code",
   "execution_count": 28,
   "id": "bfc44b66",
   "metadata": {},
   "outputs": [
    {
     "name": "stdout",
     "output_type": "stream",
     "text": [
      "1\n"
     ]
    }
   ],
   "source": [
    "n = int(input().strip())"
   ]
  },
  {
   "cell_type": "code",
   "execution_count": 34,
   "id": "10fc4c62",
   "metadata": {},
   "outputs": [
    {
     "ename": "NameError",
     "evalue": "name 'rep' is not defined",
     "output_type": "error",
     "traceback": [
      "\u001b[1;31m---------------------------------------------------------------------------\u001b[0m",
      "\u001b[1;31mNameError\u001b[0m                                 Traceback (most recent call last)",
      "Input \u001b[1;32mIn [34]\u001b[0m, in \u001b[0;36m<cell line: 1>\u001b[1;34m()\u001b[0m\n\u001b[1;32m----> 1\u001b[0m x\u001b[38;5;241m=\u001b[39m \u001b[43mrep\u001b[49m(\u001b[38;5;241m0\u001b[39m,\u001b[38;5;241m100\u001b[39m)\n\u001b[0;32m      2\u001b[0m x\n",
      "\u001b[1;31mNameError\u001b[0m: name 'rep' is not defined"
     ]
    }
   ],
   "source": [
    "x= rep(0,100)\n",
    "x"
   ]
  },
  {
   "cell_type": "code",
   "execution_count": 38,
   "id": "09dbdc4b",
   "metadata": {},
   "outputs": [],
   "source": [
    "def countingSort(arr):\n",
    "    count = [0]*100\n",
    "    for i in arr:\n",
    "        count[i] = count[i]+1\n",
    "    return count"
   ]
  },
  {
   "cell_type": "code",
   "execution_count": 39,
   "id": "d9e7474e",
   "metadata": {},
   "outputs": [
    {
     "data": {
      "text/plain": [
       "[0,\n",
       " 0,\n",
       " 0,\n",
       " 1,\n",
       " 1,\n",
       " 2,\n",
       " 1,\n",
       " 2,\n",
       " 2,\n",
       " 3,\n",
       " 0,\n",
       " 0,\n",
       " 0,\n",
       " 0,\n",
       " 0,\n",
       " 0,\n",
       " 0,\n",
       " 0,\n",
       " 0,\n",
       " 0,\n",
       " 0,\n",
       " 0,\n",
       " 2,\n",
       " 0,\n",
       " 0,\n",
       " 0,\n",
       " 0,\n",
       " 0,\n",
       " 0,\n",
       " 0,\n",
       " 0,\n",
       " 0,\n",
       " 0,\n",
       " 1,\n",
       " 0,\n",
       " 0,\n",
       " 0,\n",
       " 0,\n",
       " 0,\n",
       " 0,\n",
       " 0,\n",
       " 0,\n",
       " 0,\n",
       " 0,\n",
       " 1,\n",
       " 0,\n",
       " 0,\n",
       " 0,\n",
       " 0,\n",
       " 0,\n",
       " 0,\n",
       " 0,\n",
       " 0,\n",
       " 0,\n",
       " 0,\n",
       " 2,\n",
       " 0,\n",
       " 0,\n",
       " 0,\n",
       " 0,\n",
       " 0,\n",
       " 0,\n",
       " 0,\n",
       " 0,\n",
       " 0,\n",
       " 0,\n",
       " 0,\n",
       " 0,\n",
       " 0,\n",
       " 0,\n",
       " 0,\n",
       " 0,\n",
       " 0,\n",
       " 0,\n",
       " 0,\n",
       " 0,\n",
       " 0,\n",
       " 0,\n",
       " 0,\n",
       " 0,\n",
       " 0,\n",
       " 0,\n",
       " 0,\n",
       " 0,\n",
       " 0,\n",
       " 0,\n",
       " 0,\n",
       " 0,\n",
       " 0,\n",
       " 0,\n",
       " 0,\n",
       " 0,\n",
       " 0,\n",
       " 0,\n",
       " 0,\n",
       " 0,\n",
       " 0,\n",
       " 0,\n",
       " 0,\n",
       " 0]"
      ]
     },
     "execution_count": 39,
     "metadata": {},
     "output_type": "execute_result"
    }
   ],
   "source": [
    "abc = [7,7,5,4,6,8,9,9,8,9,3,22,44,33,5,55,55,22]\n",
    "countingSort(abc)"
   ]
  },
  {
   "cell_type": "code",
   "execution_count": 43,
   "id": "cb0e9543",
   "metadata": {},
   "outputs": [
    {
     "data": {
      "text/plain": [
       "array([[1., 1., 1., 1., 1., 1.],\n",
       "       [1., 1., 1., 1., 1., 1.],\n",
       "       [1., 1., 1., 1., 1., 1.],\n",
       "       [1., 1., 1., 1., 1., 1.],\n",
       "       [1., 1., 1., 1., 1., 1.],\n",
       "       [1., 1., 1., 1., 1., 1.]])"
      ]
     },
     "execution_count": 43,
     "metadata": {},
     "output_type": "execute_result"
    }
   ],
   "source": [
    "import numpy as np\n",
    "matrix = np.ones(shape=(6,6))\n",
    "matrix"
   ]
  },
  {
   "cell_type": "code",
   "execution_count": 44,
   "id": "738734e9",
   "metadata": {},
   "outputs": [
    {
     "data": {
      "text/plain": [
       "array([[1., 1., 1.],\n",
       "       [1., 1., 1.],\n",
       "       [1., 1., 1.]])"
      ]
     },
     "execution_count": 44,
     "metadata": {},
     "output_type": "execute_result"
    }
   ],
   "source": [
    "matrix[0:3,0:3]"
   ]
  },
  {
   "cell_type": "code",
   "execution_count": 51,
   "id": "5ba92e38",
   "metadata": {},
   "outputs": [
    {
     "data": {
      "text/plain": [
       "[[1, 2, 3], [3, 4, 5], [6, 7, 8]]"
      ]
     },
     "execution_count": 51,
     "metadata": {},
     "output_type": "execute_result"
    }
   ],
   "source": [
    "testboard=[[1,2,3],[3,4,5],[6,7,8]]\n",
    "testboard"
   ]
  },
  {
   "cell_type": "code",
   "execution_count": 50,
   "id": "a9d811e3",
   "metadata": {},
   "outputs": [
    {
     "data": {
      "text/plain": [
       "[[1, 3, 6], [2, 4, 7], [3, 5, 8]]"
      ]
     },
     "execution_count": 50,
     "metadata": {},
     "output_type": "execute_result"
    }
   ],
   "source": [
    "new = []\n",
    "for i in range(len(testboard)):\n",
    "    new.append([])\n",
    "    for j in range(len(testboard)):\n",
    "        new[i].append(testboard[j][i])\n",
    "new"
   ]
  },
  {
   "cell_type": "code",
   "execution_count": 52,
   "id": "8f569834",
   "metadata": {},
   "outputs": [
    {
     "data": {
      "text/plain": [
       "[[6, 7, 8], [3, 4, 5], [1, 2, 3]]"
      ]
     },
     "execution_count": 52,
     "metadata": {},
     "output_type": "execute_result"
    }
   ],
   "source": [
    "testboard[::-1]"
   ]
  },
  {
   "cell_type": "code",
   "execution_count": 63,
   "id": "ba270f9e",
   "metadata": {},
   "outputs": [
    {
     "data": {
      "text/plain": [
       "[[6, 7, 8], [3, 4, 5], [1, 2, 3]]"
      ]
     },
     "execution_count": 63,
     "metadata": {},
     "output_type": "execute_result"
    }
   ],
   "source": [
    "testboard[::-1]"
   ]
  },
  {
   "cell_type": "code",
   "execution_count": 67,
   "id": "7842a133",
   "metadata": {},
   "outputs": [
    {
     "data": {
      "text/plain": [
       "1"
      ]
     },
     "execution_count": 67,
     "metadata": {},
     "output_type": "execute_result"
    }
   ],
   "source": [
    "9%2"
   ]
  },
  {
   "cell_type": "code",
   "execution_count": 68,
   "id": "025ee5c8",
   "metadata": {},
   "outputs": [
    {
     "data": {
      "text/plain": [
       "1"
      ]
     },
     "execution_count": 68,
     "metadata": {},
     "output_type": "execute_result"
    }
   ],
   "source": [
    "def fizzBuzz(n):\n",
    "    output=[]\n",
    "    for i in range(1,n+1):\n",
    "        if i%3==0 and i%5==0:\n",
    "            output.append('FizzBuzz')\n",
    "        elif i%3==0 and i%5!=0:\n",
    "            output.append('Fizz')\n",
    "        elif i%3!=0 and i%5==0:\n",
    "            output.append('Buzz')\n",
    "        else:\n",
    "            output.append(str(i))\n",
    "    return output"
   ]
  },
  {
   "cell_type": "code",
   "execution_count": 72,
   "id": "6ebdc4b4",
   "metadata": {},
   "outputs": [
    {
     "data": {
      "text/plain": [
       "['1',\n",
       " '2',\n",
       " 'Fizz',\n",
       " '4',\n",
       " 'Buzz',\n",
       " 'Fizz',\n",
       " '7',\n",
       " '8',\n",
       " 'Fizz',\n",
       " 'Buzz',\n",
       " '11',\n",
       " 'Fizz',\n",
       " '13',\n",
       " '14',\n",
       " 'FizzBuzz']"
      ]
     },
     "execution_count": 72,
     "metadata": {},
     "output_type": "execute_result"
    }
   ],
   "source": [
    "n=15\n",
    "def fizzBuzz(n):\n",
    "    daie=[]\n",
    "    for i in range(1,n+1):\n",
    "        if i%3==0 and i%5==0:\n",
    "            daie.append('FizzBuzz')\n",
    "        elif i%3==0 and i%5!=0:\n",
    "            daie.append('Fizz')\n",
    "        elif i%3!=0 and i%5==0:\n",
    "            daie.append('Buzz')\n",
    "        else:\n",
    "            daie.append(str(i))\n",
    "    return daie\n",
    "        # Write your code here\n",
    "fizzBuzz(15)"
   ]
  },
  {
   "cell_type": "code",
   "execution_count": null,
   "id": "ab0a2e65",
   "metadata": {},
   "outputs": [],
   "source": [
    "def flippingMatrix(matrix):\n",
    "    dim = len(matrix)\n",
    "    Q = matrix[0:dim/2,0:dim/2]"
   ]
  },
  {
   "cell_type": "code",
   "execution_count": 2,
   "id": "32284fa8",
   "metadata": {},
   "outputs": [],
   "source": [
    "matrix = [[112, 42, 83, 119], [56, 125, 56, 49], [15, 78, 101, 43], [62, 98, 114, 108]]"
   ]
  },
  {
   "cell_type": "code",
   "execution_count": 9,
   "id": "5e582958",
   "metadata": {},
   "outputs": [],
   "source": [
    "def flippingMatrix(matrix):\n",
    "    summo = 0\n",
    "    for i in range(n):\n",
    "        for j in range(n):\n",
    "            summo += max(max(matrix[i][j],matrix[2*n-i-1][j]),max(matrix[i][2*n-j-1],matrix[2*n-i-1][2*n-j-1]))\n",
    "    return summo"
   ]
  },
  {
   "cell_type": "code",
   "execution_count": 34,
   "id": "27970fde",
   "metadata": {},
   "outputs": [
    {
     "data": {
      "text/plain": [
       "'ooa'"
      ]
     },
     "execution_count": 34,
     "metadata": {},
     "output_type": "execute_result"
    }
   ],
   "source": [
    "def palindromeIndex(s):\n",
    "    if s==s[::-1]:\n",
    "        return -1\n",
    "    else:\n",
    "        i, j = 0, len(s) - 1\n",
    "        while (i < j) and (s[i] == s[j]):\n",
    "            i += 1\n",
    "            j -= 1\n",
    "        if i == j:\n",
    "            return 0\n",
    "        if s[i + 1 : j + 1]==s[i + 1 : j + 1][::-1]:\n",
    "            return i\n",
    "        if s[i:j]==s[i:j][::-1]:\n",
    "            return j"
   ]
  },
  {
   "cell_type": "code",
   "execution_count": 37,
   "id": "a43b2175",
   "metadata": {},
   "outputs": [
    {
     "data": {
      "text/plain": [
       "['a', 'a', 'b', 'c', 'o']"
      ]
     },
     "execution_count": 37,
     "metadata": {},
     "output_type": "execute_result"
    }
   ],
   "source": [
    "string = \"abaco\"\n",
    "sorted(string)"
   ]
  },
  {
   "cell_type": "code",
   "execution_count": 2,
   "id": "689395d0",
   "metadata": {},
   "outputs": [
    {
     "data": {
      "text/plain": [
       "[['a', 'a', 'b', 'c', 'o'],\n",
       " ['a', 'c', 'o', 's', 't'],\n",
       " ['b', 'c', 'e', 'l', 'o']]"
      ]
     },
     "execution_count": 2,
     "metadata": {},
     "output_type": "execute_result"
    }
   ],
   "source": [
    "grid = [\"abaco\",\"cosat\",\"boecl\"]\n",
    "grid[0] = sorted(grid[0])\n",
    "grid[1] = sorted(grid[1])\n",
    "grid[2] = sorted(grid[2])\n",
    "grid"
   ]
  },
  {
   "cell_type": "code",
   "execution_count": 3,
   "id": "cca29d2f",
   "metadata": {},
   "outputs": [
    {
     "data": {
      "text/plain": [
       "True"
      ]
     },
     "execution_count": 3,
     "metadata": {},
     "output_type": "execute_result"
    }
   ],
   "source": [
    "summit = grid[0][0]+grid[1][0]+grid[2][0]\n",
    "sorted(summit)==list(summit)"
   ]
  },
  {
   "cell_type": "code",
   "execution_count": 4,
   "id": "905a16dd",
   "metadata": {},
   "outputs": [
    {
     "data": {
      "text/plain": [
       "'aab'"
      ]
     },
     "execution_count": 4,
     "metadata": {},
     "output_type": "execute_result"
    }
   ],
   "source": [
    "summit"
   ]
  },
  {
   "cell_type": "code",
   "execution_count": 5,
   "id": "a16e3c40",
   "metadata": {},
   "outputs": [
    {
     "data": {
      "text/plain": [
       "'a'"
      ]
     },
     "execution_count": 5,
     "metadata": {},
     "output_type": "execute_result"
    }
   ],
   "source": [
    "grid[0][0]"
   ]
  },
  {
   "cell_type": "code",
   "execution_count": 8,
   "id": "59a4e82b",
   "metadata": {},
   "outputs": [
    {
     "data": {
      "text/plain": [
       "True"
      ]
     },
     "execution_count": 8,
     "metadata": {},
     "output_type": "execute_result"
    }
   ],
   "source": [
    "list(grid[0][0])==sorted(grid[0][0])"
   ]
  },
  {
   "cell_type": "code",
   "execution_count": 14,
   "id": "7db7b244",
   "metadata": {},
   "outputs": [
    {
     "data": {
      "text/plain": [
       "['a', 'a', 'b', 'c', 'o']"
      ]
     },
     "execution_count": 14,
     "metadata": {},
     "output_type": "execute_result"
    }
   ],
   "source": [
    "grid[0]"
   ]
  },
  {
   "cell_type": "code",
   "execution_count": 16,
   "id": "67c8e01c",
   "metadata": {},
   "outputs": [
    {
     "data": {
      "text/plain": [
       "5"
      ]
     },
     "execution_count": 16,
     "metadata": {},
     "output_type": "execute_result"
    }
   ],
   "source": [
    "len(grid[0])"
   ]
  },
  {
   "cell_type": "code",
   "execution_count": 17,
   "id": "1c7da827",
   "metadata": {},
   "outputs": [],
   "source": [
    "def gridChallenge(grid):\n",
    "    def sort_string(string):\n",
    "        return \"\".join(sorted(string))\n",
    "    string = []\n",
    "    for i in range(n):\n",
    "        string.append(sort_string(grid[i]))\n",
    "    value = True\n",
    "    for j in range(len(string[0])):\n",
    "        for i in range(n-1):\n",
    "            if string[i][j] > string[i+1][j]:\n",
    "                value = False\n",
    "                break\n",
    "        if not value:\n",
    "            break\n",
    "    \n",
    "    if value:\n",
    "        return 'YES'\n",
    "    else:\n",
    "        return 'NO'"
   ]
  },
  {
   "cell_type": "code",
   "execution_count": 19,
   "id": "87431224",
   "metadata": {},
   "outputs": [
    {
     "data": {
      "text/plain": [
       "'NO'"
      ]
     },
     "execution_count": 19,
     "metadata": {},
     "output_type": "execute_result"
    }
   ],
   "source": [
    "n=3\n",
    "gridChallenge(grid)"
   ]
  },
  {
   "cell_type": "code",
   "execution_count": 8,
   "id": "6800ac25",
   "metadata": {},
   "outputs": [
    {
     "data": {
      "text/plain": [
       "2"
      ]
     },
     "execution_count": 8,
     "metadata": {},
     "output_type": "execute_result"
    }
   ],
   "source": [
    "n = 123\n",
    "nk = str(n)*3\n",
    "int(nk[1])\n"
   ]
  },
  {
   "cell_type": "code",
   "execution_count": 49,
   "id": "ec641e47",
   "metadata": {},
   "outputs": [],
   "source": [
    "def summer(tot):\n",
    "    s = 0\n",
    "    first = int(str(tot)[0])\n",
    "    while tot > 9:\n",
    "        s += tot % 10\n",
    "        tot //= 10\n",
    "    return s + first"
   ]
  },
  {
   "cell_type": "code",
   "execution_count": 51,
   "id": "6c88ac02",
   "metadata": {},
   "outputs": [],
   "source": [
    "def superDigit(n, k):\n",
    "    if len(n)==1:\n",
    "        return n\n",
    "    return superDigit(str(sum(map(int, n))*k),1) # 1 is added to give it a random k. Remember function map().\n"
   ]
  },
  {
   "cell_type": "code",
   "execution_count": 60,
   "id": "2d005850",
   "metadata": {},
   "outputs": [
    {
     "data": {
      "text/plain": [
       "0.0047619047619047615"
      ]
     },
     "execution_count": 60,
     "metadata": {},
     "output_type": "execute_result"
    }
   ],
   "source": [
    "(4/10)*(3/9)*(2/8)*(1/7)"
   ]
  },
  {
   "cell_type": "code",
   "execution_count": 5,
   "id": "a12a06a2",
   "metadata": {},
   "outputs": [
    {
     "data": {
      "text/plain": [
       "0.041025641025641026"
      ]
     },
     "execution_count": 5,
     "metadata": {},
     "output_type": "execute_result"
    }
   ],
   "source": [
    "8/195"
   ]
  },
  {
   "cell_type": "code",
   "execution_count": 6,
   "id": "43d41411",
   "metadata": {},
   "outputs": [
    {
     "data": {
      "text/plain": [
       "0.14285714285714285"
      ]
     },
     "execution_count": 6,
     "metadata": {},
     "output_type": "execute_result"
    }
   ],
   "source": [
    "1/7"
   ]
  },
  {
   "cell_type": "code",
   "execution_count": 7,
   "id": "fa9c5eb9",
   "metadata": {},
   "outputs": [],
   "source": [
    "def gcd(a, b):\n",
    "    if a % b == 0:\n",
    "        return b\n",
    "    else:\n",
    "        return gcd(b, a % b)"
   ]
  },
  {
   "cell_type": "code",
   "execution_count": 8,
   "id": "bf0d0e58",
   "metadata": {},
   "outputs": [],
   "source": [
    "def solve(a, b, x, y):\n",
    "    return gcd(a,b) == gcd(x,y)"
   ]
  },
  {
   "cell_type": "code",
   "execution_count": 9,
   "id": "651f92d4",
   "metadata": {},
   "outputs": [
    {
     "data": {
      "text/plain": [
       "True"
      ]
     },
     "execution_count": 9,
     "metadata": {},
     "output_type": "execute_result"
    }
   ],
   "source": [
    "a=1\n",
    "b=4\n",
    "c=5\n",
    "d=9\n",
    "solve(a,b,c,d)"
   ]
  },
  {
   "cell_type": "code",
   "execution_count": 50,
   "id": "ebdd40f7",
   "metadata": {},
   "outputs": [],
   "source": [
    "def largestRectangle(h):\n",
    "    h += [0]\n",
    "    s = []\n",
    "    ma = 0\n",
    "    for i in range(0, len(h)):\n",
    "        j = i\n",
    "        while len(s) > 0 and s[-1][0].all() >= h[i].all():\n",
    "            val, j = s.pop()\n",
    "            ma = max(ma, ((i - j) * val).all())\n",
    "        s.append([h[i], j])\n",
    "    return ma"
   ]
  },
  {
   "cell_type": "code",
   "execution_count": 51,
   "id": "577c51c1",
   "metadata": {},
   "outputs": [
    {
     "data": {
      "text/plain": [
       "True"
      ]
     },
     "execution_count": 51,
     "metadata": {},
     "output_type": "execute_result"
    }
   ],
   "source": [
    "h = np.array([(1,1,1), (1,1,0), (1,0,1)])\n",
    "largestRectangle(h)"
   ]
  },
  {
   "cell_type": "code",
   "execution_count": 27,
   "id": "3221b7e1",
   "metadata": {},
   "outputs": [
    {
     "data": {
      "text/plain": [
       "array([[0, 1, 1],\n",
       "       [1, 1, 0],\n",
       "       [1, 0, 1]])"
      ]
     },
     "execution_count": 27,
     "metadata": {},
     "output_type": "execute_result"
    }
   ],
   "source": [
    "h"
   ]
  },
  {
   "cell_type": "code",
   "execution_count": 52,
   "id": "d33e4c0e",
   "metadata": {},
   "outputs": [],
   "source": [
    "def largestarea(h):\n",
    "    res = 0\n",
    "    \n",
    "    for i in range(len(h)):\n",
    "        length = 0\n",
    "        for j in range(i, -1, -1):\n",
    "            if h[j] >= h[i]:\n",
    "                length += 1\n",
    "            else:\n",
    "                break\n",
    "                \n",
    "        for j in range(i+1, len(h)):\n",
    "            if h[j] >= h[i]:\n",
    "                length += 1\n",
    "            else:\n",
    "                break\n",
    "        \n",
    "        res = max(res, length*h[i])\n",
    "            \n",
    "    return res"
   ]
  },
  {
   "cell_type": "code",
   "execution_count": 54,
   "id": "930e1e21",
   "metadata": {},
   "outputs": [
    {
     "ename": "ValueError",
     "evalue": "The truth value of an array with more than one element is ambiguous. Use a.any() or a.all()",
     "output_type": "error",
     "traceback": [
      "\u001b[1;31m---------------------------------------------------------------------------\u001b[0m",
      "\u001b[1;31mValueError\u001b[0m                                Traceback (most recent call last)",
      "Input \u001b[1;32mIn [54]\u001b[0m, in \u001b[0;36m<cell line: 1>\u001b[1;34m()\u001b[0m\n\u001b[1;32m----> 1\u001b[0m \u001b[43mlargestarea\u001b[49m\u001b[43m(\u001b[49m\u001b[43mh\u001b[49m\u001b[43m)\u001b[49m\n",
      "Input \u001b[1;32mIn [52]\u001b[0m, in \u001b[0;36mlargestarea\u001b[1;34m(h)\u001b[0m\n\u001b[0;32m      5\u001b[0m length \u001b[38;5;241m=\u001b[39m \u001b[38;5;241m0\u001b[39m\n\u001b[0;32m      6\u001b[0m \u001b[38;5;28;01mfor\u001b[39;00m j \u001b[38;5;129;01min\u001b[39;00m \u001b[38;5;28mrange\u001b[39m(i, \u001b[38;5;241m-\u001b[39m\u001b[38;5;241m1\u001b[39m, \u001b[38;5;241m-\u001b[39m\u001b[38;5;241m1\u001b[39m):\n\u001b[1;32m----> 7\u001b[0m     \u001b[38;5;28;01mif\u001b[39;00m \u001b[43mh\u001b[49m\u001b[43m[\u001b[49m\u001b[43mj\u001b[49m\u001b[43m]\u001b[49m\u001b[43m \u001b[49m\u001b[38;5;241;43m>\u001b[39;49m\u001b[38;5;241;43m=\u001b[39;49m\u001b[43m \u001b[49m\u001b[43mh\u001b[49m\u001b[43m[\u001b[49m\u001b[43mi\u001b[49m\u001b[43m]\u001b[49m:\n\u001b[0;32m      8\u001b[0m         length \u001b[38;5;241m+\u001b[39m\u001b[38;5;241m=\u001b[39m \u001b[38;5;241m1\u001b[39m\n\u001b[0;32m      9\u001b[0m     \u001b[38;5;28;01melse\u001b[39;00m:\n",
      "\u001b[1;31mValueError\u001b[0m: The truth value of an array with more than one element is ambiguous. Use a.any() or a.all()"
     ]
    }
   ],
   "source": [
    "largestarea(h)"
   ]
  },
  {
   "cell_type": "code",
   "execution_count": 58,
   "id": "a96b02f6",
   "metadata": {},
   "outputs": [],
   "source": [
    "def findLargestSquare(mat):\n",
    " \n",
    "    # base case\n",
    "#     if not mat or not len(mat):\n",
    "#         return 0\n",
    " \n",
    "    # `T[i][j]` stores the size of maximum square submatrix ending at `mat[i][j]`\n",
    "    T = [[0 for x in range(len(mat[0]))] for y in range(len(mat))]\n",
    " \n",
    "    # `max` stores the size of the largest square submatrix of 1's\n",
    "    max = 0\n",
    " \n",
    "    # fill in a bottom-up manner\n",
    "    for i in range(len(mat)):\n",
    "        for j in range(len(mat[0])):\n",
    "            T[i][j] = mat[i][j]\n",
    " \n",
    "            # if we are not at the first row or first column and the\n",
    "            # current cell has value 1\n",
    "            if i > 0 and j > 0 and mat[i][j] == 1:\n",
    "                # the largest square submatrix ending at `mat[i][j]` will be 1 plus\n",
    "                # minimum of the largest square submatrix ending at `mat[i][j-1]`,\n",
    "                # `mat[i-1][j]` and `mat[i-1][j-1]`\n",
    " \n",
    "                T[i][j] = min(T[i][j - 1], T[i - 1][j], T[i - 1][j - 1]) + 1\n",
    " \n",
    "            # update maximum size found so far\n",
    "            if max < T[i][j]:\n",
    "                max = T[i][j]\n",
    " \n",
    "    # return size of the largest square matrix\n",
    "    return max"
   ]
  },
  {
   "cell_type": "code",
   "execution_count": 59,
   "id": "444b6af7",
   "metadata": {},
   "outputs": [
    {
     "data": {
      "text/plain": [
       "2"
      ]
     },
     "execution_count": 59,
     "metadata": {},
     "output_type": "execute_result"
    }
   ],
   "source": [
    "findLargestSquare(h)"
   ]
  },
  {
   "cell_type": "code",
   "execution_count": null,
   "id": "2e1fe7a4",
   "metadata": {},
   "outputs": [],
   "source": [
    "# Fare Cycles in permutations \n",
    "n=int(input())\n",
    "a=list(map(int,input().split()))\n",
    "b=[i for i in range(1,n+1)]\n",
    "c=[]\n",
    "d=1\n",
    "e=[]\n",
    "while(len(b)>0):\n",
    "    e+=[d]\n",
    "    if(d in b):\n",
    "        b.remove(d)\n",
    "    else:\n",
    "        c+=[e]\n",
    "        e=[]\n",
    "        d=b[0]\n",
    "        continue\n",
    "    d=a[d-1]\n",
    "else:\n",
    "    e+=[e[0]]\n",
    "    c+=[e]\n",
    "print(len(c))\n",
    "for i in c:\n",
    "    print(*i)"
   ]
  },
  {
   "cell_type": "code",
   "execution_count": 15,
   "id": "4de90777",
   "metadata": {},
   "outputs": [],
   "source": [
    "stringSent = 'abacod'\n",
    "stringRec =  'abaco'"
   ]
  },
  {
   "cell_type": "code",
   "execution_count": 16,
   "id": "e3bd9484",
   "metadata": {},
   "outputs": [
    {
     "data": {
      "text/plain": [
       "[0, 1, 2, 3, 4, 5]"
      ]
     },
     "execution_count": 16,
     "metadata": {},
     "output_type": "execute_result"
    }
   ],
   "source": [
    "counter = []\n",
    "for i in range(len(string1)):\n",
    "    counter.append(i)\n",
    "counter   "
   ]
  },
  {
   "cell_type": "code",
   "execution_count": 22,
   "id": "49f82ffb",
   "metadata": {},
   "outputs": [],
   "source": [
    "def lostCharNW(stringSent, stringRec):\n",
    "    stringRec = stringRec +\"!\"\n",
    "    lost = []\n",
    "    for i in range(len(stringSent)):\n",
    "        if stringSent[i]!=stringRec[i]:\n",
    "            lost.append(stringSent[i])\n",
    "    return lost"
   ]
  },
  {
   "cell_type": "code",
   "execution_count": 23,
   "id": "b60564ba",
   "metadata": {},
   "outputs": [
    {
     "data": {
      "text/plain": [
       "['d']"
      ]
     },
     "execution_count": 23,
     "metadata": {},
     "output_type": "execute_result"
    }
   ],
   "source": [
    "lostCharNW(stringSent, stringRec)"
   ]
  },
  {
   "cell_type": "code",
   "execution_count": 20,
   "id": "c1e5195a",
   "metadata": {},
   "outputs": [
    {
     "data": {
      "text/plain": [
       "'abaco!'"
      ]
     },
     "execution_count": 20,
     "metadata": {},
     "output_type": "execute_result"
    }
   ],
   "source": [
    "stringRec +\"!\""
   ]
  },
  {
   "cell_type": "code",
   "execution_count": 45,
   "id": "3997c317",
   "metadata": {},
   "outputs": [],
   "source": [
    "def minLength(systemState, dist):\n",
    "    result = 0\n",
    "    if sum(systemState)==len(systemState):\n",
    "        result= 0\n",
    "    else:\n",
    "        for i in range(len(systemState)):\n",
    "            working = []\n",
    "            if systemState[i]==1:\n",
    "                working.append(systemState[i])\n",
    "            if any(x in working for x in systemState)==False:\n",
    "                distances = []\n",
    "                for j in range(len(working)):\n",
    "                    distances.append(int(working[j])-int(systemState[i]))\n",
    "                    keep= min(distances)\n",
    "                    result+=keep\n",
    "    return result"
   ]
  },
  {
   "cell_type": "code",
   "execution_count": 46,
   "id": "76337cd6",
   "metadata": {},
   "outputs": [
    {
     "data": {
      "text/plain": [
       "0"
      ]
     },
     "execution_count": 46,
     "metadata": {},
     "output_type": "execute_result"
    }
   ],
   "source": [
    "systemState = [1,0,1]\n",
    "dist = [1,5,7]\n",
    "minLength(systemState, dist)"
   ]
  },
  {
   "cell_type": "code",
   "execution_count": 47,
   "id": "f945fb8e",
   "metadata": {},
   "outputs": [
    {
     "data": {
      "text/plain": [
       "3"
      ]
     },
     "execution_count": 47,
     "metadata": {},
     "output_type": "execute_result"
    }
   ],
   "source": [
    "len(systemState)"
   ]
  },
  {
   "cell_type": "code",
   "execution_count": 35,
   "id": "a52f7236",
   "metadata": {},
   "outputs": [
    {
     "data": {
      "text/plain": [
       "False"
      ]
     },
     "execution_count": 35,
     "metadata": {},
     "output_type": "execute_result"
    }
   ],
   "source": [
    "L = [1,2,3,4,5,6]\n",
    "M = [8,9,10]\n",
    "any(x in M for x in L)"
   ]
  },
  {
   "cell_type": "code",
   "execution_count": null,
   "id": "142dd541",
   "metadata": {},
   "outputs": [],
   "source": []
  }
 ],
 "metadata": {
  "kernelspec": {
   "display_name": "Python 3 (ipykernel)",
   "language": "python",
   "name": "python3"
  },
  "language_info": {
   "codemirror_mode": {
    "name": "ipython",
    "version": 3
   },
   "file_extension": ".py",
   "mimetype": "text/x-python",
   "name": "python",
   "nbconvert_exporter": "python",
   "pygments_lexer": "ipython3",
   "version": "3.9.7"
  }
 },
 "nbformat": 4,
 "nbformat_minor": 5
}
