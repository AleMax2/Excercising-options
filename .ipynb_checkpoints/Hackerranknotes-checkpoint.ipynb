{
 "cells": [
  {
   "cell_type": "code",
   "execution_count": 1,
   "id": "26206cd8",
   "metadata": {},
   "outputs": [],
   "source": [
    "import math\n",
    "import os\n",
    "import random\n",
    "import re\n",
    "import sys\n",
    "import numpy as np\n",
    "import pandas as pd"
   ]
  },
  {
   "cell_type": "code",
   "execution_count": 15,
   "id": "1eb9c45e",
   "metadata": {},
   "outputs": [],
   "source": [
    "def miniMaxSum(arr):\n",
    "    a=sorted(arr)\n",
    "    mini = sum(a[0:(len(a)-1)])\n",
    "    maxi = sum(a[1:len(a)])\n",
    "    print(str(mini) + \" \" + str(maxi))"
   ]
  },
  {
   "cell_type": "code",
   "execution_count": 16,
   "id": "58d76efb",
   "metadata": {},
   "outputs": [],
   "source": [
    "arr = [1,2,3,4,5]"
   ]
  },
  {
   "cell_type": "code",
   "execution_count": 17,
   "id": "d55fdc93",
   "metadata": {},
   "outputs": [
    {
     "name": "stdout",
     "output_type": "stream",
     "text": [
      "10 14\n"
     ]
    }
   ],
   "source": [
    "miniMaxSum(arr)"
   ]
  },
  {
   "cell_type": "code",
   "execution_count": 14,
   "id": "5a61f82e",
   "metadata": {},
   "outputs": [
    {
     "data": {
      "text/plain": [
       "10"
      ]
     },
     "execution_count": 14,
     "metadata": {},
     "output_type": "execute_result"
    }
   ],
   "source": [
    "sum(arr[0:(len(arr)-1)])"
   ]
  },
  {
   "cell_type": "code",
   "execution_count": 18,
   "id": "49ad9818",
   "metadata": {},
   "outputs": [],
   "source": [
    "def timeConversion(s):\n",
    "    ins = s.strip()\n",
    "    is_pm = ins[-2:].lower() == 'pm'\n",
    "    time_list = list(map(int, ins[:-2].split(':')))\n",
    "    if is_pm and time_list[0] < 12:\n",
    "        time_list[0] += 12\n",
    "    if not is_pm and time_list[0] == 12:\n",
    "            time_list[0] = 0\n",
    "    print(':'.join(map(lambda x: str(x).rjust(2, '0'), time_list)))"
   ]
  },
  {
   "cell_type": "code",
   "execution_count": 19,
   "id": "6e11bc10",
   "metadata": {},
   "outputs": [
    {
     "name": "stdout",
     "output_type": "stream",
     "text": [
      "19:05:45\n"
     ]
    }
   ],
   "source": [
    "s= '07:05:45PM'\n",
    "timeConversion(s)"
   ]
  },
  {
   "cell_type": "code",
   "execution_count": 20,
   "id": "4f79cac5",
   "metadata": {},
   "outputs": [],
   "source": [
    "s.strip?"
   ]
  },
  {
   "cell_type": "code",
   "execution_count": 21,
   "id": "0cbdf4a9",
   "metadata": {},
   "outputs": [
    {
     "data": {
      "text/plain": [
       "2"
      ]
     },
     "execution_count": 21,
     "metadata": {},
     "output_type": "execute_result"
    }
   ],
   "source": [
    "ex=2.5\n",
    "int(ex)"
   ]
  },
  {
   "cell_type": "code",
   "execution_count": 26,
   "id": "6a93e786",
   "metadata": {},
   "outputs": [
    {
     "data": {
      "text/plain": [
       "4"
      ]
     },
     "execution_count": 26,
     "metadata": {},
     "output_type": "execute_result"
    }
   ],
   "source": [
    "a=[1,2,3,4,3,2,1]\n",
    "a=sorted(a)\n",
    "for i in range(0,len(a)):\n",
    "    if a[i]!=a[i-1]:\n",
    "        unique = a[i]\n",
    "unique\n",
    "    "
   ]
  },
  {
   "cell_type": "code",
   "execution_count": 28,
   "id": "bfc44b66",
   "metadata": {},
   "outputs": [
    {
     "name": "stdout",
     "output_type": "stream",
     "text": [
      "1\n"
     ]
    }
   ],
   "source": [
    "n = int(input().strip())"
   ]
  },
  {
   "cell_type": "code",
   "execution_count": 34,
   "id": "10fc4c62",
   "metadata": {},
   "outputs": [
    {
     "ename": "NameError",
     "evalue": "name 'rep' is not defined",
     "output_type": "error",
     "traceback": [
      "\u001b[1;31m---------------------------------------------------------------------------\u001b[0m",
      "\u001b[1;31mNameError\u001b[0m                                 Traceback (most recent call last)",
      "Input \u001b[1;32mIn [34]\u001b[0m, in \u001b[0;36m<cell line: 1>\u001b[1;34m()\u001b[0m\n\u001b[1;32m----> 1\u001b[0m x\u001b[38;5;241m=\u001b[39m \u001b[43mrep\u001b[49m(\u001b[38;5;241m0\u001b[39m,\u001b[38;5;241m100\u001b[39m)\n\u001b[0;32m      2\u001b[0m x\n",
      "\u001b[1;31mNameError\u001b[0m: name 'rep' is not defined"
     ]
    }
   ],
   "source": [
    "x= rep(0,100)\n",
    "x"
   ]
  },
  {
   "cell_type": "code",
   "execution_count": 38,
   "id": "09dbdc4b",
   "metadata": {},
   "outputs": [],
   "source": [
    "def countingSort(arr):\n",
    "    count = [0]*100\n",
    "    for i in arr:\n",
    "        count[i] = count[i]+1\n",
    "    return count"
   ]
  },
  {
   "cell_type": "code",
   "execution_count": 39,
   "id": "d9e7474e",
   "metadata": {},
   "outputs": [
    {
     "data": {
      "text/plain": [
       "[0,\n",
       " 0,\n",
       " 0,\n",
       " 1,\n",
       " 1,\n",
       " 2,\n",
       " 1,\n",
       " 2,\n",
       " 2,\n",
       " 3,\n",
       " 0,\n",
       " 0,\n",
       " 0,\n",
       " 0,\n",
       " 0,\n",
       " 0,\n",
       " 0,\n",
       " 0,\n",
       " 0,\n",
       " 0,\n",
       " 0,\n",
       " 0,\n",
       " 2,\n",
       " 0,\n",
       " 0,\n",
       " 0,\n",
       " 0,\n",
       " 0,\n",
       " 0,\n",
       " 0,\n",
       " 0,\n",
       " 0,\n",
       " 0,\n",
       " 1,\n",
       " 0,\n",
       " 0,\n",
       " 0,\n",
       " 0,\n",
       " 0,\n",
       " 0,\n",
       " 0,\n",
       " 0,\n",
       " 0,\n",
       " 0,\n",
       " 1,\n",
       " 0,\n",
       " 0,\n",
       " 0,\n",
       " 0,\n",
       " 0,\n",
       " 0,\n",
       " 0,\n",
       " 0,\n",
       " 0,\n",
       " 0,\n",
       " 2,\n",
       " 0,\n",
       " 0,\n",
       " 0,\n",
       " 0,\n",
       " 0,\n",
       " 0,\n",
       " 0,\n",
       " 0,\n",
       " 0,\n",
       " 0,\n",
       " 0,\n",
       " 0,\n",
       " 0,\n",
       " 0,\n",
       " 0,\n",
       " 0,\n",
       " 0,\n",
       " 0,\n",
       " 0,\n",
       " 0,\n",
       " 0,\n",
       " 0,\n",
       " 0,\n",
       " 0,\n",
       " 0,\n",
       " 0,\n",
       " 0,\n",
       " 0,\n",
       " 0,\n",
       " 0,\n",
       " 0,\n",
       " 0,\n",
       " 0,\n",
       " 0,\n",
       " 0,\n",
       " 0,\n",
       " 0,\n",
       " 0,\n",
       " 0,\n",
       " 0,\n",
       " 0,\n",
       " 0,\n",
       " 0,\n",
       " 0]"
      ]
     },
     "execution_count": 39,
     "metadata": {},
     "output_type": "execute_result"
    }
   ],
   "source": [
    "abc = [7,7,5,4,6,8,9,9,8,9,3,22,44,33,5,55,55,22]\n",
    "countingSort(abc)"
   ]
  },
  {
   "cell_type": "code",
   "execution_count": 43,
   "id": "cb0e9543",
   "metadata": {},
   "outputs": [
    {
     "data": {
      "text/plain": [
       "array([[1., 1., 1., 1., 1., 1.],\n",
       "       [1., 1., 1., 1., 1., 1.],\n",
       "       [1., 1., 1., 1., 1., 1.],\n",
       "       [1., 1., 1., 1., 1., 1.],\n",
       "       [1., 1., 1., 1., 1., 1.],\n",
       "       [1., 1., 1., 1., 1., 1.]])"
      ]
     },
     "execution_count": 43,
     "metadata": {},
     "output_type": "execute_result"
    }
   ],
   "source": [
    "import numpy as np\n",
    "matrix = np.ones(shape=(6,6))\n",
    "matrix"
   ]
  },
  {
   "cell_type": "code",
   "execution_count": 44,
   "id": "738734e9",
   "metadata": {},
   "outputs": [
    {
     "data": {
      "text/plain": [
       "array([[1., 1., 1.],\n",
       "       [1., 1., 1.],\n",
       "       [1., 1., 1.]])"
      ]
     },
     "execution_count": 44,
     "metadata": {},
     "output_type": "execute_result"
    }
   ],
   "source": [
    "matrix[0:3,0:3]"
   ]
  },
  {
   "cell_type": "code",
   "execution_count": 51,
   "id": "5ba92e38",
   "metadata": {},
   "outputs": [
    {
     "data": {
      "text/plain": [
       "[[1, 2, 3], [3, 4, 5], [6, 7, 8]]"
      ]
     },
     "execution_count": 51,
     "metadata": {},
     "output_type": "execute_result"
    }
   ],
   "source": [
    "testboard=[[1,2,3],[3,4,5],[6,7,8]]\n",
    "testboard"
   ]
  },
  {
   "cell_type": "code",
   "execution_count": 50,
   "id": "a9d811e3",
   "metadata": {},
   "outputs": [
    {
     "data": {
      "text/plain": [
       "[[1, 3, 6], [2, 4, 7], [3, 5, 8]]"
      ]
     },
     "execution_count": 50,
     "metadata": {},
     "output_type": "execute_result"
    }
   ],
   "source": [
    "new = []\n",
    "for i in range(len(testboard)):\n",
    "    new.append([])\n",
    "    for j in range(len(testboard)):\n",
    "        new[i].append(testboard[j][i])\n",
    "new"
   ]
  },
  {
   "cell_type": "code",
   "execution_count": 52,
   "id": "8f569834",
   "metadata": {},
   "outputs": [
    {
     "data": {
      "text/plain": [
       "[[6, 7, 8], [3, 4, 5], [1, 2, 3]]"
      ]
     },
     "execution_count": 52,
     "metadata": {},
     "output_type": "execute_result"
    }
   ],
   "source": [
    "testboard[::-1]"
   ]
  },
  {
   "cell_type": "code",
   "execution_count": 63,
   "id": "ba270f9e",
   "metadata": {},
   "outputs": [
    {
     "data": {
      "text/plain": [
       "[[6, 7, 8], [3, 4, 5], [1, 2, 3]]"
      ]
     },
     "execution_count": 63,
     "metadata": {},
     "output_type": "execute_result"
    }
   ],
   "source": [
    "testboard[::-1]"
   ]
  },
  {
   "cell_type": "code",
   "execution_count": 67,
   "id": "7842a133",
   "metadata": {},
   "outputs": [
    {
     "data": {
      "text/plain": [
       "1"
      ]
     },
     "execution_count": 67,
     "metadata": {},
     "output_type": "execute_result"
    }
   ],
   "source": [
    "9%2"
   ]
  },
  {
   "cell_type": "code",
   "execution_count": 68,
   "id": "025ee5c8",
   "metadata": {},
   "outputs": [
    {
     "data": {
      "text/plain": [
       "1"
      ]
     },
     "execution_count": 68,
     "metadata": {},
     "output_type": "execute_result"
    }
   ],
   "source": [
    "def fizzBuzz(n):\n",
    "    output=[]\n",
    "    for i in range(1,n+1):\n",
    "        if i%3==0 and i%5==0:\n",
    "            output.append('FizzBuzz')\n",
    "        elif i%3==0 and i%5!=0:\n",
    "            output.append('Fizz')\n",
    "        elif i%3!=0 and i%5==0:\n",
    "            output.append('Buzz')\n",
    "        else:\n",
    "            output.append(str(i))\n",
    "    return output"
   ]
  },
  {
   "cell_type": "code",
   "execution_count": 72,
   "id": "6ebdc4b4",
   "metadata": {},
   "outputs": [
    {
     "data": {
      "text/plain": [
       "['1',\n",
       " '2',\n",
       " 'Fizz',\n",
       " '4',\n",
       " 'Buzz',\n",
       " 'Fizz',\n",
       " '7',\n",
       " '8',\n",
       " 'Fizz',\n",
       " 'Buzz',\n",
       " '11',\n",
       " 'Fizz',\n",
       " '13',\n",
       " '14',\n",
       " 'FizzBuzz']"
      ]
     },
     "execution_count": 72,
     "metadata": {},
     "output_type": "execute_result"
    }
   ],
   "source": [
    "n=15\n",
    "def fizzBuzz(n):\n",
    "    daie=[]\n",
    "    for i in range(1,n+1):\n",
    "        if i%3==0 and i%5==0:\n",
    "            daie.append('FizzBuzz')\n",
    "        elif i%3==0 and i%5!=0:\n",
    "            daie.append('Fizz')\n",
    "        elif i%3!=0 and i%5==0:\n",
    "            daie.append('Buzz')\n",
    "        else:\n",
    "            daie.append(str(i))\n",
    "    return daie\n",
    "        # Write your code here\n",
    "fizzBuzz(15)"
   ]
  },
  {
   "cell_type": "code",
   "execution_count": null,
   "id": "ab0a2e65",
   "metadata": {},
   "outputs": [],
   "source": [
    "def flippingMatrix(matrix):\n",
    "    dim = len(matrix)\n",
    "    Q = matrix[0:dim/2,0:dim/2]"
   ]
  },
  {
   "cell_type": "code",
   "execution_count": 2,
   "id": "32284fa8",
   "metadata": {},
   "outputs": [],
   "source": [
    "matrix = [[112, 42, 83, 119], [56, 125, 56, 49], [15, 78, 101, 43], [62, 98, 114, 108]]"
   ]
  },
  {
   "cell_type": "code",
   "execution_count": 9,
   "id": "5e582958",
   "metadata": {},
   "outputs": [],
   "source": [
    "def flippingMatrix(matrix):\n",
    "    summo = 0\n",
    "    for i in range(n):\n",
    "        for j in range(n):\n",
    "            summo += max(max(matrix[i][j],matrix[2*n-i-1][j]),max(matrix[i][2*n-j-1],matrix[2*n-i-1][2*n-j-1]))\n",
    "    return summo"
   ]
  },
  {
   "cell_type": "code",
   "execution_count": 34,
   "id": "27970fde",
   "metadata": {},
   "outputs": [
    {
     "data": {
      "text/plain": [
       "'ooa'"
      ]
     },
     "execution_count": 34,
     "metadata": {},
     "output_type": "execute_result"
    }
   ],
   "source": [
    "def palindromeIndex(s):\n",
    "    if s==s[::-1]:\n",
    "        return -1\n",
    "    else:\n",
    "        i, j = 0, len(s) - 1\n",
    "        while (i < j) and (s[i] == s[j]):\n",
    "            i += 1\n",
    "            j -= 1\n",
    "        if i == j:\n",
    "            return 0\n",
    "        if s[i + 1 : j + 1]==s[i + 1 : j + 1][::-1]:\n",
    "            return i\n",
    "        if s[i:j]==s[i:j][::-1]:\n",
    "            return j"
   ]
  },
  {
   "cell_type": "code",
   "execution_count": 37,
   "id": "a43b2175",
   "metadata": {},
   "outputs": [
    {
     "data": {
      "text/plain": [
       "['a', 'a', 'b', 'c', 'o']"
      ]
     },
     "execution_count": 37,
     "metadata": {},
     "output_type": "execute_result"
    }
   ],
   "source": [
    "string = \"abaco\"\n",
    "sorted(string)"
   ]
  },
  {
   "cell_type": "code",
   "execution_count": 2,
   "id": "689395d0",
   "metadata": {},
   "outputs": [
    {
     "data": {
      "text/plain": [
       "[['a', 'a', 'b', 'c', 'o'],\n",
       " ['a', 'c', 'o', 's', 't'],\n",
       " ['b', 'c', 'e', 'l', 'o']]"
      ]
     },
     "execution_count": 2,
     "metadata": {},
     "output_type": "execute_result"
    }
   ],
   "source": [
    "grid = [\"abaco\",\"cosat\",\"boecl\"]\n",
    "grid[0] = sorted(grid[0])\n",
    "grid[1] = sorted(grid[1])\n",
    "grid[2] = sorted(grid[2])\n",
    "grid"
   ]
  },
  {
   "cell_type": "code",
   "execution_count": 3,
   "id": "cca29d2f",
   "metadata": {},
   "outputs": [
    {
     "data": {
      "text/plain": [
       "True"
      ]
     },
     "execution_count": 3,
     "metadata": {},
     "output_type": "execute_result"
    }
   ],
   "source": [
    "summit = grid[0][0]+grid[1][0]+grid[2][0]\n",
    "sorted(summit)==list(summit)"
   ]
  },
  {
   "cell_type": "code",
   "execution_count": 4,
   "id": "905a16dd",
   "metadata": {},
   "outputs": [
    {
     "data": {
      "text/plain": [
       "'aab'"
      ]
     },
     "execution_count": 4,
     "metadata": {},
     "output_type": "execute_result"
    }
   ],
   "source": [
    "summit"
   ]
  },
  {
   "cell_type": "code",
   "execution_count": 5,
   "id": "a16e3c40",
   "metadata": {},
   "outputs": [
    {
     "data": {
      "text/plain": [
       "'a'"
      ]
     },
     "execution_count": 5,
     "metadata": {},
     "output_type": "execute_result"
    }
   ],
   "source": [
    "grid[0][0]"
   ]
  },
  {
   "cell_type": "code",
   "execution_count": 8,
   "id": "59a4e82b",
   "metadata": {},
   "outputs": [
    {
     "data": {
      "text/plain": [
       "True"
      ]
     },
     "execution_count": 8,
     "metadata": {},
     "output_type": "execute_result"
    }
   ],
   "source": [
    "list(grid[0][0])==sorted(grid[0][0])"
   ]
  },
  {
   "cell_type": "code",
   "execution_count": 14,
   "id": "7db7b244",
   "metadata": {},
   "outputs": [
    {
     "data": {
      "text/plain": [
       "['a', 'a', 'b', 'c', 'o']"
      ]
     },
     "execution_count": 14,
     "metadata": {},
     "output_type": "execute_result"
    }
   ],
   "source": [
    "grid[0]"
   ]
  },
  {
   "cell_type": "code",
   "execution_count": 16,
   "id": "67c8e01c",
   "metadata": {},
   "outputs": [
    {
     "data": {
      "text/plain": [
       "5"
      ]
     },
     "execution_count": 16,
     "metadata": {},
     "output_type": "execute_result"
    }
   ],
   "source": [
    "len(grid[0])"
   ]
  },
  {
   "cell_type": "code",
   "execution_count": 17,
   "id": "1c7da827",
   "metadata": {},
   "outputs": [],
   "source": [
    "def gridChallenge(grid):\n",
    "    def sort_string(string):\n",
    "        return \"\".join(sorted(string))\n",
    "    string = []\n",
    "    for i in range(n):\n",
    "        string.append(sort_string(grid[i]))\n",
    "    value = True\n",
    "    for j in range(len(string[0])):\n",
    "        for i in range(n-1):\n",
    "            if string[i][j] > string[i+1][j]:\n",
    "                value = False\n",
    "                break\n",
    "        if not value:\n",
    "            break\n",
    "    \n",
    "    if value:\n",
    "        return 'YES'\n",
    "    else:\n",
    "        return 'NO'"
   ]
  },
  {
   "cell_type": "code",
   "execution_count": 19,
   "id": "87431224",
   "metadata": {},
   "outputs": [
    {
     "data": {
      "text/plain": [
       "'NO'"
      ]
     },
     "execution_count": 19,
     "metadata": {},
     "output_type": "execute_result"
    }
   ],
   "source": [
    "n=3\n",
    "gridChallenge(grid)"
   ]
  },
  {
   "cell_type": "code",
   "execution_count": null,
   "id": "6c88ac02",
   "metadata": {},
   "outputs": [],
   "source": []
  }
 ],
 "metadata": {
  "kernelspec": {
   "display_name": "Python 3 (ipykernel)",
   "language": "python",
   "name": "python3"
  },
  "language_info": {
   "codemirror_mode": {
    "name": "ipython",
    "version": 3
   },
   "file_extension": ".py",
   "mimetype": "text/x-python",
   "name": "python",
   "nbconvert_exporter": "python",
   "pygments_lexer": "ipython3",
   "version": "3.9.7"
  }
 },
 "nbformat": 4,
 "nbformat_minor": 5
}
