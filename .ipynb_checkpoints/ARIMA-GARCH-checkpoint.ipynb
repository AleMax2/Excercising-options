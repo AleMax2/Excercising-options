{
 "cells": [
  {
   "cell_type": "code",
   "execution_count": 46,
   "id": "7d519114",
   "metadata": {},
   "outputs": [],
   "source": [
    "import pmdarima\n",
    "import pandas as pd\n",
    "import numpy as np\n",
    "import matplotlib.pyplot as plt"
   ]
  },
  {
   "cell_type": "code",
   "execution_count": 47,
   "id": "81a9ca22",
   "metadata": {},
   "outputs": [
    {
     "data": {
      "text/plain": [
       "array([[ 209.59],\n",
       "       [ 210.88],\n",
       "       [ 210.65],\n",
       "       ...,\n",
       "       [2699.63],\n",
       "       [2716.31],\n",
       "       [2718.37]], dtype=float32)"
      ]
     },
     "execution_count": 47,
     "metadata": {},
     "output_type": "execute_result"
    }
   ],
   "source": [
    "# load the dataset\n",
    "dataframe = pd.read_csv('archive/spx.csv', usecols=[1], engine='python')\n",
    "dataset = dataframe.values\n",
    "dataset = dataset.astype('float32')\n",
    "dataset"
   ]
  },
  {
   "cell_type": "code",
   "execution_count": 48,
   "id": "4af31c9e",
   "metadata": {},
   "outputs": [
    {
     "name": "stdout",
     "output_type": "stream",
     "text": [
      "5734 2458\n"
     ]
    }
   ],
   "source": [
    "# split into train and test sets\n",
    "train_size = int(len(dataset) * 0.7)\n",
    "test_size = len(dataset) - train_size\n",
    "train, test = dataset[0:train_size,:], dataset[train_size:len(dataset),:]\n",
    "print(len(train), len(test))"
   ]
  },
  {
   "cell_type": "code",
   "execution_count": 49,
   "id": "77876dca",
   "metadata": {},
   "outputs": [],
   "source": [
    "# convert an array of values into a dataset matrix\n",
    "def create_dataset(dataset, look_back=1):\n",
    "\tdataX, dataY = [], []\n",
    "\tfor i in range(len(dataset)-look_back-1):\n",
    "\t\ta = dataset[i:(i+look_back), 0]\n",
    "\t\tdataX.append(a)\n",
    "\t\tdataY.append(dataset[i + look_back, 0])\n",
    "\treturn np.array(dataX), np.array(dataY)"
   ]
  },
  {
   "cell_type": "code",
   "execution_count": 50,
   "id": "6f97a4a8",
   "metadata": {},
   "outputs": [],
   "source": [
    "look_back = 1\n",
    "trainX, trainY = create_dataset(train, look_back)\n",
    "testX, testY = create_dataset(test, look_back)"
   ]
  },
  {
   "cell_type": "code",
   "execution_count": 51,
   "id": "820cabec",
   "metadata": {},
   "outputs": [
    {
     "data": {
      "text/plain": [
       "(5732, 1)"
      ]
     },
     "execution_count": 51,
     "metadata": {},
     "output_type": "execute_result"
    }
   ],
   "source": [
    "trainX.shape"
   ]
  },
  {
   "cell_type": "code",
   "execution_count": 52,
   "id": "9762eb41",
   "metadata": {},
   "outputs": [],
   "source": [
    "# trainX = np.reshape(trainX, (trainX.shape[0], 1, trainX.shape[1]))\n",
    "# testX = np.reshape(testX, (testX.shape[0], 1, testX.shape[1]))"
   ]
  },
  {
   "cell_type": "code",
   "execution_count": 53,
   "id": "273ba700",
   "metadata": {},
   "outputs": [],
   "source": [
    "#automatically fit the optimal ARIMA model for given time series\n",
    "arima_model_fitted = pmdarima.auto_arima(train)\n",
    "# one-step out-of sample forecast\n",
    "forecast =arima_model_fitted.predict(n_periods=1)[0]\n",
    "\n",
    "# # load statsmodels\n",
    "# import statsmodels.tsa.arima_model stm\n",
    "# # fit ARIMA model\n",
    "# model = stm.ARIMA(dataset, order=(3,1,2))\n",
    "# model_fit = model.fit()\n",
    "# # one-step out-of sample forecast\n",
    "# forecast = model_fit.forecast()[0]"
   ]
  },
  {
   "cell_type": "code",
   "execution_count": 54,
   "id": "390b92f3",
   "metadata": {},
   "outputs": [
    {
     "data": {
      "text/plain": [
       "ARIMA(order=(1, 1, 1), scoring_args={}, suppress_warnings=True)"
      ]
     },
     "execution_count": 54,
     "metadata": {},
     "output_type": "execute_result"
    }
   ],
   "source": [
    "arima_model_fitted"
   ]
  },
  {
   "cell_type": "code",
   "execution_count": 55,
   "id": "df43dc54",
   "metadata": {},
   "outputs": [],
   "source": [
    "model = pmdarima.arima.ARIMA(order=(1,1,1))\n",
    "model_fit = model.fit(trainX)"
   ]
  },
  {
   "cell_type": "code",
   "execution_count": 34,
   "id": "df39b71a",
   "metadata": {},
   "outputs": [
    {
     "ename": "TypeError",
     "evalue": "n_periods must be an int",
     "output_type": "error",
     "traceback": [
      "\u001b[1;31m---------------------------------------------------------------------------\u001b[0m",
      "\u001b[1;31mTypeError\u001b[0m                                 Traceback (most recent call last)",
      "Input \u001b[1;32mIn [34]\u001b[0m, in \u001b[0;36m<cell line: 1>\u001b[1;34m()\u001b[0m\n\u001b[1;32m----> 1\u001b[0m trainPredict \u001b[38;5;241m=\u001b[39m \u001b[43mmodel\u001b[49m\u001b[38;5;241;43m.\u001b[39;49m\u001b[43mpredict\u001b[49m\u001b[43m(\u001b[49m\u001b[43mtrainX\u001b[49m\u001b[43m)\u001b[49m\n\u001b[0;32m      2\u001b[0m testPredict \u001b[38;5;241m=\u001b[39m model\u001b[38;5;241m.\u001b[39mpredict(testX)\n\u001b[0;32m      3\u001b[0m \u001b[38;5;66;03m# invert predictions\u001b[39;00m\n",
      "File \u001b[1;32mD:\\Users\\alepi\\anaconda3\\lib\\site-packages\\pmdarima\\arima\\arima.py:777\u001b[0m, in \u001b[0;36mARIMA.predict\u001b[1;34m(self, n_periods, X, return_conf_int, alpha, **kwargs)\u001b[0m\n\u001b[0;32m    775\u001b[0m check_is_fitted(\u001b[38;5;28mself\u001b[39m, \u001b[38;5;124m'\u001b[39m\u001b[38;5;124marima_res_\u001b[39m\u001b[38;5;124m'\u001b[39m)\n\u001b[0;32m    776\u001b[0m \u001b[38;5;28;01mif\u001b[39;00m \u001b[38;5;129;01mnot\u001b[39;00m \u001b[38;5;28misinstance\u001b[39m(n_periods, \u001b[38;5;28mint\u001b[39m):\n\u001b[1;32m--> 777\u001b[0m     \u001b[38;5;28;01mraise\u001b[39;00m \u001b[38;5;167;01mTypeError\u001b[39;00m(\u001b[38;5;124m\"\u001b[39m\u001b[38;5;124mn_periods must be an int\u001b[39m\u001b[38;5;124m\"\u001b[39m)\n\u001b[0;32m    779\u001b[0m \u001b[38;5;66;03m# Temporary shim until we remove `exogenous` support completely\u001b[39;00m\n\u001b[0;32m    780\u001b[0m X, _ \u001b[38;5;241m=\u001b[39m pm_compat\u001b[38;5;241m.\u001b[39mget_X(X, \u001b[38;5;241m*\u001b[39m\u001b[38;5;241m*\u001b[39mkwargs)\n",
      "\u001b[1;31mTypeError\u001b[0m: n_periods must be an int"
     ]
    }
   ],
   "source": [
    "trainPredict = model.predict(y=trainY,X=trainX)\n",
    "testPredict = model.predict(testX)\n",
    "# invert predictions\n",
    "trainPredict = scaler.inverse_transform(trainPredict)\n",
    "trainY = scaler.inverse_transform([trainY])\n",
    "testPredict = scaler.inverse_transform(testPredict)\n",
    "testY = scaler.inverse_transform([testY])\n",
    "# calculate root mean squared error\n",
    "trainScore = math.sqrt(mean_squared_error(trainY[0], trainPredict[:,0]))\n",
    "print('Train Score: %.2f RMSE' % (trainScore))\n",
    "testScore = math.sqrt(mean_squared_error(testY[0], testPredict[:,0]))\n",
    "print('Test Score: %.2f RMSE' % (testScore))"
   ]
  },
  {
   "cell_type": "code",
   "execution_count": null,
   "id": "3d58a9e2",
   "metadata": {},
   "outputs": [],
   "source": []
  }
 ],
 "metadata": {
  "kernelspec": {
   "display_name": "Python 3 (ipykernel)",
   "language": "python",
   "name": "python3"
  },
  "language_info": {
   "codemirror_mode": {
    "name": "ipython",
    "version": 3
   },
   "file_extension": ".py",
   "mimetype": "text/x-python",
   "name": "python",
   "nbconvert_exporter": "python",
   "pygments_lexer": "ipython3",
   "version": "3.9.7"
  }
 },
 "nbformat": 4,
 "nbformat_minor": 5
}
