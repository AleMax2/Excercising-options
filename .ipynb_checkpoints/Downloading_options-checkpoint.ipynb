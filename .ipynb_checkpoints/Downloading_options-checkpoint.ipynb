{
 "cells": [
  {
   "cell_type": "markdown",
   "id": "d8084c68",
   "metadata": {},
   "source": [
    "# In this notebook I will download data on options from yahoo finance \n",
    "Markets have to be open otherwise we won't be able to download data and it's delayed by 15 minutes."
   ]
  },
  {
   "cell_type": "code",
   "execution_count": 1,
   "id": "f5179d59",
   "metadata": {},
   "outputs": [],
   "source": [
    "# Necessary packages\n",
    "import pandas as pd\n",
    "import pandas_datareader.data as web\n",
    "import numpy as np"
   ]
  },
  {
   "cell_type": "code",
   "execution_count": 2,
   "id": "94bf370a",
   "metadata": {},
   "outputs": [],
   "source": [
    "# Selecting Facebook's options\n",
    "FB = web.YahooOptions('FB')"
   ]
  },
  {
   "cell_type": "code",
   "execution_count": 3,
   "id": "fb9eccef",
   "metadata": {},
   "outputs": [
    {
     "ename": "RemoteDataError",
     "evalue": "Unable to read URL: https://query1.finance.yahoo.com/v7/finance/options/FB\nResponse Text:\nb'Forbidden'",
     "output_type": "error",
     "traceback": [
      "\u001b[1;31m---------------------------------------------------------------------------\u001b[0m",
      "\u001b[1;31mAttributeError\u001b[0m                            Traceback (most recent call last)",
      "\u001b[1;32mD:\\Users\\alepi\\anaconda3\\lib\\site-packages\\pandas_datareader\\yahoo\\options.py\u001b[0m in \u001b[0;36mexpiry_dates\u001b[1;34m(self)\u001b[0m\n\u001b[0;32m    665\u001b[0m         \u001b[1;32mtry\u001b[0m\u001b[1;33m:\u001b[0m\u001b[1;33m\u001b[0m\u001b[1;33m\u001b[0m\u001b[0m\n\u001b[1;32m--> 666\u001b[1;33m             \u001b[0mexpiry_dates\u001b[0m \u001b[1;33m=\u001b[0m \u001b[0mself\u001b[0m\u001b[1;33m.\u001b[0m\u001b[0m_expiry_dates\u001b[0m\u001b[1;33m\u001b[0m\u001b[1;33m\u001b[0m\u001b[0m\n\u001b[0m\u001b[0;32m    667\u001b[0m         \u001b[1;32mexcept\u001b[0m \u001b[0mAttributeError\u001b[0m\u001b[1;33m:\u001b[0m\u001b[1;33m\u001b[0m\u001b[1;33m\u001b[0m\u001b[0m\n",
      "\u001b[1;31mAttributeError\u001b[0m: 'Options' object has no attribute '_expiry_dates'",
      "\nDuring handling of the above exception, another exception occurred:\n",
      "\u001b[1;31mRemoteDataError\u001b[0m                           Traceback (most recent call last)",
      "\u001b[1;32m~\\AppData\\Local\\Temp/ipykernel_16892/1957559513.py\u001b[0m in \u001b[0;36m<module>\u001b[1;34m\u001b[0m\n\u001b[0;32m      1\u001b[0m \u001b[1;31m#showing available expiries\u001b[0m\u001b[1;33m\u001b[0m\u001b[1;33m\u001b[0m\u001b[0m\n\u001b[1;32m----> 2\u001b[1;33m \u001b[1;32mfor\u001b[0m \u001b[0mexp\u001b[0m \u001b[1;32min\u001b[0m \u001b[0mFB\u001b[0m\u001b[1;33m.\u001b[0m\u001b[0mexpiry_dates\u001b[0m\u001b[1;33m:\u001b[0m\u001b[1;33m\u001b[0m\u001b[1;33m\u001b[0m\u001b[0m\n\u001b[0m\u001b[0;32m      3\u001b[0m      \u001b[0mprint\u001b[0m\u001b[1;33m(\u001b[0m\u001b[0mexp\u001b[0m\u001b[1;33m.\u001b[0m\u001b[0misoformat\u001b[0m\u001b[1;33m(\u001b[0m\u001b[1;33m)\u001b[0m\u001b[1;33m)\u001b[0m\u001b[1;33m\u001b[0m\u001b[1;33m\u001b[0m\u001b[0m\n",
      "\u001b[1;32mD:\\Users\\alepi\\anaconda3\\lib\\site-packages\\pandas_datareader\\yahoo\\options.py\u001b[0m in \u001b[0;36mexpiry_dates\u001b[1;34m(self)\u001b[0m\n\u001b[0;32m    666\u001b[0m             \u001b[0mexpiry_dates\u001b[0m \u001b[1;33m=\u001b[0m \u001b[0mself\u001b[0m\u001b[1;33m.\u001b[0m\u001b[0m_expiry_dates\u001b[0m\u001b[1;33m\u001b[0m\u001b[1;33m\u001b[0m\u001b[0m\n\u001b[0;32m    667\u001b[0m         \u001b[1;32mexcept\u001b[0m \u001b[0mAttributeError\u001b[0m\u001b[1;33m:\u001b[0m\u001b[1;33m\u001b[0m\u001b[1;33m\u001b[0m\u001b[0m\n\u001b[1;32m--> 668\u001b[1;33m             \u001b[0mexpiry_dates\u001b[0m \u001b[1;33m=\u001b[0m \u001b[0mself\u001b[0m\u001b[1;33m.\u001b[0m\u001b[0m_get_expiry_dates\u001b[0m\u001b[1;33m(\u001b[0m\u001b[1;33m)\u001b[0m\u001b[1;33m\u001b[0m\u001b[1;33m\u001b[0m\u001b[0m\n\u001b[0m\u001b[0;32m    669\u001b[0m         \u001b[1;32mreturn\u001b[0m \u001b[0mexpiry_dates\u001b[0m\u001b[1;33m\u001b[0m\u001b[1;33m\u001b[0m\u001b[0m\n\u001b[0;32m    670\u001b[0m \u001b[1;33m\u001b[0m\u001b[0m\n",
      "\u001b[1;32mD:\\Users\\alepi\\anaconda3\\lib\\site-packages\\pandas_datareader\\yahoo\\options.py\u001b[0m in \u001b[0;36m_get_expiry_dates\u001b[1;34m(self)\u001b[0m\n\u001b[0;32m    679\u001b[0m \u001b[1;33m\u001b[0m\u001b[0m\n\u001b[0;32m    680\u001b[0m         \u001b[0murl\u001b[0m \u001b[1;33m=\u001b[0m \u001b[0mself\u001b[0m\u001b[1;33m.\u001b[0m\u001b[0m_OPTIONS_BASE_URL\u001b[0m\u001b[1;33m.\u001b[0m\u001b[0mformat\u001b[0m\u001b[1;33m(\u001b[0m\u001b[0msym\u001b[0m\u001b[1;33m=\u001b[0m\u001b[0mself\u001b[0m\u001b[1;33m.\u001b[0m\u001b[0msymbol\u001b[0m\u001b[1;33m)\u001b[0m\u001b[1;33m\u001b[0m\u001b[1;33m\u001b[0m\u001b[0m\n\u001b[1;32m--> 681\u001b[1;33m         \u001b[0mjd\u001b[0m \u001b[1;33m=\u001b[0m \u001b[0mself\u001b[0m\u001b[1;33m.\u001b[0m\u001b[0m_parse_url\u001b[0m\u001b[1;33m(\u001b[0m\u001b[0murl\u001b[0m\u001b[1;33m)\u001b[0m\u001b[1;33m\u001b[0m\u001b[1;33m\u001b[0m\u001b[0m\n\u001b[0m\u001b[0;32m    682\u001b[0m \u001b[1;33m\u001b[0m\u001b[0m\n\u001b[0;32m    683\u001b[0m         expiry_dates = [\n",
      "\u001b[1;32mD:\\Users\\alepi\\anaconda3\\lib\\site-packages\\pandas_datareader\\yahoo\\options.py\u001b[0m in \u001b[0;36m_parse_url\u001b[1;34m(self, url)\u001b[0m\n\u001b[0;32m    705\u001b[0m         \u001b[0mA\u001b[0m \u001b[0mJSON\u001b[0m \u001b[0mobject\u001b[0m\u001b[1;33m\u001b[0m\u001b[1;33m\u001b[0m\u001b[0m\n\u001b[0;32m    706\u001b[0m         \"\"\"\n\u001b[1;32m--> 707\u001b[1;33m         \u001b[0mjd\u001b[0m \u001b[1;33m=\u001b[0m \u001b[0mjson\u001b[0m\u001b[1;33m.\u001b[0m\u001b[0mloads\u001b[0m\u001b[1;33m(\u001b[0m\u001b[0mself\u001b[0m\u001b[1;33m.\u001b[0m\u001b[0m_read_url_as_StringIO\u001b[0m\u001b[1;33m(\u001b[0m\u001b[0murl\u001b[0m\u001b[1;33m)\u001b[0m\u001b[1;33m.\u001b[0m\u001b[0mread\u001b[0m\u001b[1;33m(\u001b[0m\u001b[1;33m)\u001b[0m\u001b[1;33m)\u001b[0m\u001b[1;33m\u001b[0m\u001b[1;33m\u001b[0m\u001b[0m\n\u001b[0m\u001b[0;32m    708\u001b[0m         \u001b[1;32mif\u001b[0m \u001b[0mjd\u001b[0m \u001b[1;32mis\u001b[0m \u001b[1;32mNone\u001b[0m\u001b[1;33m:\u001b[0m  \u001b[1;31m# pragma: no cover\u001b[0m\u001b[1;33m\u001b[0m\u001b[1;33m\u001b[0m\u001b[0m\n\u001b[0;32m    709\u001b[0m             raise RemoteDataError(\n",
      "\u001b[1;32mD:\\Users\\alepi\\anaconda3\\lib\\site-packages\\pandas_datareader\\base.py\u001b[0m in \u001b[0;36m_read_url_as_StringIO\u001b[1;34m(self, url, params)\u001b[0m\n\u001b[0;32m    117\u001b[0m         \u001b[0mOpen\u001b[0m \u001b[0murl\u001b[0m \u001b[1;33m(\u001b[0m\u001b[1;32mand\u001b[0m \u001b[0mretry\u001b[0m\u001b[1;33m)\u001b[0m\u001b[1;33m\u001b[0m\u001b[1;33m\u001b[0m\u001b[0m\n\u001b[0;32m    118\u001b[0m         \"\"\"\n\u001b[1;32m--> 119\u001b[1;33m         \u001b[0mresponse\u001b[0m \u001b[1;33m=\u001b[0m \u001b[0mself\u001b[0m\u001b[1;33m.\u001b[0m\u001b[0m_get_response\u001b[0m\u001b[1;33m(\u001b[0m\u001b[0murl\u001b[0m\u001b[1;33m,\u001b[0m \u001b[0mparams\u001b[0m\u001b[1;33m=\u001b[0m\u001b[0mparams\u001b[0m\u001b[1;33m)\u001b[0m\u001b[1;33m\u001b[0m\u001b[1;33m\u001b[0m\u001b[0m\n\u001b[0m\u001b[0;32m    120\u001b[0m         \u001b[0mtext\u001b[0m \u001b[1;33m=\u001b[0m \u001b[0mself\u001b[0m\u001b[1;33m.\u001b[0m\u001b[0m_sanitize_response\u001b[0m\u001b[1;33m(\u001b[0m\u001b[0mresponse\u001b[0m\u001b[1;33m)\u001b[0m\u001b[1;33m\u001b[0m\u001b[1;33m\u001b[0m\u001b[0m\n\u001b[0;32m    121\u001b[0m         \u001b[0mout\u001b[0m \u001b[1;33m=\u001b[0m \u001b[0mStringIO\u001b[0m\u001b[1;33m(\u001b[0m\u001b[1;33m)\u001b[0m\u001b[1;33m\u001b[0m\u001b[1;33m\u001b[0m\u001b[0m\n",
      "\u001b[1;32mD:\\Users\\alepi\\anaconda3\\lib\\site-packages\\pandas_datareader\\base.py\u001b[0m in \u001b[0;36m_get_response\u001b[1;34m(self, url, params, headers)\u001b[0m\n\u001b[0;32m    179\u001b[0m             \u001b[0mmsg\u001b[0m \u001b[1;33m+=\u001b[0m \u001b[1;34m\"\\nResponse Text:\\n{0}\"\u001b[0m\u001b[1;33m.\u001b[0m\u001b[0mformat\u001b[0m\u001b[1;33m(\u001b[0m\u001b[0mlast_response_text\u001b[0m\u001b[1;33m)\u001b[0m\u001b[1;33m\u001b[0m\u001b[1;33m\u001b[0m\u001b[0m\n\u001b[0;32m    180\u001b[0m \u001b[1;33m\u001b[0m\u001b[0m\n\u001b[1;32m--> 181\u001b[1;33m         \u001b[1;32mraise\u001b[0m \u001b[0mRemoteDataError\u001b[0m\u001b[1;33m(\u001b[0m\u001b[0mmsg\u001b[0m\u001b[1;33m)\u001b[0m\u001b[1;33m\u001b[0m\u001b[1;33m\u001b[0m\u001b[0m\n\u001b[0m\u001b[0;32m    182\u001b[0m \u001b[1;33m\u001b[0m\u001b[0m\n\u001b[0;32m    183\u001b[0m     \u001b[1;32mdef\u001b[0m \u001b[0m_get_crumb\u001b[0m\u001b[1;33m(\u001b[0m\u001b[0mself\u001b[0m\u001b[1;33m,\u001b[0m \u001b[1;33m*\u001b[0m\u001b[0margs\u001b[0m\u001b[1;33m)\u001b[0m\u001b[1;33m:\u001b[0m\u001b[1;33m\u001b[0m\u001b[1;33m\u001b[0m\u001b[0m\n",
      "\u001b[1;31mRemoteDataError\u001b[0m: Unable to read URL: https://query1.finance.yahoo.com/v7/finance/options/FB\nResponse Text:\nb'Forbidden'"
     ]
    }
   ],
   "source": [
    "#showing available expiries\n",
    "for exp in FB.expiry_dates:\n",
    "     print(exp.isoformat())"
   ]
  },
  {
   "cell_type": "code",
   "execution_count": null,
   "id": "c067185a",
   "metadata": {},
   "outputs": [],
   "source": [
    "# get call data\n",
    "calls = FB.get_call_data()\n",
    "calls"
   ]
  },
  {
   "cell_type": "code",
   "execution_count": null,
   "id": "29310317",
   "metadata": {},
   "outputs": [],
   "source": [
    "#get put data\n",
    "puts  = FB.get_put_data()\n",
    "puts"
   ]
  },
  {
   "cell_type": "code",
   "execution_count": null,
   "id": "71008baa",
   "metadata": {},
   "outputs": [],
   "source": [
    "#get call data based on specific expiry\n",
    "FB.get_call_data(month =2 , year = 2021)"
   ]
  },
  {
   "cell_type": "code",
   "execution_count": null,
   "id": "8413d854",
   "metadata": {},
   "outputs": [],
   "source": [
    "# getting all call data, can also pass in a datetime to the expiry below\n",
    "allcalls = FB.get_call_data(expiry= FB.expiry_dates)"
   ]
  },
  {
   "cell_type": "code",
   "execution_count": null,
   "id": "97ee44b6",
   "metadata": {},
   "outputs": [],
   "source": [
    "#notice index is in multiindex\n",
    "allcalls.index"
   ]
  },
  {
   "cell_type": "code",
   "execution_count": null,
   "id": "fc492cbe",
   "metadata": {},
   "outputs": [],
   "source": [
    "#changing to regular index\n",
    "allcalls.reset_index(inplace=True)"
   ]
  },
  {
   "cell_type": "code",
   "execution_count": null,
   "id": "db5beb33",
   "metadata": {},
   "outputs": [],
   "source": [
    "#get all available data for puts and calls at every expiration\n",
    "alloptions = FB.get_all_data()\n",
    "alloptions.reset_index(inplace=True)"
   ]
  },
  {
   "cell_type": "code",
   "execution_count": null,
   "id": "301f8c39",
   "metadata": {},
   "outputs": [],
   "source": [
    "# perform calculate on the data.\n",
    "alloptions['mid_price'] = (alloptions.Ask - alloptions.Bid) / 2"
   ]
  },
  {
   "cell_type": "markdown",
   "id": "6cfd2b71",
   "metadata": {},
   "source": [
    "# Just some exc on classes."
   ]
  },
  {
   "cell_type": "code",
   "execution_count": 6,
   "id": "14da5b1f",
   "metadata": {},
   "outputs": [
    {
     "name": "stdout",
     "output_type": "stream",
     "text": [
      "Nothing necessary here except self\n"
     ]
    }
   ],
   "source": [
    "class Example:\n",
    "    def __init__(self):\n",
    "        print('Nothing necessary here except self')\n",
    "\n",
    "\n",
    "ex = Example()"
   ]
  },
  {
   "cell_type": "code",
   "execution_count": 7,
   "id": "515c9719",
   "metadata": {},
   "outputs": [],
   "source": [
    "class Person:\n",
    "    def __init__(self, first_name, last_name, age):\n",
    "        print('calling the __init__ method')\n",
    "        self.first_name = first_name\n",
    "        self.last_name = last_name\n",
    "        self.age = age"
   ]
  },
  {
   "cell_type": "code",
   "execution_count": 8,
   "id": "4f5ac185",
   "metadata": {},
   "outputs": [
    {
     "name": "stdout",
     "output_type": "stream",
     "text": [
      "calling the __init__ method\n"
     ]
    }
   ],
   "source": [
    "p1 = Person('Harry', 'Potter', 14)"
   ]
  },
  {
   "cell_type": "code",
   "execution_count": 9,
   "id": "0e40b039",
   "metadata": {},
   "outputs": [
    {
     "data": {
      "text/plain": [
       "14"
      ]
     },
     "execution_count": 9,
     "metadata": {},
     "output_type": "execute_result"
    }
   ],
   "source": [
    "p1.age #returns 14\n",
    "#p1.first_name # returns Harry\n",
    "#p1.last_name# returns Potter"
   ]
  },
  {
   "cell_type": "code",
   "execution_count": 10,
   "id": "9ae1c162",
   "metadata": {},
   "outputs": [],
   "source": [
    "class Person:\n",
    "    def __init__(self, first_name, last_name, age):\n",
    "        print('calling the __init__ method')\n",
    "        self._first_name = first_name\n",
    "        self.__last_name = last_name\n",
    "        self._age = age"
   ]
  },
  {
   "cell_type": "code",
   "execution_count": 11,
   "id": "92d01768",
   "metadata": {},
   "outputs": [
    {
     "name": "stdout",
     "output_type": "stream",
     "text": [
      "calling the __init__ method\n"
     ]
    },
    {
     "ename": "AttributeError",
     "evalue": "'Person' object has no attribute 'age'",
     "output_type": "error",
     "traceback": [
      "\u001b[1;31m---------------------------------------------------------------------------\u001b[0m",
      "\u001b[1;31mAttributeError\u001b[0m                            Traceback (most recent call last)",
      "\u001b[1;32m~\\AppData\\Local\\Temp/ipykernel_47740/1504785945.py\u001b[0m in \u001b[0;36m<module>\u001b[1;34m\u001b[0m\n\u001b[0;32m      1\u001b[0m \u001b[0mp1\u001b[0m \u001b[1;33m=\u001b[0m \u001b[0mPerson\u001b[0m\u001b[1;33m(\u001b[0m\u001b[1;34m'Harry'\u001b[0m\u001b[1;33m,\u001b[0m \u001b[1;34m'Potter'\u001b[0m\u001b[1;33m,\u001b[0m \u001b[1;36m14\u001b[0m\u001b[1;33m)\u001b[0m\u001b[1;33m\u001b[0m\u001b[1;33m\u001b[0m\u001b[0m\n\u001b[0;32m      2\u001b[0m \u001b[1;33m\u001b[0m\u001b[0m\n\u001b[1;32m----> 3\u001b[1;33m \u001b[0mp1\u001b[0m\u001b[1;33m.\u001b[0m\u001b[0mage\u001b[0m\u001b[1;33m\u001b[0m\u001b[1;33m\u001b[0m\u001b[0m\n\u001b[0m",
      "\u001b[1;31mAttributeError\u001b[0m: 'Person' object has no attribute 'age'"
     ]
    }
   ],
   "source": [
    "p1 = Person('Harry', 'Potter', 14)\n",
    "\n",
    "p1.age"
   ]
  },
  {
   "cell_type": "code",
   "execution_count": 12,
   "id": "de86a25f",
   "metadata": {},
   "outputs": [
    {
     "data": {
      "text/plain": [
       "14"
      ]
     },
     "execution_count": 12,
     "metadata": {},
     "output_type": "execute_result"
    }
   ],
   "source": [
    "p1._age # returns 14"
   ]
  },
  {
   "cell_type": "code",
   "execution_count": 13,
   "id": "59bb743f",
   "metadata": {},
   "outputs": [
    {
     "name": "stdout",
     "output_type": "stream",
     "text": [
      "setting class attributes\n"
     ]
    }
   ],
   "source": [
    "class Person:\n",
    "    print('setting class attributes')\n",
    "    species = 'Human'\n",
    "    def __init__(self, first_name, last_name, age):\n",
    "        print('calling the __init__ method')\n",
    "        self.first_name = first_name\n",
    "        self.last_name = last_name\n",
    "        self.age = age"
   ]
  },
  {
   "cell_type": "code",
   "execution_count": 14,
   "id": "38851e7c",
   "metadata": {},
   "outputs": [
    {
     "data": {
      "text/plain": [
       "'Human'"
      ]
     },
     "execution_count": 14,
     "metadata": {},
     "output_type": "execute_result"
    }
   ],
   "source": [
    "Person.species # returns 'Human'"
   ]
  },
  {
   "cell_type": "code",
   "execution_count": 15,
   "id": "3b38d819",
   "metadata": {},
   "outputs": [
    {
     "ename": "AttributeError",
     "evalue": "type object 'Person' has no attribute 'age'",
     "output_type": "error",
     "traceback": [
      "\u001b[1;31m---------------------------------------------------------------------------\u001b[0m",
      "\u001b[1;31mAttributeError\u001b[0m                            Traceback (most recent call last)",
      "\u001b[1;32m~\\AppData\\Local\\Temp/ipykernel_47740/1431354319.py\u001b[0m in \u001b[0;36m<module>\u001b[1;34m\u001b[0m\n\u001b[1;32m----> 1\u001b[1;33m \u001b[0mPerson\u001b[0m\u001b[1;33m.\u001b[0m\u001b[0mage\u001b[0m\u001b[1;33m\u001b[0m\u001b[1;33m\u001b[0m\u001b[0m\n\u001b[0m",
      "\u001b[1;31mAttributeError\u001b[0m: type object 'Person' has no attribute 'age'"
     ]
    }
   ],
   "source": [
    "Person.age"
   ]
  },
  {
   "cell_type": "code",
   "execution_count": 16,
   "id": "e5c8d54a",
   "metadata": {},
   "outputs": [
    {
     "name": "stdout",
     "output_type": "stream",
     "text": [
      "calling the __init__ method\n"
     ]
    },
    {
     "data": {
      "text/plain": [
       "'Human'"
      ]
     },
     "execution_count": 16,
     "metadata": {},
     "output_type": "execute_result"
    }
   ],
   "source": [
    "p1 = Person('Harry', 'Potter', 14)\n",
    "\n",
    "\n",
    "p1.species"
   ]
  },
  {
   "cell_type": "code",
   "execution_count": 17,
   "id": "bdfd5820",
   "metadata": {},
   "outputs": [
    {
     "data": {
      "text/plain": [
       "['__class__',\n",
       " '__delattr__',\n",
       " '__dict__',\n",
       " '__dir__',\n",
       " '__doc__',\n",
       " '__eq__',\n",
       " '__format__',\n",
       " '__ge__',\n",
       " '__getattribute__',\n",
       " '__gt__',\n",
       " '__hash__',\n",
       " '__init__',\n",
       " '__init_subclass__',\n",
       " '__le__',\n",
       " '__lt__',\n",
       " '__module__',\n",
       " '__ne__',\n",
       " '__new__',\n",
       " '__reduce__',\n",
       " '__reduce_ex__',\n",
       " '__repr__',\n",
       " '__setattr__',\n",
       " '__sizeof__',\n",
       " '__str__',\n",
       " '__subclasshook__',\n",
       " '__weakref__',\n",
       " 'age',\n",
       " 'first_name',\n",
       " 'last_name',\n",
       " 'species']"
      ]
     },
     "execution_count": 17,
     "metadata": {},
     "output_type": "execute_result"
    }
   ],
   "source": [
    "dir(p1)"
   ]
  },
  {
   "cell_type": "code",
   "execution_count": 18,
   "id": "9084fa67",
   "metadata": {},
   "outputs": [
    {
     "data": {
      "text/plain": [
       "{'first_name': 'Harry', 'last_name': 'Potter', 'age': 14}"
      ]
     },
     "execution_count": 18,
     "metadata": {},
     "output_type": "execute_result"
    }
   ],
   "source": [
    "p1.__dict__"
   ]
  },
  {
   "cell_type": "code",
   "execution_count": 19,
   "id": "ddf2147d",
   "metadata": {},
   "outputs": [
    {
     "data": {
      "text/plain": [
       "mappingproxy({'__module__': '__main__',\n",
       "              'species': 'Human',\n",
       "              '__init__': <function __main__.Person.__init__(self, first_name, last_name, age)>,\n",
       "              '__dict__': <attribute '__dict__' of 'Person' objects>,\n",
       "              '__weakref__': <attribute '__weakref__' of 'Person' objects>,\n",
       "              '__doc__': None})"
      ]
     },
     "execution_count": 19,
     "metadata": {},
     "output_type": "execute_result"
    }
   ],
   "source": [
    "p1.__class__.__dict__"
   ]
  },
  {
   "cell_type": "code",
   "execution_count": 20,
   "id": "fee20347",
   "metadata": {},
   "outputs": [
    {
     "data": {
      "text/plain": [
       "mappingproxy({'__module__': '__main__',\n",
       "              'species': 'Human',\n",
       "              '__init__': <function __main__.Person.__init__(self, first_name, last_name, age)>,\n",
       "              '__dict__': <attribute '__dict__' of 'Person' objects>,\n",
       "              '__weakref__': <attribute '__weakref__' of 'Person' objects>,\n",
       "              '__doc__': None})"
      ]
     },
     "execution_count": 20,
     "metadata": {},
     "output_type": "execute_result"
    }
   ],
   "source": [
    "Person.__dict__"
   ]
  },
  {
   "cell_type": "code",
   "execution_count": 5,
   "id": "78581f84",
   "metadata": {},
   "outputs": [],
   "source": [
    "class Movie:\n",
    "    def __init__(self, director, cost, revenue):\n",
    "        self._director = director # eliminating the underscore kills the kernel\n",
    "        self.cost = cost \n",
    "        self.revenue = revenue\n",
    "        \n",
    "    \n",
    "    @property\n",
    "    def director(self):\n",
    "        print(\"Getter called for director\")\n",
    "        return self._director\n",
    "    \n",
    "    @director.setter\n",
    "    def director(self, new_director):\n",
    "        print(\"Setter called for director\")\n",
    "        self._director = new_director"
   ]
  },
  {
   "cell_type": "code",
   "execution_count": 6,
   "id": "b4669a3d",
   "metadata": {},
   "outputs": [
    {
     "name": "stdout",
     "output_type": "stream",
     "text": [
      "Getter called for director\n"
     ]
    },
    {
     "data": {
      "text/plain": [
       "'Mr. A'"
      ]
     },
     "execution_count": 6,
     "metadata": {},
     "output_type": "execute_result"
    }
   ],
   "source": [
    "m1 = Movie('Mr. A', 100, 160)          \n",
    "        \n",
    "m1.director "
   ]
  },
  {
   "cell_type": "code",
   "execution_count": 7,
   "id": "3ee77958",
   "metadata": {},
   "outputs": [
    {
     "name": "stdout",
     "output_type": "stream",
     "text": [
      "Setter called for director\n"
     ]
    }
   ],
   "source": [
    "m1.director = \"Mr. B\""
   ]
  },
  {
   "cell_type": "code",
   "execution_count": 8,
   "id": "41e84143",
   "metadata": {},
   "outputs": [
    {
     "name": "stdout",
     "output_type": "stream",
     "text": [
      "Getter called for director\n"
     ]
    },
    {
     "data": {
      "text/plain": [
       "'Mr. B'"
      ]
     },
     "execution_count": 8,
     "metadata": {},
     "output_type": "execute_result"
    }
   ],
   "source": [
    "m1.director"
   ]
  },
  {
   "cell_type": "code",
   "execution_count": 17,
   "id": "df751833",
   "metadata": {},
   "outputs": [],
   "source": [
    "class Movie:\n",
    "    \n",
    "    def __init__(self, director, cost, revenue):\n",
    "        self._director = director\n",
    "        self.cost = cost \n",
    "        self._revenue = revenue\n",
    "        \n",
    "    \n",
    "    @property\n",
    "    def director(self):\n",
    "        print(\"Getter called for director\")\n",
    "        return self._director\n",
    "    \n",
    "    @director.setter\n",
    "    def director(self, new_director):\n",
    "        print(\"Setter called for director\")\n",
    "        self._director = new_director     \n",
    "        \n",
    "        \n",
    "    @property\n",
    "    def cost(self):\n",
    "        print(\"Getter called for cost\")\n",
    "        return self.__cost\n",
    "    \n",
    "    \n",
    "    @cost.setter\n",
    "    def cost(self, new_cost):\n",
    "        print(\"setter called for cost\")\n",
    "        self.__cost = new_cost\n"
   ]
  },
  {
   "cell_type": "code",
   "execution_count": 18,
   "id": "72f4e95e",
   "metadata": {},
   "outputs": [
    {
     "name": "stdout",
     "output_type": "stream",
     "text": [
      "setter called for cost\n",
      "Getter called for cost\n"
     ]
    },
    {
     "data": {
      "text/plain": [
       "160"
      ]
     },
     "execution_count": 18,
     "metadata": {},
     "output_type": "execute_result"
    }
   ],
   "source": [
    "m2 = Movie('Mr. C', 160, 100)\n",
    "\n",
    "m2.cost"
   ]
  },
  {
   "cell_type": "code",
   "execution_count": 19,
   "id": "21fb4f32",
   "metadata": {},
   "outputs": [
    {
     "data": {
      "text/plain": [
       "{'_director': 'Mr. C', '_Movie__cost': 160, '_revenue': 100}"
      ]
     },
     "execution_count": 19,
     "metadata": {},
     "output_type": "execute_result"
    }
   ],
   "source": [
    "m2.__dict__"
   ]
  },
  {
   "cell_type": "code",
   "execution_count": 20,
   "id": "20c46583",
   "metadata": {},
   "outputs": [
    {
     "name": "stdout",
     "output_type": "stream",
     "text": [
      "setter called for cost\n",
      "Getter called for cost\n"
     ]
    },
    {
     "data": {
      "text/plain": [
       "105"
      ]
     },
     "execution_count": 20,
     "metadata": {},
     "output_type": "execute_result"
    }
   ],
   "source": [
    "m2.cost = 105\n",
    "\n",
    "m2.cost"
   ]
  },
  {
   "cell_type": "code",
   "execution_count": 21,
   "id": "7f87899b",
   "metadata": {},
   "outputs": [
    {
     "data": {
      "text/plain": [
       "{'_director': 'Mr. C', '_Movie__cost': 105, '_revenue': 100}"
      ]
     },
     "execution_count": 21,
     "metadata": {},
     "output_type": "execute_result"
    }
   ],
   "source": [
    "m2.__dict__"
   ]
  },
  {
   "cell_type": "code",
   "execution_count": null,
   "id": "411ef7db",
   "metadata": {},
   "outputs": [],
   "source": []
  }
 ],
 "metadata": {
  "kernelspec": {
   "display_name": "Python 3 (ipykernel)",
   "language": "python",
   "name": "python3"
  },
  "language_info": {
   "codemirror_mode": {
    "name": "ipython",
    "version": 3
   },
   "file_extension": ".py",
   "mimetype": "text/x-python",
   "name": "python",
   "nbconvert_exporter": "python",
   "pygments_lexer": "ipython3",
   "version": "3.9.7"
  }
 },
 "nbformat": 4,
 "nbformat_minor": 5
}
