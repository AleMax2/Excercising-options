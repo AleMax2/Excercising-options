{
 "cells": [
  {
   "cell_type": "code",
   "execution_count": 1,
   "id": "e5f6abab",
   "metadata": {},
   "outputs": [
    {
     "name": "stdout",
     "output_type": "stream",
     "text": [
      "Found GPU at: /device:GPU:0\n"
     ]
    }
   ],
   "source": [
    "import tensorflow as tf\n",
    "from tensorflow import keras\n",
    "import pandas as pd\n",
    "import numpy as np\n",
    "from tensorflow.keras import layers\n",
    "from sklearn.preprocessing import MinMaxScaler\n",
    "from sklearn.metrics import mean_squared_error\n",
    "import matplotlib.pyplot as plt\n",
    "device_name = tf.test.gpu_device_name()\n",
    "if device_name != '/device:GPU:0':\n",
    "    raise SystemError('GPU device not found')\n",
    "print('Found GPU at: {}'.format(device_name))"
   ]
  },
  {
   "cell_type": "code",
   "execution_count": 2,
   "id": "e9cbfdf0",
   "metadata": {},
   "outputs": [
    {
     "data": {
      "text/plain": [
       "array([[ 209.59],\n",
       "       [ 210.88],\n",
       "       [ 210.65],\n",
       "       ...,\n",
       "       [2699.63],\n",
       "       [2716.31],\n",
       "       [2718.37]], dtype=float32)"
      ]
     },
     "execution_count": 2,
     "metadata": {},
     "output_type": "execute_result"
    }
   ],
   "source": [
    "# load the dataset\n",
    "dataframe = pd.read_csv('archive/spx.csv', usecols=[1], engine='python')\n",
    "dataset = dataframe.values\n",
    "dataset = dataset.astype('float32')\n",
    "dataset"
   ]
  },
  {
   "cell_type": "code",
   "execution_count": 3,
   "id": "654fbf16",
   "metadata": {},
   "outputs": [
    {
     "data": {
      "text/plain": [
       "array([[0.00228518],\n",
       "       [0.00276843],\n",
       "       [0.00268227],\n",
       "       ...,\n",
       "       [0.935101  ],\n",
       "       [0.9413497 ],\n",
       "       [0.9421213 ]], dtype=float32)"
      ]
     },
     "execution_count": 3,
     "metadata": {},
     "output_type": "execute_result"
    }
   ],
   "source": [
    "# normalize the dataset\n",
    "scaler = MinMaxScaler(feature_range=(0, 1))\n",
    "dataset = scaler.fit_transform(dataset)\n",
    "dataset"
   ]
  },
  {
   "cell_type": "code",
   "execution_count": 4,
   "id": "87c2fc6f",
   "metadata": {},
   "outputs": [
    {
     "name": "stdout",
     "output_type": "stream",
     "text": [
      "5734 2458\n"
     ]
    }
   ],
   "source": [
    "# split into train and test sets\n",
    "train_size = int(len(dataset) * 0.7)\n",
    "test_size = len(dataset) - train_size\n",
    "train, test = dataset[0:train_size,:], dataset[train_size:len(dataset),:]\n",
    "print(len(train), len(test))"
   ]
  },
  {
   "cell_type": "code",
   "execution_count": 5,
   "id": "c22eb590",
   "metadata": {},
   "outputs": [],
   "source": [
    "# convert an array of values into a dataset matrix\n",
    "def create_dataset(dataset, look_back=1):\n",
    "\tdataX, dataY = [], []\n",
    "\tfor i in range(len(dataset)-look_back-1):\n",
    "\t\ta = dataset[i:(i+look_back), 0]\n",
    "\t\tdataX.append(a)\n",
    "\t\tdataY.append(dataset[i + look_back, 0])\n",
    "\treturn np.array(dataX), np.array(dataY)"
   ]
  },
  {
   "cell_type": "code",
   "execution_count": 6,
   "id": "54715cdf",
   "metadata": {},
   "outputs": [],
   "source": [
    "look_back = 1\n",
    "trainX, trainY = create_dataset(train, look_back)\n",
    "testX, testY = create_dataset(test, look_back)"
   ]
  },
  {
   "cell_type": "code",
   "execution_count": 7,
   "id": "28e9c80f",
   "metadata": {},
   "outputs": [],
   "source": [
    "trainX = np.reshape(trainX, (trainX.shape[0], 1, trainX.shape[1]))\n",
    "testX = np.reshape(testX, (testX.shape[0], 1, testX.shape[1]))"
   ]
  },
  {
   "cell_type": "code",
   "execution_count": 27,
   "id": "a940417f",
   "metadata": {},
   "outputs": [],
   "source": [
    "def build_gru(input_size, hidden_size, output_size, dropout=0):\n",
    "    model = keras.models.Sequential(\n",
    "        [\n",
    "            layers.GRU(hidden_size,input_shape=(input_size), dropout=dropout, return_sequences=True),\n",
    "            layers.GRU(hidden_size, dropout=dropout,return_sequences=True),\n",
    "            layers.GRU(hidden_size, dropout=dropout,return_sequences=True),\n",
    "            layers.GRU(hidden_size, dropout=dropout,return_sequences=True),\n",
    "            layers.GRU(hidden_size, dropout=dropout,return_sequences=True),\n",
    "            layers.GRU(hidden_size, dropout=dropout,return_sequences=True),\n",
    "            layers.GRU(hidden_size, dropout=dropout,return_sequences=True),\n",
    "            layers.GRU(hidden_size, dropout=dropout,return_sequences=True),\n",
    "            layers.GRU(hidden_size, dropout=dropout,return_sequences=True),\n",
    "            layers.GRU(hidden_size, dropout=dropout,return_sequences=True),\n",
    "            layers.GRU(hidden_size, dropout=dropout,return_sequences=True),\n",
    "            layers.GRU(hidden_size, dropout=dropout,return_sequences=True),\n",
    "            layers.GRU(hidden_size, dropout=dropout,return_sequences=True),\n",
    "            layers.GRU(hidden_size, dropout=dropout,return_sequences=True),\n",
    "            layers.GRU(hidden_size, dropout=dropout,return_sequences=True),\n",
    "            layers.GRU(hidden_size, dropout=dropout,return_sequences=True),\n",
    "            layers.GRU(hidden_size, dropout=dropout,return_sequences=True),\n",
    "            layers.GRU(hidden_size, dropout=dropout,return_sequences=True),\n",
    "            layers.GRU(hidden_size, dropout=dropout,return_sequences=True),\n",
    "            layers.GRU(hidden_size, dropout=dropout),\n",
    "            layers.Dense(output_size),\n",
    "        ]\n",
    "    )\n",
    "    return model"
   ]
  },
  {
   "cell_type": "code",
   "execution_count": 39,
   "id": "9f3d36ab",
   "metadata": {},
   "outputs": [],
   "source": [
    "n_hidden = 512\n",
    "dropout = 0.0\n",
    "n_epochs = 100\n",
    "learning_rate = 0.001\n",
    "batch_size=64\n",
    "opt = tf.keras.optimizers.Adam(learning_rate=learning_rate, beta_1=0.9, beta_2=0.999, epsilon=1e-07, decay=0.001)"
   ]
  },
  {
   "cell_type": "code",
   "execution_count": 40,
   "id": "de3cf0b8",
   "metadata": {},
   "outputs": [
    {
     "name": "stdout",
     "output_type": "stream",
     "text": [
      "Model: \"sequential_8\"\n",
      "_________________________________________________________________\n",
      " Layer (type)                Output Shape              Param #   \n",
      "=================================================================\n",
      " gru_144 (GRU)               (None, 1, 512)            791040    \n",
      "                                                                 \n",
      " gru_145 (GRU)               (None, 1, 512)            1575936   \n",
      "                                                                 \n",
      " batch_normalization_54 (Bat  (None, 1, 512)           2048      \n",
      " chNormalization)                                                \n",
      "                                                                 \n",
      " gru_146 (GRU)               (None, 1, 512)            1575936   \n",
      "                                                                 \n",
      " batch_normalization_55 (Bat  (None, 1, 512)           2048      \n",
      " chNormalization)                                                \n",
      "                                                                 \n",
      " gru_147 (GRU)               (None, 1, 512)            1575936   \n",
      "                                                                 \n",
      " batch_normalization_56 (Bat  (None, 1, 512)           2048      \n",
      " chNormalization)                                                \n",
      "                                                                 \n",
      " gru_148 (GRU)               (None, 1, 512)            1575936   \n",
      "                                                                 \n",
      " batch_normalization_57 (Bat  (None, 1, 512)           2048      \n",
      " chNormalization)                                                \n",
      "                                                                 \n",
      " gru_149 (GRU)               (None, 1, 512)            1575936   \n",
      "                                                                 \n",
      " batch_normalization_58 (Bat  (None, 1, 512)           2048      \n",
      " chNormalization)                                                \n",
      "                                                                 \n",
      " gru_150 (GRU)               (None, 1, 512)            1575936   \n",
      "                                                                 \n",
      " batch_normalization_59 (Bat  (None, 1, 512)           2048      \n",
      " chNormalization)                                                \n",
      "                                                                 \n",
      " gru_151 (GRU)               (None, 1, 512)            1575936   \n",
      "                                                                 \n",
      " batch_normalization_60 (Bat  (None, 1, 512)           2048      \n",
      " chNormalization)                                                \n",
      "                                                                 \n",
      " gru_152 (GRU)               (None, 1, 512)            1575936   \n",
      "                                                                 \n",
      " batch_normalization_61 (Bat  (None, 1, 512)           2048      \n",
      " chNormalization)                                                \n",
      "                                                                 \n",
      " gru_153 (GRU)               (None, 1, 512)            1575936   \n",
      "                                                                 \n",
      " batch_normalization_62 (Bat  (None, 1, 512)           2048      \n",
      " chNormalization)                                                \n",
      "                                                                 \n",
      " gru_154 (GRU)               (None, 1, 512)            1575936   \n",
      "                                                                 \n",
      " batch_normalization_63 (Bat  (None, 1, 512)           2048      \n",
      " chNormalization)                                                \n",
      "                                                                 \n",
      " gru_155 (GRU)               (None, 1, 512)            1575936   \n",
      "                                                                 \n",
      " batch_normalization_64 (Bat  (None, 1, 512)           2048      \n",
      " chNormalization)                                                \n",
      "                                                                 \n",
      " gru_156 (GRU)               (None, 1, 512)            1575936   \n",
      "                                                                 \n",
      " batch_normalization_65 (Bat  (None, 1, 512)           2048      \n",
      " chNormalization)                                                \n",
      "                                                                 \n",
      " gru_157 (GRU)               (None, 1, 512)            1575936   \n",
      "                                                                 \n",
      " batch_normalization_66 (Bat  (None, 1, 512)           2048      \n",
      " chNormalization)                                                \n",
      "                                                                 \n",
      " gru_158 (GRU)               (None, 1, 512)            1575936   \n",
      "                                                                 \n",
      " batch_normalization_67 (Bat  (None, 1, 512)           2048      \n",
      " chNormalization)                                                \n",
      "                                                                 \n",
      " gru_159 (GRU)               (None, 1, 512)            1575936   \n",
      "                                                                 \n",
      " batch_normalization_68 (Bat  (None, 1, 512)           2048      \n",
      " chNormalization)                                                \n",
      "                                                                 \n",
      " gru_160 (GRU)               (None, 1, 512)            1575936   \n",
      "                                                                 \n",
      " batch_normalization_69 (Bat  (None, 1, 512)           2048      \n",
      " chNormalization)                                                \n",
      "                                                                 \n",
      " gru_161 (GRU)               (None, 1, 512)            1575936   \n",
      "                                                                 \n",
      " batch_normalization_70 (Bat  (None, 1, 512)           2048      \n",
      " chNormalization)                                                \n",
      "                                                                 \n",
      " gru_162 (GRU)               (None, 1, 512)            1575936   \n",
      "                                                                 \n",
      " batch_normalization_71 (Bat  (None, 1, 512)           2048      \n",
      " chNormalization)                                                \n",
      "                                                                 \n",
      " gru_163 (GRU)               (None, 512)               1575936   \n",
      "                                                                 \n",
      " dense_8 (Dense)             (None, 1)                 513       \n",
      "                                                                 \n",
      "=================================================================\n",
      "Total params: 30,771,201\n",
      "Trainable params: 30,752,769\n",
      "Non-trainable params: 18,432\n",
      "_________________________________________________________________\n"
     ]
    }
   ],
   "source": [
    "model = build_gru(input_size=(1, look_back), hidden_size=n_hidden, output_size=1, dropout=dropout)\n",
    "model.compile(\n",
    "    loss= 'mean_squared_error',\n",
    "    optimizer=opt,\n",
    "    metrics=[tf.keras.metrics.RootMeanSquaredError()]\n",
    ")\n",
    "model.summary()"
   ]
  },
  {
   "cell_type": "code",
   "execution_count": 41,
   "id": "3ae6c3c3",
   "metadata": {},
   "outputs": [
    {
     "name": "stdout",
     "output_type": "stream",
     "text": [
      "Epoch 1/100\n",
      "81/81 - 40s - loss: 0.1933 - root_mean_squared_error: 0.4396 - val_loss: 0.1177 - val_root_mean_squared_error: 0.3431 - 40s/epoch - 493ms/step\n",
      "Epoch 2/100\n",
      "81/81 - 6s - loss: 0.0055 - root_mean_squared_error: 0.0744 - val_loss: 0.0860 - val_root_mean_squared_error: 0.2932 - 6s/epoch - 76ms/step\n",
      "Epoch 3/100\n",
      "81/81 - 6s - loss: 0.0051 - root_mean_squared_error: 0.0717 - val_loss: 0.0417 - val_root_mean_squared_error: 0.2043 - 6s/epoch - 76ms/step\n",
      "Epoch 4/100\n",
      "81/81 - 6s - loss: 0.0074 - root_mean_squared_error: 0.0861 - val_loss: 0.1443 - val_root_mean_squared_error: 0.3798 - 6s/epoch - 77ms/step\n",
      "Epoch 5/100\n",
      "81/81 - 6s - loss: 0.0052 - root_mean_squared_error: 0.0718 - val_loss: 0.0462 - val_root_mean_squared_error: 0.2149 - 6s/epoch - 77ms/step\n",
      "Epoch 6/100\n",
      "81/81 - 6s - loss: 0.0021 - root_mean_squared_error: 0.0457 - val_loss: 0.0433 - val_root_mean_squared_error: 0.2080 - 6s/epoch - 77ms/step\n",
      "Epoch 7/100\n",
      "81/81 - 7s - loss: 0.0029 - root_mean_squared_error: 0.0539 - val_loss: 0.0222 - val_root_mean_squared_error: 0.1490 - 7s/epoch - 87ms/step\n",
      "Epoch 8/100\n",
      "81/81 - 8s - loss: 0.0015 - root_mean_squared_error: 0.0383 - val_loss: 0.0351 - val_root_mean_squared_error: 0.1874 - 8s/epoch - 95ms/step\n",
      "Epoch 9/100\n",
      "81/81 - 7s - loss: 0.0029 - root_mean_squared_error: 0.0542 - val_loss: 0.0270 - val_root_mean_squared_error: 0.1642 - 7s/epoch - 92ms/step\n",
      "Epoch 10/100\n",
      "81/81 - 7s - loss: 0.0020 - root_mean_squared_error: 0.0444 - val_loss: 1.8451e-04 - val_root_mean_squared_error: 0.0136 - 7s/epoch - 90ms/step\n",
      "Epoch 11/100\n",
      "81/81 - 7s - loss: 0.0020 - root_mean_squared_error: 0.0445 - val_loss: 0.0048 - val_root_mean_squared_error: 0.0693 - 7s/epoch - 90ms/step\n",
      "Epoch 12/100\n",
      "81/81 - 7s - loss: 0.0015 - root_mean_squared_error: 0.0384 - val_loss: 0.0077 - val_root_mean_squared_error: 0.0877 - 7s/epoch - 88ms/step\n",
      "Epoch 13/100\n",
      "81/81 - 8s - loss: 0.0017 - root_mean_squared_error: 0.0406 - val_loss: 0.0048 - val_root_mean_squared_error: 0.0690 - 8s/epoch - 95ms/step\n",
      "Epoch 14/100\n",
      "81/81 - 7s - loss: 0.0010 - root_mean_squared_error: 0.0317 - val_loss: 0.0033 - val_root_mean_squared_error: 0.0574 - 7s/epoch - 92ms/step\n",
      "Epoch 15/100\n",
      "81/81 - 8s - loss: 0.0018 - root_mean_squared_error: 0.0423 - val_loss: 0.0021 - val_root_mean_squared_error: 0.0457 - 8s/epoch - 98ms/step\n",
      "Epoch 16/100\n",
      "81/81 - 8s - loss: 0.0013 - root_mean_squared_error: 0.0359 - val_loss: 8.3854e-05 - val_root_mean_squared_error: 0.0092 - 8s/epoch - 94ms/step\n",
      "Epoch 17/100\n",
      "81/81 - 7s - loss: 0.0011 - root_mean_squared_error: 0.0336 - val_loss: 1.7859e-04 - val_root_mean_squared_error: 0.0134 - 7s/epoch - 92ms/step\n",
      "Epoch 18/100\n",
      "81/81 - 8s - loss: 0.0012 - root_mean_squared_error: 0.0342 - val_loss: 0.0032 - val_root_mean_squared_error: 0.0563 - 8s/epoch - 96ms/step\n",
      "Epoch 19/100\n",
      "81/81 - 8s - loss: 0.0013 - root_mean_squared_error: 0.0360 - val_loss: 0.0033 - val_root_mean_squared_error: 0.0571 - 8s/epoch - 98ms/step\n",
      "Epoch 20/100\n",
      "81/81 - 8s - loss: 0.0015 - root_mean_squared_error: 0.0385 - val_loss: 8.7942e-05 - val_root_mean_squared_error: 0.0094 - 8s/epoch - 95ms/step\n",
      "Epoch 21/100\n",
      "81/81 - 7s - loss: 0.0017 - root_mean_squared_error: 0.0414 - val_loss: 0.0010 - val_root_mean_squared_error: 0.0319 - 7s/epoch - 90ms/step\n",
      "Epoch 22/100\n",
      "81/81 - 7s - loss: 0.0012 - root_mean_squared_error: 0.0347 - val_loss: 4.2770e-05 - val_root_mean_squared_error: 0.0065 - 7s/epoch - 90ms/step\n",
      "Epoch 23/100\n",
      "81/81 - 8s - loss: 9.3380e-04 - root_mean_squared_error: 0.0306 - val_loss: 1.1748e-04 - val_root_mean_squared_error: 0.0108 - 8s/epoch - 94ms/step\n",
      "Epoch 24/100\n",
      "81/81 - 8s - loss: 0.0011 - root_mean_squared_error: 0.0326 - val_loss: 8.5970e-04 - val_root_mean_squared_error: 0.0293 - 8s/epoch - 94ms/step\n",
      "Epoch 25/100\n",
      "81/81 - 8s - loss: 0.0010 - root_mean_squared_error: 0.0318 - val_loss: 0.0016 - val_root_mean_squared_error: 0.0403 - 8s/epoch - 93ms/step\n",
      "Epoch 26/100\n",
      "81/81 - 8s - loss: 8.2805e-04 - root_mean_squared_error: 0.0288 - val_loss: 1.4042e-04 - val_root_mean_squared_error: 0.0118 - 8s/epoch - 94ms/step\n",
      "Epoch 27/100\n",
      "81/81 - 8s - loss: 0.0013 - root_mean_squared_error: 0.0357 - val_loss: 0.0056 - val_root_mean_squared_error: 0.0745 - 8s/epoch - 94ms/step\n",
      "Epoch 28/100\n",
      "81/81 - 7s - loss: 0.0013 - root_mean_squared_error: 0.0358 - val_loss: 2.0914e-04 - val_root_mean_squared_error: 0.0145 - 7s/epoch - 90ms/step\n",
      "Epoch 29/100\n",
      "81/81 - 8s - loss: 0.0012 - root_mean_squared_error: 0.0343 - val_loss: 0.0021 - val_root_mean_squared_error: 0.0460 - 8s/epoch - 95ms/step\n",
      "Epoch 30/100\n",
      "81/81 - 8s - loss: 8.7737e-04 - root_mean_squared_error: 0.0296 - val_loss: 0.0029 - val_root_mean_squared_error: 0.0534 - 8s/epoch - 95ms/step\n",
      "Epoch 31/100\n",
      "81/81 - 7s - loss: 9.4143e-04 - root_mean_squared_error: 0.0307 - val_loss: 1.3195e-04 - val_root_mean_squared_error: 0.0115 - 7s/epoch - 91ms/step\n",
      "Epoch 32/100\n",
      "81/81 - 8s - loss: 0.0012 - root_mean_squared_error: 0.0348 - val_loss: 1.6684e-04 - val_root_mean_squared_error: 0.0129 - 8s/epoch - 94ms/step\n",
      "Epoch 33/100\n",
      "81/81 - 7s - loss: 9.8048e-04 - root_mean_squared_error: 0.0313 - val_loss: 5.9949e-04 - val_root_mean_squared_error: 0.0245 - 7s/epoch - 91ms/step\n",
      "Epoch 34/100\n",
      "81/81 - 8s - loss: 8.0151e-04 - root_mean_squared_error: 0.0283 - val_loss: 5.0472e-04 - val_root_mean_squared_error: 0.0225 - 8s/epoch - 93ms/step\n",
      "Epoch 35/100\n",
      "81/81 - 7s - loss: 8.3922e-04 - root_mean_squared_error: 0.0290 - val_loss: 8.1088e-04 - val_root_mean_squared_error: 0.0285 - 7s/epoch - 92ms/step\n",
      "Epoch 36/100\n",
      "81/81 - 8s - loss: 7.8046e-04 - root_mean_squared_error: 0.0279 - val_loss: 0.0050 - val_root_mean_squared_error: 0.0704 - 8s/epoch - 97ms/step\n",
      "Epoch 37/100\n",
      "81/81 - 8s - loss: 8.5992e-04 - root_mean_squared_error: 0.0293 - val_loss: 0.0049 - val_root_mean_squared_error: 0.0702 - 8s/epoch - 96ms/step\n",
      "Epoch 38/100\n",
      "81/81 - 7s - loss: 0.0010 - root_mean_squared_error: 0.0324 - val_loss: 7.9126e-04 - val_root_mean_squared_error: 0.0281 - 7s/epoch - 89ms/step\n",
      "Epoch 39/100\n",
      "81/81 - 7s - loss: 5.3451e-04 - root_mean_squared_error: 0.0231 - val_loss: 5.5236e-05 - val_root_mean_squared_error: 0.0074 - 7s/epoch - 90ms/step\n",
      "Epoch 40/100\n",
      "81/81 - 7s - loss: 6.1552e-04 - root_mean_squared_error: 0.0248 - val_loss: 4.6258e-05 - val_root_mean_squared_error: 0.0068 - 7s/epoch - 88ms/step\n",
      "Epoch 41/100\n",
      "81/81 - 8s - loss: 9.0009e-04 - root_mean_squared_error: 0.0300 - val_loss: 0.0028 - val_root_mean_squared_error: 0.0533 - 8s/epoch - 95ms/step\n",
      "Epoch 42/100\n",
      "81/81 - 9s - loss: 6.1589e-04 - root_mean_squared_error: 0.0248 - val_loss: 6.1858e-04 - val_root_mean_squared_error: 0.0249 - 9s/epoch - 112ms/step\n",
      "Epoch 43/100\n",
      "81/81 - 8s - loss: 0.0014 - root_mean_squared_error: 0.0371 - val_loss: 0.0131 - val_root_mean_squared_error: 0.1147 - 8s/epoch - 105ms/step\n",
      "Epoch 44/100\n",
      "81/81 - 8s - loss: 8.8838e-04 - root_mean_squared_error: 0.0298 - val_loss: 1.7807e-04 - val_root_mean_squared_error: 0.0133 - 8s/epoch - 101ms/step\n",
      "Epoch 45/100\n",
      "81/81 - 8s - loss: 7.2538e-04 - root_mean_squared_error: 0.0269 - val_loss: 4.1962e-04 - val_root_mean_squared_error: 0.0205 - 8s/epoch - 94ms/step\n",
      "Epoch 46/100\n",
      "81/81 - 8s - loss: 9.7645e-04 - root_mean_squared_error: 0.0312 - val_loss: 2.2490e-04 - val_root_mean_squared_error: 0.0150 - 8s/epoch - 94ms/step\n",
      "Epoch 47/100\n",
      "81/81 - 8s - loss: 8.5004e-04 - root_mean_squared_error: 0.0292 - val_loss: 0.0035 - val_root_mean_squared_error: 0.0588 - 8s/epoch - 93ms/step\n",
      "Epoch 48/100\n",
      "81/81 - 7s - loss: 7.4488e-04 - root_mean_squared_error: 0.0273 - val_loss: 0.0076 - val_root_mean_squared_error: 0.0874 - 7s/epoch - 92ms/step\n",
      "Epoch 49/100\n",
      "81/81 - 8s - loss: 5.4777e-04 - root_mean_squared_error: 0.0234 - val_loss: 0.0022 - val_root_mean_squared_error: 0.0466 - 8s/epoch - 94ms/step\n",
      "Epoch 50/100\n",
      "81/81 - 8s - loss: 5.7791e-04 - root_mean_squared_error: 0.0240 - val_loss: 4.5123e-04 - val_root_mean_squared_error: 0.0212 - 8s/epoch - 94ms/step\n",
      "Epoch 51/100\n",
      "81/81 - 7s - loss: 6.2962e-04 - root_mean_squared_error: 0.0251 - val_loss: 2.9143e-04 - val_root_mean_squared_error: 0.0171 - 7s/epoch - 92ms/step\n",
      "Epoch 52/100\n",
      "81/81 - 7s - loss: 7.2952e-04 - root_mean_squared_error: 0.0270 - val_loss: 2.3397e-04 - val_root_mean_squared_error: 0.0153 - 7s/epoch - 91ms/step\n",
      "Epoch 53/100\n",
      "81/81 - 7s - loss: 6.4763e-04 - root_mean_squared_error: 0.0254 - val_loss: 4.0726e-04 - val_root_mean_squared_error: 0.0202 - 7s/epoch - 91ms/step\n"
     ]
    },
    {
     "name": "stdout",
     "output_type": "stream",
     "text": [
      "Epoch 54/100\n",
      "81/81 - 8s - loss: 4.9897e-04 - root_mean_squared_error: 0.0223 - val_loss: 1.4498e-04 - val_root_mean_squared_error: 0.0120 - 8s/epoch - 93ms/step\n",
      "Epoch 55/100\n",
      "81/81 - 8s - loss: 7.1445e-04 - root_mean_squared_error: 0.0267 - val_loss: 2.0050e-04 - val_root_mean_squared_error: 0.0142 - 8s/epoch - 95ms/step\n",
      "Epoch 56/100\n",
      "81/81 - 7s - loss: 6.3362e-04 - root_mean_squared_error: 0.0252 - val_loss: 0.0051 - val_root_mean_squared_error: 0.0714 - 7s/epoch - 89ms/step\n",
      "Epoch 57/100\n",
      "81/81 - 7s - loss: 6.6985e-04 - root_mean_squared_error: 0.0259 - val_loss: 4.0557e-05 - val_root_mean_squared_error: 0.0064 - 7s/epoch - 88ms/step\n",
      "Epoch 58/100\n",
      "81/81 - 8s - loss: 6.7625e-04 - root_mean_squared_error: 0.0260 - val_loss: 1.8815e-04 - val_root_mean_squared_error: 0.0137 - 8s/epoch - 95ms/step\n",
      "Epoch 59/100\n",
      "81/81 - 8s - loss: 7.0880e-04 - root_mean_squared_error: 0.0266 - val_loss: 4.7383e-04 - val_root_mean_squared_error: 0.0218 - 8s/epoch - 94ms/step\n",
      "Epoch 60/100\n",
      "81/81 - 8s - loss: 7.3294e-04 - root_mean_squared_error: 0.0271 - val_loss: 9.2645e-05 - val_root_mean_squared_error: 0.0096 - 8s/epoch - 96ms/step\n",
      "Epoch 61/100\n",
      "81/81 - 7s - loss: 5.0776e-04 - root_mean_squared_error: 0.0225 - val_loss: 3.6704e-04 - val_root_mean_squared_error: 0.0192 - 7s/epoch - 90ms/step\n",
      "Epoch 62/100\n",
      "81/81 - 7s - loss: 5.7358e-04 - root_mean_squared_error: 0.0239 - val_loss: 8.6864e-05 - val_root_mean_squared_error: 0.0093 - 7s/epoch - 92ms/step\n",
      "Epoch 63/100\n",
      "81/81 - 7s - loss: 6.1048e-04 - root_mean_squared_error: 0.0247 - val_loss: 8.2505e-04 - val_root_mean_squared_error: 0.0287 - 7s/epoch - 90ms/step\n",
      "Epoch 64/100\n",
      "81/81 - 7s - loss: 5.6171e-04 - root_mean_squared_error: 0.0237 - val_loss: 1.7189e-04 - val_root_mean_squared_error: 0.0131 - 7s/epoch - 90ms/step\n",
      "Epoch 65/100\n",
      "81/81 - 7s - loss: 4.3876e-04 - root_mean_squared_error: 0.0209 - val_loss: 1.6981e-04 - val_root_mean_squared_error: 0.0130 - 7s/epoch - 89ms/step\n",
      "Epoch 66/100\n",
      "81/81 - 8s - loss: 7.7954e-04 - root_mean_squared_error: 0.0279 - val_loss: 1.9445e-04 - val_root_mean_squared_error: 0.0139 - 8s/epoch - 95ms/step\n",
      "Epoch 67/100\n",
      "81/81 - 8s - loss: 4.4678e-04 - root_mean_squared_error: 0.0211 - val_loss: 6.3754e-04 - val_root_mean_squared_error: 0.0252 - 8s/epoch - 96ms/step\n",
      "Epoch 68/100\n",
      "81/81 - 7s - loss: 3.9236e-04 - root_mean_squared_error: 0.0198 - val_loss: 9.0340e-04 - val_root_mean_squared_error: 0.0301 - 7s/epoch - 92ms/step\n",
      "Epoch 69/100\n",
      "81/81 - 7s - loss: 5.7524e-04 - root_mean_squared_error: 0.0240 - val_loss: 2.8785e-04 - val_root_mean_squared_error: 0.0170 - 7s/epoch - 91ms/step\n",
      "Epoch 70/100\n",
      "81/81 - 8s - loss: 4.5026e-04 - root_mean_squared_error: 0.0212 - val_loss: 4.0251e-04 - val_root_mean_squared_error: 0.0201 - 8s/epoch - 97ms/step\n",
      "Epoch 71/100\n",
      "81/81 - 7s - loss: 4.1846e-04 - root_mean_squared_error: 0.0205 - val_loss: 0.0021 - val_root_mean_squared_error: 0.0461 - 7s/epoch - 92ms/step\n",
      "Epoch 72/100\n",
      "81/81 - 8s - loss: 6.0992e-04 - root_mean_squared_error: 0.0247 - val_loss: 1.2007e-04 - val_root_mean_squared_error: 0.0110 - 8s/epoch - 94ms/step\n",
      "Epoch 73/100\n",
      "81/81 - 8s - loss: 6.4256e-04 - root_mean_squared_error: 0.0253 - val_loss: 6.0182e-04 - val_root_mean_squared_error: 0.0245 - 8s/epoch - 94ms/step\n",
      "Epoch 74/100\n",
      "81/81 - 8s - loss: 5.7260e-04 - root_mean_squared_error: 0.0239 - val_loss: 1.0784e-04 - val_root_mean_squared_error: 0.0104 - 8s/epoch - 95ms/step\n",
      "Epoch 75/100\n",
      "81/81 - 7s - loss: 3.8535e-04 - root_mean_squared_error: 0.0196 - val_loss: 6.8538e-05 - val_root_mean_squared_error: 0.0083 - 7s/epoch - 92ms/step\n",
      "Epoch 76/100\n",
      "81/81 - 8s - loss: 5.1914e-04 - root_mean_squared_error: 0.0228 - val_loss: 1.9260e-04 - val_root_mean_squared_error: 0.0139 - 8s/epoch - 93ms/step\n",
      "Epoch 77/100\n",
      "81/81 - 8s - loss: 5.2188e-04 - root_mean_squared_error: 0.0228 - val_loss: 8.2944e-05 - val_root_mean_squared_error: 0.0091 - 8s/epoch - 95ms/step\n",
      "Epoch 78/100\n",
      "81/81 - 8s - loss: 4.6158e-04 - root_mean_squared_error: 0.0215 - val_loss: 8.2532e-05 - val_root_mean_squared_error: 0.0091 - 8s/epoch - 95ms/step\n",
      "Epoch 79/100\n",
      "81/81 - 7s - loss: 4.4169e-04 - root_mean_squared_error: 0.0210 - val_loss: 8.8068e-04 - val_root_mean_squared_error: 0.0297 - 7s/epoch - 91ms/step\n",
      "Epoch 80/100\n",
      "81/81 - 7s - loss: 5.2682e-04 - root_mean_squared_error: 0.0230 - val_loss: 0.0012 - val_root_mean_squared_error: 0.0344 - 7s/epoch - 92ms/step\n",
      "Epoch 81/100\n",
      "81/81 - 8s - loss: 7.3167e-04 - root_mean_squared_error: 0.0270 - val_loss: 2.3672e-04 - val_root_mean_squared_error: 0.0154 - 8s/epoch - 97ms/step\n",
      "Epoch 82/100\n",
      "81/81 - 8s - loss: 9.2229e-04 - root_mean_squared_error: 0.0304 - val_loss: 0.0026 - val_root_mean_squared_error: 0.0507 - 8s/epoch - 94ms/step\n",
      "Epoch 83/100\n",
      "81/81 - 7s - loss: 5.0270e-04 - root_mean_squared_error: 0.0224 - val_loss: 4.2707e-04 - val_root_mean_squared_error: 0.0207 - 7s/epoch - 91ms/step\n",
      "Epoch 84/100\n",
      "81/81 - 7s - loss: 4.6567e-04 - root_mean_squared_error: 0.0216 - val_loss: 0.0027 - val_root_mean_squared_error: 0.0523 - 7s/epoch - 92ms/step\n",
      "Epoch 85/100\n",
      "81/81 - 7s - loss: 5.5605e-04 - root_mean_squared_error: 0.0236 - val_loss: 3.9228e-04 - val_root_mean_squared_error: 0.0198 - 7s/epoch - 91ms/step\n",
      "Epoch 86/100\n",
      "81/81 - 8s - loss: 4.7702e-04 - root_mean_squared_error: 0.0218 - val_loss: 3.4696e-04 - val_root_mean_squared_error: 0.0186 - 8s/epoch - 94ms/step\n",
      "Epoch 87/100\n",
      "81/81 - 7s - loss: 5.6671e-04 - root_mean_squared_error: 0.0238 - val_loss: 6.4349e-05 - val_root_mean_squared_error: 0.0080 - 7s/epoch - 90ms/step\n",
      "Epoch 88/100\n",
      "81/81 - 8s - loss: 6.2046e-04 - root_mean_squared_error: 0.0249 - val_loss: 8.9686e-04 - val_root_mean_squared_error: 0.0299 - 8s/epoch - 94ms/step\n",
      "Epoch 89/100\n",
      "81/81 - 8s - loss: 3.7397e-04 - root_mean_squared_error: 0.0193 - val_loss: 3.8923e-05 - val_root_mean_squared_error: 0.0062 - 8s/epoch - 94ms/step\n",
      "Epoch 90/100\n",
      "81/81 - 8s - loss: 6.2730e-04 - root_mean_squared_error: 0.0250 - val_loss: 9.2975e-04 - val_root_mean_squared_error: 0.0305 - 8s/epoch - 93ms/step\n",
      "Epoch 91/100\n",
      "81/81 - 8s - loss: 4.8285e-04 - root_mean_squared_error: 0.0220 - val_loss: 6.0484e-04 - val_root_mean_squared_error: 0.0246 - 8s/epoch - 93ms/step\n",
      "Epoch 92/100\n",
      "81/81 - 7s - loss: 3.7355e-04 - root_mean_squared_error: 0.0193 - val_loss: 0.0015 - val_root_mean_squared_error: 0.0383 - 7s/epoch - 90ms/step\n",
      "Epoch 93/100\n",
      "81/81 - 8s - loss: 4.8165e-04 - root_mean_squared_error: 0.0219 - val_loss: 6.2469e-04 - val_root_mean_squared_error: 0.0250 - 8s/epoch - 93ms/step\n",
      "Epoch 94/100\n",
      "81/81 - 8s - loss: 4.5837e-04 - root_mean_squared_error: 0.0214 - val_loss: 2.8456e-04 - val_root_mean_squared_error: 0.0169 - 8s/epoch - 94ms/step\n",
      "Epoch 95/100\n",
      "81/81 - 8s - loss: 4.3533e-04 - root_mean_squared_error: 0.0209 - val_loss: 2.1580e-04 - val_root_mean_squared_error: 0.0147 - 8s/epoch - 94ms/step\n",
      "Epoch 96/100\n",
      "81/81 - 7s - loss: 3.5968e-04 - root_mean_squared_error: 0.0190 - val_loss: 0.0016 - val_root_mean_squared_error: 0.0398 - 7s/epoch - 92ms/step\n",
      "Epoch 97/100\n",
      "81/81 - 7s - loss: 3.5514e-04 - root_mean_squared_error: 0.0188 - val_loss: 5.9983e-05 - val_root_mean_squared_error: 0.0077 - 7s/epoch - 88ms/step\n",
      "Epoch 98/100\n",
      "81/81 - 8s - loss: 2.6342e-04 - root_mean_squared_error: 0.0162 - val_loss: 1.6114e-04 - val_root_mean_squared_error: 0.0127 - 8s/epoch - 95ms/step\n",
      "Epoch 99/100\n",
      "81/81 - 7s - loss: 4.5425e-04 - root_mean_squared_error: 0.0213 - val_loss: 0.0015 - val_root_mean_squared_error: 0.0384 - 7s/epoch - 91ms/step\n",
      "Epoch 100/100\n",
      "81/81 - 7s - loss: 3.2617e-04 - root_mean_squared_error: 0.0181 - val_loss: 0.0023 - val_root_mean_squared_error: 0.0476 - 7s/epoch - 91ms/step\n"
     ]
    }
   ],
   "source": [
    "history = model.fit(trainX, trainY, epochs=n_epochs, batch_size=batch_size, verbose=2, validation_split = 0.1)"
   ]
  },
  {
   "cell_type": "code",
   "execution_count": 42,
   "id": "02512470",
   "metadata": {},
   "outputs": [
    {
     "data": {
      "image/png": "[encoded data removed]",
      "text/plain": [
       "<Figure size 432x288 with 1 Axes>"
      ]
     },
     "metadata": {
      "needs_background": "light"
     },
     "output_type": "display_data"
    }
   ],
   "source": [
    "# summarize history for accuracy\n",
    "plt.plot(history.history['root_mean_squared_error'])\n",
    "plt.plot(history.history['val_root_mean_squared_error'])\n",
    "plt.title('model accuracy')\n",
    "plt.ylabel('MSE')\n",
    "plt.xlabel('epoch')\n",
    "plt.legend(['Train', 'Validation'], loc='upper left')\n",
    "plt.show()"
   ]
  },
  {
   "cell_type": "code",
   "execution_count": 43,
   "id": "8508c8c0",
   "metadata": {},
   "outputs": [
    {
     "data": {
      "image/png": "[encoded data removed]",
      "text/plain": [
       "<Figure size 432x288 with 1 Axes>"
      ]
     },
     "metadata": {
      "needs_background": "light"
     },
     "output_type": "display_data"
    }
   ],
   "source": [
    "# summarize history for loss\n",
    "plt.plot(history.history['loss'])\n",
    "plt.plot(history.history['val_loss'])\n",
    "plt.title('model loss')\n",
    "plt.ylabel('loss')\n",
    "plt.xlabel('epoch')\n",
    "plt.legend(['Train', 'Validation'], loc='upper left')\n",
    "plt.show()"
   ]
  },
  {
   "cell_type": "markdown",
   "id": "358a8c25",
   "metadata": {},
   "source": [
    "## Checking the prediction results."
   ]
  },
  {
   "cell_type": "code",
   "execution_count": null,
   "id": "b3613144",
   "metadata": {},
   "outputs": [],
   "source": [
    "trainPredict = model.predict(trainX)\n",
    "testPredict = model.predict(testX)\n",
    "# invert predictions\n",
    "trainPredict = scaler.inverse_transform(trainPredict)\n",
    "trainY = scaler.inverse_transform([trainY])\n",
    "testPredict = scaler.inverse_transform(testPredict)\n",
    "testY = scaler.inverse_transform([testY])\n",
    "# calculate root mean squared error\n",
    "trainScore = math.sqrt(mean_squared_error(trainY[0], trainPredict[:,0]))\n",
    "print('Train Score: %.2f RMSE' % (trainScore))\n",
    "testScore = math.sqrt(mean_squared_error(testY[0], testPredict[:,0]))\n",
    "print('Test Score: %.2f RMSE' % (testScore))"
   ]
  },
  {
   "cell_type": "code",
   "execution_count": null,
   "id": "0b652cc2",
   "metadata": {},
   "outputs": [],
   "source": [
    "# shift train predictions for plotting\n",
    "trainPredictPlot = np.empty_like(dataset)\n",
    "trainPredictPlot[:, :] = np.nan\n",
    "trainPredictPlot[look_back:len(trainPredict)+look_back, :] = trainPredict\n",
    "# shift test predictions for plotting\n",
    "testPredictPlot = np.empty_like(dataset)\n",
    "testPredictPlot[:, :] = np.nan\n",
    "testPredictPlot[len(trainPredict)+(look_back*2)+1:len(dataset)-1, :] = testPredict\n",
    "# plot baseline and predictions\n",
    "plt.plot(scaler.inverse_transform(dataset))\n",
    "plt.plot(trainPredictPlot)\n",
    "plt.plot(testPredictPlot)\n",
    "plt.show()"
   ]
  }
 ],
 "metadata": {
  "kernelspec": {
   "display_name": "Python 3 (ipykernel)",
   "language": "python",
   "name": "python3"
  },
  "language_info": {
   "codemirror_mode": {
    "name": "ipython",
    "version": 3
   },
   "file_extension": ".py",
   "mimetype": "text/x-python",
   "name": "python",
   "nbconvert_exporter": "python",
   "pygments_lexer": "ipython3",
   "version": "3.9.7"
  }
 },
 "nbformat": 4,
 "nbformat_minor": 5
}
