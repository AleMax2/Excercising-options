{
 "cells": [
  {
   "cell_type": "code",
   "execution_count": 40,
   "id": "7d519114",
   "metadata": {},
   "outputs": [],
   "source": [
    "import pmdarima\n",
    "import pandas as pd\n",
    "import numpy as np\n",
    "import matplotlib.pyplot as plt\n",
    "import arch"
   ]
  },
  {
   "cell_type": "code",
   "execution_count": 41,
   "id": "81a9ca22",
   "metadata": {},
   "outputs": [
    {
     "data": {
      "text/plain": [
       "array([[ 209.59],\n",
       "       [ 210.88],\n",
       "       [ 210.65],\n",
       "       ...,\n",
       "       [2699.63],\n",
       "       [2716.31],\n",
       "       [2718.37]], dtype=float32)"
      ]
     },
     "execution_count": 41,
     "metadata": {},
     "output_type": "execute_result"
    }
   ],
   "source": [
    "# load the dataset\n",
    "dataframe = pd.read_csv('archive/spx.csv', usecols=[1], engine='python')\n",
    "dataset = dataframe.values\n",
    "dataset = dataset.astype('float32')\n",
    "dataset"
   ]
  },
  {
   "cell_type": "code",
   "execution_count": 42,
   "id": "4af31c9e",
   "metadata": {},
   "outputs": [
    {
     "name": "stdout",
     "output_type": "stream",
     "text": [
      "5734 2458\n"
     ]
    }
   ],
   "source": [
    "# split into train and test sets\n",
    "train_size = int(len(dataset) * 0.7)\n",
    "test_size = len(dataset) - train_size\n",
    "train, test = dataset[0:train_size,:], dataset[train_size:len(dataset),:]\n",
    "print(len(train), len(test))"
   ]
  },
  {
   "cell_type": "code",
   "execution_count": 43,
   "id": "77876dca",
   "metadata": {},
   "outputs": [],
   "source": [
    "# convert an array of values into a dataset matrix\n",
    "def create_dataset(dataset, look_back=1):\n",
    "\tdataX, dataY = [], []\n",
    "\tfor i in range(len(dataset)-look_back-1):\n",
    "\t\ta = dataset[i:(i+look_back), 0]\n",
    "\t\tdataX.append(a)\n",
    "\t\tdataY.append(dataset[i + look_back, 0])\n",
    "\treturn np.array(dataX), np.array(dataY)"
   ]
  },
  {
   "cell_type": "code",
   "execution_count": 44,
   "id": "6f97a4a8",
   "metadata": {},
   "outputs": [],
   "source": [
    "look_back = 1\n",
    "trainX, trainY = create_dataset(train, look_back)\n",
    "testX, testY = create_dataset(test, look_back)"
   ]
  },
  {
   "cell_type": "code",
   "execution_count": 45,
   "id": "820cabec",
   "metadata": {},
   "outputs": [
    {
     "data": {
      "text/plain": [
       "(5732, 1)"
      ]
     },
     "execution_count": 45,
     "metadata": {},
     "output_type": "execute_result"
    }
   ],
   "source": [
    "trainX.shape"
   ]
  },
  {
   "cell_type": "code",
   "execution_count": 46,
   "id": "9762eb41",
   "metadata": {},
   "outputs": [],
   "source": [
    "# trainX = np.reshape(trainX, (trainX.shape[0], 1, trainX.shape[1]))\n",
    "# testX = np.reshape(testX, (testX.shape[0], 1, testX.shape[1]))"
   ]
  },
  {
   "cell_type": "code",
   "execution_count": 47,
   "id": "273ba700",
   "metadata": {},
   "outputs": [],
   "source": [
    "#automatically fit the optimal ARIMA model for given time series\n",
    "arima_model_fitted = pmdarima.auto_arima(train,information_criterion='bic')\n",
    "# one-step out-of sample forecast\n",
    "# forecast = arima_model_fitted.predict(n_periods=1)[0]\n",
    "\n",
    "# # load statsmodels\n",
    "# import statsmodels.tsa.arima_model stm\n",
    "# # fit ARIMA model\n",
    "# model = stm.ARIMA(dataset, order=(3,1,2))\n",
    "# model_fit = model.fit()\n",
    "# # one-step out-of sample forecast\n",
    "# forecast = model_fit.forecast()[0]"
   ]
  },
  {
   "cell_type": "code",
   "execution_count": 48,
   "id": "390b92f3",
   "metadata": {},
   "outputs": [
    {
     "data": {
      "text/plain": [
       "ARIMA(order=(1, 1, 1), scoring_args={}, suppress_warnings=True,\n",
       "      with_intercept=False)"
      ]
     },
     "execution_count": 48,
     "metadata": {},
     "output_type": "execute_result"
    }
   ],
   "source": [
    "arima_model_fitted"
   ]
  },
  {
   "cell_type": "code",
   "execution_count": 49,
   "id": "b645b454",
   "metadata": {
    "scrolled": false
   },
   "outputs": [],
   "source": [
    "forecasts = []\n",
    "for i in range(len(train)-1,len(dataset)):\n",
    "    forecast = arima_model_fitted.fit_predict(dataset[:i], n_periods=1)\n",
    "    forecasts.append(forecast)\n",
    "forecasts = np.array(forecasts)"
   ]
  },
  {
   "cell_type": "code",
   "execution_count": 50,
   "id": "6e15dc49",
   "metadata": {},
   "outputs": [
    {
     "data": {
      "text/plain": [
       "1669.9786268295145"
      ]
     },
     "execution_count": 50,
     "metadata": {},
     "output_type": "execute_result"
    }
   ],
   "source": [
    "RMSE= np.sqrt(np.sum((forecasts - dataset[len(train)-1:])**2)/len(forecasts))\n",
    "RMSE*100"
   ]
  },
  {
   "cell_type": "code",
   "execution_count": 53,
   "id": "c04ab669",
   "metadata": {},
   "outputs": [
    {
     "name": "stdout",
     "output_type": "stream",
     "text": [
      "[[1189.86979669]\n",
      " [1187.24333852]\n",
      " [1208.93526863]\n",
      " [1212.61462122]\n",
      " [1112.16058301]] [[1185.87]\n",
      " [1209.18]\n",
      " [1213.01]\n",
      " [1106.39]\n",
      " [1166.36]]\n"
     ]
    }
   ],
   "source": [
    "print(forecasts[:5,],dataset[len(train)-1:len(train)+4])"
   ]
  },
  {
   "cell_type": "code",
   "execution_count": 51,
   "id": "1835e3af",
   "metadata": {},
   "outputs": [
    {
     "data": {
      "image/png": "[encoded data removed]",
      "text/plain": [
       "<Figure size 432x288 with 1 Axes>"
      ]
     },
     "metadata": {
      "needs_background": "light"
     },
     "output_type": "display_data"
    }
   ],
   "source": [
    "# # shift train predictions for plotting\n",
    "trainPredictPlot = np.empty_like(dataset)\n",
    "trainPredictPlot[:, :] = np.nan\n",
    "trainPredictPlot[look_back:len(train)+look_back, :] = train\n",
    "# shift test predictions for plotting\n",
    "testPredictPlot = np.empty_like(dataset)\n",
    "testPredictPlot[:, :] = np.nan\n",
    "testPredictPlot[len(train)-1:len(dataset), :] = forecasts\n",
    "# # plot baseline and predictions\n",
    "plt.plot(dataset)\n",
    "plt.plot(trainPredictPlot)\n",
    "plt.plot(testPredictPlot)\n",
    "plt.show()"
   ]
  },
  {
   "cell_type": "code",
   "execution_count": 52,
   "id": "b46ef842",
   "metadata": {},
   "outputs": [
    {
     "data": {
      "image/png": "[encoded data removed]",
      "text/plain": [
       "<Figure size 432x288 with 1 Axes>"
      ]
     },
     "metadata": {
      "needs_background": "light"
     },
     "output_type": "display_data"
    }
   ],
   "source": [
    "look_back = 1\n",
    "# # shift train predictions for plotting\n",
    "trainPredictPlot = np.empty_like(dataset)\n",
    "trainPredictPlot[:, :] = np.nan\n",
    "trainPredictPlot[look_back:len(train)+look_back, :] = train\n",
    "# shift test predictions for plotting\n",
    "testPredictPlot = np.empty_like(dataset)\n",
    "testPredictPlot[:, :] = np.nan\n",
    "testPredictPlot[len(train)-1:len(dataset), :] = forecasts\n",
    "# # plot baseline and predictions\n",
    "# plt.plot(dataset[len(train)-1:len(dataset), :])\n",
    "# plt.plot(trainPredictPlot)\n",
    "# plt.plot(dataset[len(train)-1:len(dataset), :])\n",
    "plt.plot(forecasts,dataset[len(train)-1:len(dataset), :])\n",
    "plt.show()"
   ]
  },
  {
   "cell_type": "markdown",
   "id": "e6cf9e7c",
   "metadata": {},
   "source": [
    "## Combining ARIMA and GARCH"
   ]
  },
  {
   "cell_type": "code",
   "execution_count": 14,
   "id": "f59d8dc7",
   "metadata": {},
   "outputs": [
    {
     "name": "stdout",
     "output_type": "stream",
     "text": [
      "Iteration:      1,   Func. Count:      6,   Neg. LLF: 3049194.6622412466\n",
      "Iteration:      2,   Func. Count:     13,   Neg. LLF: 6539398.585471758\n",
      "Iteration:      3,   Func. Count:     20,   Neg. LLF: 29081.09929952151\n",
      "Iteration:      4,   Func. Count:     25,   Neg. LLF: 29813.291286285545\n",
      "Iteration:      5,   Func. Count:     32,   Neg. LLF: 40995.9062130589\n",
      "Iteration:      6,   Func. Count:     38,   Neg. LLF: 28876.91323881404\n",
      "Iteration:      7,   Func. Count:     43,   Neg. LLF: 28881.53625850092\n",
      "Iteration:      8,   Func. Count:     49,   Neg. LLF: 28865.59922804802\n",
      "Iteration:      9,   Func. Count:     54,   Neg. LLF: 28864.86995076775\n",
      "Iteration:     10,   Func. Count:     59,   Neg. LLF: 28864.7303799258\n",
      "Iteration:     11,   Func. Count:     64,   Neg. LLF: 9122378.902068824\n",
      "Iteration:     12,   Func. Count:     73,   Neg. LLF: 28968.125964413237\n",
      "Iteration:     13,   Func. Count:     81,   Neg. LLF: 28941.973070195098\n",
      "Iteration:     14,   Func. Count:     89,   Neg. LLF: 28864.748136814604\n",
      "Iteration:     15,   Func. Count:    103,   Neg. LLF: 28864.728564853125\n",
      "Positive directional derivative for linesearch    (Exit mode 8)\n",
      "            Current function value: 28864.728598885424\n",
      "            Iterations: 19\n",
      "            Function evaluations: 103\n",
      "            Gradient evaluations: 15\n"
     ]
    },
    {
     "name": "stderr",
     "output_type": "stream",
     "text": [
      "D:\\Users\\alepi\\anaconda3\\lib\\site-packages\\arch\\univariate\\base.py:753: ConvergenceWarning: The optimizer returned code 8. The message is:\n",
      "Positive directional derivative for linesearch\n",
      "See scipy.optimize.fmin_slsqp for code meaning.\n",
      "\n",
      "  warnings.warn(\n",
      "D:\\Users\\alepi\\anaconda3\\lib\\site-packages\\arch\\__future__\\_utility.py:11: FutureWarning: \n",
      "The default for reindex is True. After September 2021 this will change to\n",
      "False. Set reindex to True or False to silence this message. Alternatively,\n",
      "you can use the import comment\n",
      "\n",
      "from arch.__future__ import reindexing\n",
      "\n",
      "to globally set reindex to True and silence this warning.\n",
      "\n",
      "  warnings.warn(\n"
     ]
    }
   ],
   "source": [
    "# fit ARIMA on returns \n",
    "p, d, q = arima_model_fitted.order\n",
    "arima_residuals = arima_model_fitted.arima_res_.resid\n",
    "\n",
    "# fit a GARCH(1,1) model on the residuals of the ARIMA model\n",
    "garch = arch.arch_model(arima_residuals,vol='GARCH', p=1, q=1)\n",
    "garch_fitted = garch.fit()\n",
    "\n",
    "# Use ARIMA to predict mu\n",
    "predicted_mu = arima_model_fitted.predict(n_periods=1)[0]\n",
    "# Use GARCH to predict the residual\n",
    "garch_forecast = garch_fitted.forecast(horizon=1)\n",
    "predicted_et = garch_forecast.mean['h.1'].iloc[-1]\n",
    "# Combine both models' output: yt = mu + et\n",
    "prediction = predicted_mu + predicted_et"
   ]
  },
  {
   "cell_type": "code",
   "execution_count": 15,
   "id": "9fe28deb",
   "metadata": {},
   "outputs": [
    {
     "data": {
      "text/plain": [
       "array([ 2.09589996e+02,  1.29162358e+00, -1.64547149e-01, ...,\n",
       "        3.54953541e+00, -2.49021395e+01,  1.43380262e+01])"
      ]
     },
     "execution_count": 15,
     "metadata": {},
     "output_type": "execute_result"
    }
   ],
   "source": [
    "arima_residuals"
   ]
  },
  {
   "cell_type": "code",
   "execution_count": 16,
   "id": "654a3b58",
   "metadata": {},
   "outputs": [
    {
     "data": {
      "text/html": [
       "<strong>Constant Mean</strong>(<strong>constant: </strong>yes,\n",
       "<strong>no. of exog: </strong>0,\n",
       "<strong>volatility: </strong>GARCH(p: 1, q: 1),\n",
       "<strong>distribution: </strong>Normal distribution,\n",
       "<strong>ID: </strong> 0x1fffa79cb50)"
      ],
      "text/plain": [
       "Constant Mean(constant: yes, no. of exog: 0, volatility: GARCH(p: 1, q: 1), distribution: Normal distribution), id: 0x1fffa79cb50"
      ]
     },
     "execution_count": 16,
     "metadata": {},
     "output_type": "execute_result"
    }
   ],
   "source": [
    "garch"
   ]
  },
  {
   "cell_type": "code",
   "execution_count": 17,
   "id": "bbc71417",
   "metadata": {},
   "outputs": [
    {
     "data": {
      "text/plain": [
       "                     Constant Mean - GARCH Model Results                      \n",
       "==============================================================================\n",
       "Dep. Variable:                      y   R-squared:                       0.000\n",
       "Mean Model:             Constant Mean   Adj. R-squared:                  0.000\n",
       "Vol Model:                      GARCH   Log-Likelihood:               -28864.7\n",
       "Distribution:                  Normal   AIC:                           57737.5\n",
       "Method:            Maximum Likelihood   BIC:                           57765.5\n",
       "                                        No. Observations:                 8191\n",
       "Date:                Wed, Apr 27 2022   Df Residuals:                     8190\n",
       "Time:                        13:11:18   Df Model:                            1\n",
       "                               Mean Model                               \n",
       "========================================================================\n",
       "                 coef    std err          t      P>|t|  95.0% Conf. Int.\n",
       "------------------------------------------------------------------------\n",
       "mu             0.3332  5.639e-02      5.909  3.435e-09 [  0.223,  0.444]\n",
       "                             Volatility Model                             \n",
       "==========================================================================\n",
       "                 coef    std err          t      P>|t|    95.0% Conf. Int.\n",
       "--------------------------------------------------------------------------\n",
       "omega          0.1842  6.241e-02      2.951  3.167e-03 [6.185e-02,  0.306]\n",
       "alpha[1]       0.0880  1.119e-02      7.866  3.670e-15 [6.609e-02,  0.110]\n",
       "beta[1]        0.9120  1.125e-02     81.074      0.000   [  0.890,  0.934]\n",
       "==========================================================================\n",
       "\n",
       "Covariance estimator: robust\n",
       "WARNING: The optimizer did not indicate successful convergence. The message was Positive directional derivative for linesearch.\n",
       "See convergence_flag.\n",
       "\n",
       "ARCHModelResult, id: 0x1fff5814910"
      ]
     },
     "execution_count": 17,
     "metadata": {},
     "output_type": "execute_result"
    }
   ],
   "source": [
    "garch_fitted"
   ]
  },
  {
   "cell_type": "code",
   "execution_count": null,
   "id": "44a642bb",
   "metadata": {},
   "outputs": [],
   "source": []
  },
  {
   "cell_type": "code",
   "execution_count": 18,
   "id": "0501cd9e",
   "metadata": {},
   "outputs": [
    {
     "data": {
      "image/png": "[encoded data removed]",
      "text/plain": [
       "<Figure size 432x288 with 1 Axes>"
      ]
     },
     "metadata": {
      "needs_background": "light"
     },
     "output_type": "display_data"
    }
   ],
   "source": [
    "from statsmodels.graphics.tsaplots import plot_acf\n",
    "plot_acf(arima_residuals**2)\n",
    "plt.show()"
   ]
  },
  {
   "cell_type": "code",
   "execution_count": 28,
   "id": "34802226",
   "metadata": {},
   "outputs": [],
   "source": [
    "garch = arch.arch_model(arima_residuals,vol='GARCH', p=2, q=2)\n",
    "garch_fitted = garch.fit(update_freq=0)\n",
    "# garch_fitted"
   ]
  },
  {
   "cell_type": "code",
   "execution_count": 20,
   "id": "7112aa70",
   "metadata": {},
   "outputs": [
    {
     "name": "stdout",
     "output_type": "stream",
     "text": [
      "Iteration:      1,   Func. Count:      8,   Neg. LLF: 3107477.7880804962\n",
      "Iteration:      2,   Func. Count:     16,   Neg. LLF: 854775.5935534141\n",
      "Iteration:      3,   Func. Count:     25,   Neg. LLF: 29888.906258778068\n",
      "Iteration:      4,   Func. Count:     33,   Neg. LLF: 28966.816879177546\n",
      "Iteration:      5,   Func. Count:     40,   Neg. LLF: 43261.36030696145\n",
      "Iteration:      6,   Func. Count:     48,   Neg. LLF: 28948.14093922356\n",
      "Iteration:      7,   Func. Count:     57,   Neg. LLF: 29458.498370897807\n",
      "Iteration:      8,   Func. Count:     65,   Neg. LLF: 29224.063668939147\n",
      "Iteration:      9,   Func. Count:     74,   Neg. LLF: 28930.296160165657\n",
      "Iteration:     10,   Func. Count:     82,   Neg. LLF: 28861.99759449055\n",
      "Iteration:     11,   Func. Count:     89,   Neg. LLF: 28861.941646315245\n",
      "Iteration:     12,   Func. Count:     96,   Neg. LLF: 28861.901979443777\n",
      "Iteration:     13,   Func. Count:    103,   Neg. LLF: 28861.873964663242\n",
      "Iteration:     14,   Func. Count:    110,   Neg. LLF: 28861.870361354973\n",
      "Iteration:     15,   Func. Count:    117,   Neg. LLF: 28861.872152705546\n",
      "Iteration:     16,   Func. Count:    125,   Neg. LLF: 29750.214020227337\n",
      "Iteration:     17,   Func. Count:    135,   Neg. LLF: 29560.574180367457\n",
      "Iteration:     18,   Func. Count:    145,   Neg. LLF: 29040.031918730565\n",
      "Iteration:     19,   Func. Count:    155,   Neg. LLF: 29041.748057532575\n",
      "Iteration:     20,   Func. Count:    165,   Neg. LLF: 28861.940466471835\n",
      "Iteration:     21,   Func. Count:    174,   Neg. LLF: 28861.863129761747\n",
      "Iteration:     22,   Func. Count:    181,   Neg. LLF: 28861.857950844427\n",
      "Iteration:     23,   Func. Count:    188,   Neg. LLF: 28861.861908261715\n",
      "Iteration:     24,   Func. Count:    197,   Neg. LLF: 28861.861767900013\n",
      "Iteration:     25,   Func. Count:    203,   Neg. LLF: 28861.861748919204\n",
      "Optimization terminated successfully    (Exit mode 0)\n",
      "            Current function value: 28861.861767900013\n",
      "            Iterations: 26\n",
      "            Function evaluations: 203\n",
      "            Gradient evaluations: 25\n"
     ]
    },
    {
     "name": "stderr",
     "output_type": "stream",
     "text": [
      "D:\\Users\\alepi\\anaconda3\\lib\\site-packages\\arch\\__future__\\_utility.py:11: FutureWarning: \n",
      "The default for reindex is True. After September 2021 this will change to\n",
      "False. Set reindex to True or False to silence this message. Alternatively,\n",
      "you can use the import comment\n",
      "\n",
      "from arch.__future__ import reindexing\n",
      "\n",
      "to globally set reindex to True and silence this warning.\n",
      "\n",
      "  warnings.warn(\n"
     ]
    }
   ],
   "source": [
    "# fit ARIMA on returns \n",
    "p, d, q = arima_model_fitted.order\n",
    "arima_residuals = arima_model_fitted.arima_res_.resid\n",
    "\n",
    "# fit a GARCH(1,1) model on the residuals of the ARIMA model\n",
    "garch = arch.arch_model(arima_residuals,vol='GARCH', p=2, q=2)\n",
    "garch_fitted = garch.fit()\n",
    "\n",
    "# Use ARIMA to predict mu\n",
    "predicted_mu = arima_model_fitted.predict(n_periods=1)[0]\n",
    "# Use GARCH to predict the residual\n",
    "garch_forecast = garch_fitted.forecast(horizon=1)\n",
    "predicted_et = garch_forecast.mean['h.1'].iloc[-1]\n",
    "# Combine both models' output: yt = mu + et\n",
    "prediction = predicted_mu + predicted_et"
   ]
  },
  {
   "cell_type": "code",
   "execution_count": 31,
   "id": "38f8cc13",
   "metadata": {},
   "outputs": [
    {
     "name": "stderr",
     "output_type": "stream",
     "text": [
      "D:\\Users\\alepi\\anaconda3\\lib\\site-packages\\arch\\univariate\\base.py:753: ConvergenceWarning: The optimizer returned code 8. The message is:\n",
      "Positive directional derivative for linesearch\n",
      "See scipy.optimize.fmin_slsqp for code meaning.\n",
      "\n",
      "  warnings.warn(\n",
      "D:\\Users\\alepi\\anaconda3\\lib\\site-packages\\arch\\univariate\\base.py:753: ConvergenceWarning: The optimizer returned code 8. The message is:\n",
      "Positive directional derivative for linesearch\n",
      "See scipy.optimize.fmin_slsqp for code meaning.\n",
      "\n",
      "  warnings.warn(\n",
      "D:\\Users\\alepi\\anaconda3\\lib\\site-packages\\arch\\univariate\\base.py:753: ConvergenceWarning: The optimizer returned code 8. The message is:\n",
      "Positive directional derivative for linesearch\n",
      "See scipy.optimize.fmin_slsqp for code meaning.\n",
      "\n",
      "  warnings.warn(\n",
      "D:\\Users\\alepi\\anaconda3\\lib\\site-packages\\arch\\univariate\\base.py:753: ConvergenceWarning: The optimizer returned code 8. The message is:\n",
      "Positive directional derivative for linesearch\n",
      "See scipy.optimize.fmin_slsqp for code meaning.\n",
      "\n",
      "  warnings.warn(\n",
      "D:\\Users\\alepi\\anaconda3\\lib\\site-packages\\arch\\univariate\\base.py:753: ConvergenceWarning: The optimizer returned code 8. The message is:\n",
      "Positive directional derivative for linesearch\n",
      "See scipy.optimize.fmin_slsqp for code meaning.\n",
      "\n",
      "  warnings.warn(\n",
      "D:\\Users\\alepi\\anaconda3\\lib\\site-packages\\arch\\univariate\\base.py:753: ConvergenceWarning: The optimizer returned code 8. The message is:\n",
      "Positive directional derivative for linesearch\n",
      "See scipy.optimize.fmin_slsqp for code meaning.\n",
      "\n",
      "  warnings.warn(\n",
      "D:\\Users\\alepi\\anaconda3\\lib\\site-packages\\arch\\univariate\\base.py:753: ConvergenceWarning: The optimizer returned code 8. The message is:\n",
      "Positive directional derivative for linesearch\n",
      "See scipy.optimize.fmin_slsqp for code meaning.\n",
      "\n",
      "  warnings.warn(\n",
      "D:\\Users\\alepi\\anaconda3\\lib\\site-packages\\arch\\univariate\\base.py:753: ConvergenceWarning: The optimizer returned code 8. The message is:\n",
      "Positive directional derivative for linesearch\n",
      "See scipy.optimize.fmin_slsqp for code meaning.\n",
      "\n",
      "  warnings.warn(\n",
      "D:\\Users\\alepi\\anaconda3\\lib\\site-packages\\arch\\univariate\\base.py:753: ConvergenceWarning: The optimizer returned code 8. The message is:\n",
      "Positive directional derivative for linesearch\n",
      "See scipy.optimize.fmin_slsqp for code meaning.\n",
      "\n",
      "  warnings.warn(\n",
      "D:\\Users\\alepi\\anaconda3\\lib\\site-packages\\arch\\univariate\\base.py:753: ConvergenceWarning: The optimizer returned code 8. The message is:\n",
      "Positive directional derivative for linesearch\n",
      "See scipy.optimize.fmin_slsqp for code meaning.\n",
      "\n",
      "  warnings.warn(\n",
      "D:\\Users\\alepi\\anaconda3\\lib\\site-packages\\arch\\univariate\\base.py:753: ConvergenceWarning: The optimizer returned code 9. The message is:\n",
      "Iteration limit reached\n",
      "See scipy.optimize.fmin_slsqp for code meaning.\n",
      "\n",
      "  warnings.warn(\n"
     ]
    }
   ],
   "source": [
    "forecasts = []\n",
    "for i in range(len(train)-1,len(dataset)):\n",
    "    foremu = arima_model_fitted.fit_predict(dataset[:i], n_periods=1)\n",
    "    arima_residuals = arima_model_fitted.arima_res_.resid\n",
    "    garch = arch.arch_model(arima_residuals,vol='GARCH', p=2, q=2)\n",
    "    garch_fitted = garch.fit(update_freq=0, disp=\"off\")\n",
    "    predicted_et = garch_forecast.mean['h.1'].iloc[-1]\n",
    "    forecast = predicted_mu + predicted_et\n",
    "    forecasts.append(forecast)\n",
    "forecasts = np.array(forecasts)"
   ]
  },
  {
   "cell_type": "code",
   "execution_count": 38,
   "id": "173fc69f",
   "metadata": {},
   "outputs": [
    {
     "data": {
      "text/plain": [
       "5745801.825718816"
      ]
     },
     "execution_count": 38,
     "metadata": {},
     "output_type": "execute_result"
    }
   ],
   "source": [
    "RMSE= np.sqrt(np.sum((forecasts - dataset[len(train)-1:])**2)/len(forecasts))\n",
    "RMSE*100"
   ]
  },
  {
   "cell_type": "code",
   "execution_count": 35,
   "id": "2dee6181",
   "metadata": {},
   "outputs": [
    {
     "data": {
      "text/plain": [
       "2459"
      ]
     },
     "execution_count": 35,
     "metadata": {},
     "output_type": "execute_result"
    }
   ],
   "source": []
  },
  {
   "cell_type": "code",
   "execution_count": 37,
   "id": "13a36f49",
   "metadata": {},
   "outputs": [
    {
     "data": {
      "text/plain": [
       "-6208716960.821202"
      ]
     },
     "execution_count": 37,
     "metadata": {},
     "output_type": "execute_result"
    }
   ],
   "source": [
    "np.sum((dataset[len(train)-1:]-forecasts))"
   ]
  },
  {
   "cell_type": "code",
   "execution_count": null,
   "id": "5affae08",
   "metadata": {},
   "outputs": [],
   "source": []
  }
 ],
 "metadata": {
  "kernelspec": {
   "display_name": "Python 3 (ipykernel)",
   "language": "python",
   "name": "python3"
  },
  "language_info": {
   "codemirror_mode": {
    "name": "ipython",
    "version": 3
   },
   "file_extension": ".py",
   "mimetype": "text/x-python",
   "name": "python",
   "nbconvert_exporter": "python",
   "pygments_lexer": "ipython3",
   "version": "3.9.7"
  }
 },
 "nbformat": 4,
 "nbformat_minor": 5
}
