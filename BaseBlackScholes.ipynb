{
 "cells": [
  {
   "cell_type": "markdown",
   "id": "c74fa341",
   "metadata": {},
   "source": [
    "# I am basically going to excercise a bit and try different codes\n"
   ]
  },
  {
   "cell_type": "code",
   "execution_count": 1,
   "id": "f2a46324",
   "metadata": {},
   "outputs": [],
   "source": [
    "# The libraries as always\n",
    "import math\n",
    "import random\n",
    "import numpy as np\n",
    "import matplotlib.pyplot as plt\n",
    "from datetime import date\n",
    "from scipy.stats import norm"
   ]
  },
  {
   "cell_type": "markdown",
   "id": "13339b45",
   "metadata": {},
   "source": [
    "## 1. Defining the stochastic process"
   ]
  },
  {
   "cell_type": "code",
   "execution_count": 2,
   "id": "985087c6",
   "metadata": {},
   "outputs": [],
   "source": [
    "# Models the underling asset assuming geometetric brownian motion\n",
    "class StochasticProcess:\n",
    "\n",
    "    # Probability of motion in a certain direction\n",
    "    def motion_probability(self, motion_to):\n",
    "        if motion_to > self.current_asset_price:\n",
    "            pass\n",
    "        elif motion_to <= self.current_asset_price:\n",
    "            pass\n",
    "\n",
    "    def time_step(self):\n",
    "        # Brownian motion is ~N(0, delta_t), np.random.normal takes mean and standard deviation\n",
    "        dW = np.random.normal(0, math.sqrt(self.delta_t)) \n",
    "        dS = self.drift*self.current_asset_price*self.delta_t + self.asset_volatility*self.current_asset_price*dW\n",
    "        self.asset_prices.append(self.current_asset_price + dS)\n",
    "        # Reassign the new current asset price for next time step\n",
    "        self.current_asset_price = self.current_asset_price + dS\n",
    "\n",
    "    def __init__(self, asset_price, drift, delta_t, asset_volatility):\n",
    "        self.current_asset_price = asset_price\n",
    "        self.asset_prices = []\n",
    "        self.asset_prices.append(asset_price)\n",
    "        self.drift = drift\n",
    "        self.delta_t = delta_t\n",
    "        self.asset_volatility = asset_volatility"
   ]
  },
  {
   "cell_type": "markdown",
   "id": "9ba99949",
   "metadata": {},
   "source": [
    "## Understanding brownian motions."
   ]
  },
  {
   "cell_type": "code",
   "execution_count": 3,
   "id": "613d250f",
   "metadata": {},
   "outputs": [
    {
     "data": {
      "image/png": "[encoded data removed]",
      "text/plain": [
       "<Figure size 432x288 with 1 Axes>"
      ]
     },
     "metadata": {
      "needs_background": "light"
     },
     "output_type": "display_data"
    }
   ],
   "source": [
    "mu = 1\n",
    "n = 50\n",
    "dt = 0.1\n",
    "x0 = 100\n",
    "np.random.seed(1)\n",
    "\n",
    "sigma = np.arange(0.8, 2, 0.2)\n",
    "\n",
    "x = np.exp(\n",
    "    (mu - sigma ** 2 / 2) * dt\n",
    "    + sigma * np.random.normal(0, np.sqrt(dt), size=(len(sigma), n)).T\n",
    ")\n",
    "x = np.vstack([np.ones(len(sigma)), x])\n",
    "x = x0 * x.cumprod(axis=0)\n",
    "\n",
    "plt.plot(x)\n",
    "plt.legend(np.round(sigma, 2))\n",
    "plt.xlabel(\"$t$\")\n",
    "plt.ylabel(\"$x$\")\n",
    "plt.title(\n",
    "    \"Realizations of Geometric Brownian Motion with different variances\\n $\\mu=1$\"\n",
    ")\n",
    "plt.show()"
   ]
  },
  {
   "cell_type": "markdown",
   "id": "2d63dcb5",
   "metadata": {},
   "source": [
    "## 2. Testing it on the simplest of options.\n",
    "Example taken from: https://medium.com/swlh/python-for-pricing-exotics-3a2bfab5ff66"
   ]
  },
  {
   "cell_type": "code",
   "execution_count": 4,
   "id": "c8a8f399",
   "metadata": {},
   "outputs": [],
   "source": [
    "class EuroCall:\n",
    "\n",
    "    def __init__(self, strike):\n",
    "        self.strike = strike"
   ]
  },
  {
   "cell_type": "code",
   "execution_count": 5,
   "id": "c431042c",
   "metadata": {},
   "outputs": [],
   "source": [
    "class EuroCallSimulation:\n",
    "\n",
    "    def __init__(self, EuroCall, n_options, initial_asset_price, drift, delta_t, asset_volatility, time_to_expiration, risk_free_rate):\n",
    "        # List of stochastic processes modeling the underlying asset\n",
    "        stochastic_processes = []\n",
    "        # Generate a stochastic process for each option\n",
    "        for i in range(n_options):\n",
    "            stochastic_processes.append(StochasticProcess(initial_asset_price, drift, delta_t, asset_volatility)) # Note delta t is annualized\n",
    "\n",
    "        # Automatically create the required steps in time for the simulation by creating a time_step in the stochastic process if its still greator than 0\n",
    "        # Make n_time_steps for each stochastic process\n",
    "        for stochastic_process in stochastic_processes:\n",
    "            tte = time_to_expiration\n",
    "            while((tte-stochastic_process.delta_t) > 0):\n",
    "                # Account for the passing of time\n",
    "                tte = tte - stochastic_process.delta_t\n",
    "                # Take a time step in the stochastic process\n",
    "                stochastic_process.time_step()\n",
    "\n",
    "        payoffs = []\n",
    "        # for each stochastic process determine the payoff (if there is one)\n",
    "        for stochastic_process in stochastic_processes:\n",
    "            payoff = stochastic_process.asset_prices[len(stochastic_process.asset_prices)-1] - EuroCall.strike\n",
    "            z = payoff if payoff > 0 else 0\n",
    "            payoffs.append(z)\n",
    "        self.price = np.average(payoffs)*math.exp(-time_to_expiration*risk_free_rate)"
   ]
  },
  {
   "cell_type": "markdown",
   "id": "70cba563",
   "metadata": {},
   "source": [
    "## 2.1.1 Wherefrom the parameters for the simulation are:\n",
    "EuroCall(296): European call with a 296 strike price.\n",
    "\n",
    "10000: Number of sample paths to generate.\n",
    "\n",
    "295: Current underlying asset price.\n",
    "\n",
    "1/365: Time step between asset prices.\n",
    "\n",
    ".2435 (24.35%): Implied volatility.\n",
    "\n",
    "39/365: Time until expiration.\n",
    "\n",
    ".0017: 1 year U.S. Treasury rate (risk free rate).\n"
   ]
  },
  {
   "cell_type": "markdown",
   "id": "7b0f9c8b",
   "metadata": {},
   "source": [
    "## 2.1.2 Checking results"
   ]
  },
  {
   "cell_type": "code",
   "execution_count": 6,
   "id": "8da9a246",
   "metadata": {},
   "outputs": [
    {
     "name": "stdout",
     "output_type": "stream",
     "text": [
      "Monte Carlo Euro Call Price:  8.9777267273707\n"
     ]
    }
   ],
   "source": [
    "print('Monte Carlo Euro Call Price: ', EuroCallSimulation(EuroCall(296), 10000, 295, 0, 1/365, .2435, 39/365, .0017).price)"
   ]
  },
  {
   "cell_type": "markdown",
   "id": "8ad1cd01",
   "metadata": {},
   "source": [
    "## 2.2 The model for European Calls pricing."
   ]
  },
  {
   "cell_type": "code",
   "execution_count": 7,
   "id": "8a6f1113",
   "metadata": {},
   "outputs": [],
   "source": [
    "class EuropeanCall:\n",
    "\n",
    "    def call_delta(\n",
    "        self, asset_price, asset_volatility, strike_price,\n",
    "        time_to_expiration, risk_free_rate\n",
    "            ):\n",
    "        b = math.exp(-risk_free_rate*time_to_expiration)\n",
    "        x1 = math.log(asset_price/(b*strike_price)) + .5*(asset_volatility*asset_volatility)*time_to_expiration\n",
    "        x1 = x1/(asset_volatility*(time_to_expiration**.5))\n",
    "        z1 = norm.cdf(x1)\n",
    "        return z1\n",
    "\n",
    "    def call_gamma(\n",
    "        self, asset_price, asset_volatility, strike_price,\n",
    "        time_to_expiration, risk_free_rate\n",
    "            ):\n",
    "        b = math.exp(-risk_free_rate*time_to_expiration)\n",
    "        x1 = math.log(asset_price/(b*strike_price)) + .5*(asset_volatility*asset_volatility)*time_to_expiration\n",
    "        x1 = x1/(asset_volatility*(time_to_expiration**.5))\n",
    "        z1 = norm.cdf(x1)\n",
    "        z2 = z1/(asset_price*asset_volatility*math.sqrt(time_to_expiration))\n",
    "        return z2\n",
    "\n",
    "    def call_vega(\n",
    "        self, asset_price, asset_volatility, strike_price,\n",
    "        time_to_expiration, risk_free_rate\n",
    "            ):\n",
    "        b = math.exp(-risk_free_rate*time_to_expiration)\n",
    "        x1 = math.log(asset_price/(b*strike_price)) + .5*(asset_volatility*asset_volatility)*time_to_expiration\n",
    "        x1 = x1/(asset_volatility*(time_to_expiration**.5))\n",
    "        z1 = norm.cdf(x1)\n",
    "        z2 = asset_price*z1*math.sqrt(time_to_expiration)\n",
    "        return z2\n",
    "\n",
    "    def call_price(\n",
    "        self, asset_price, asset_volatility, strike_price,\n",
    "        time_to_expiration, risk_free_rate\n",
    "            ):\n",
    "        b = math.exp(-risk_free_rate*time_to_expiration)\n",
    "        x1 = math.log(asset_price/(b*strike_price)) + .5*(asset_volatility*asset_volatility)*time_to_expiration\n",
    "        x1 = x1/(asset_volatility*(time_to_expiration**.5))\n",
    "        z1 = norm.cdf(x1)\n",
    "        z1 = z1*asset_price\n",
    "        x2 = math.log(asset_price/(b*strike_price)) - .5*(asset_volatility*asset_volatility)*time_to_expiration\n",
    "        x2 = x2/(asset_volatility*(time_to_expiration**.5))\n",
    "        z2 = norm.cdf(x2)\n",
    "        z2 = b*strike_price*z2\n",
    "        return z1 - z2\n",
    "\n",
    "    def __init__(\n",
    "        self, asset_price, asset_volatility, strike_price,\n",
    "        time_to_expiration, risk_free_rate\n",
    "            ):\n",
    "        self.asset_price = asset_price\n",
    "        self.asset_volatility = asset_volatility\n",
    "        self.strike_price = strike_price\n",
    "        self.time_to_expiration = time_to_expiration\n",
    "        self.risk_free_rate = risk_free_rate\n",
    "        self.price = self.call_price(asset_price, asset_volatility, strike_price, time_to_expiration, risk_free_rate)\n",
    "        self.delta = self.call_delta(asset_price, asset_volatility, strike_price, time_to_expiration, risk_free_rate)\n",
    "        self.gamma = self.call_gamma(asset_price, asset_volatility, strike_price, time_to_expiration, risk_free_rate)\n",
    "        self.vega = self.call_vega(asset_price, asset_volatility, strike_price, time_to_expiration, risk_free_rate)"
   ]
  },
  {
   "cell_type": "code",
   "execution_count": 10,
   "id": "dc814a84",
   "metadata": {},
   "outputs": [
    {
     "name": "stdout",
     "output_type": "stream",
     "text": [
      "Black-Scholes European Call price:  8.914368847065361\n",
      "Monte Carlo Euro Call Price:  8.732824856036322\n"
     ]
    }
   ],
   "source": [
    "print('Black-Scholes European Call price: ', EuropeanCall(295, .2435, 296, 39/365, .0017).price)\n",
    "print('Monte Carlo Euro Call Price: ', EuroCallSimulation(EuroCall(296), 100000, 295, 0, 1/365, .2435, 39/365, .0017).price)"
   ]
  },
  {
   "cell_type": "markdown",
   "id": "7cc654c1",
   "metadata": {},
   "source": [
    "# 3. Another example taken from: \n",
    "https://www.codearmo.com/blog/pricing-options-monte-carlo-simulation-python"
   ]
  },
  {
   "cell_type": "code",
   "execution_count": null,
   "id": "a6122564",
   "metadata": {},
   "outputs": [],
   "source": []
  }
 ],
 "metadata": {
  "kernelspec": {
   "display_name": "Python 3 (ipykernel)",
   "language": "python",
   "name": "python3"
  },
  "language_info": {
   "codemirror_mode": {
    "name": "ipython",
    "version": 3
   },
   "file_extension": ".py",
   "mimetype": "text/x-python",
   "name": "python",
   "nbconvert_exporter": "python",
   "pygments_lexer": "ipython3",
   "version": "3.9.7"
  }
 },
 "nbformat": 4,
 "nbformat_minor": 5
}
