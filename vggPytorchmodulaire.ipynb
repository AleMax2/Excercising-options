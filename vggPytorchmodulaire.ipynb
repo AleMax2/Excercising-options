{
 "cells": [
  {
   "cell_type": "code",
   "execution_count": 1,
   "metadata": {
    "id": "JS4Dg4rwO3Ar"
   },
   "outputs": [],
   "source": [
    "from __future__ import print_function\n",
    "import torch\n",
    "import torch.nn as nn\n",
    "import torch.optim as optim\n",
    "from torch.optim import lr_scheduler\n",
    "import torch.nn.functional as F\n",
    "import torch.backends.cudnn as cudnn\n",
    "import torchvision\n",
    "import torchvision.transforms as transforms\n",
    "import matplotlib.pyplot as plt\n",
    "from torch.utils.data.sampler import SubsetRandomSampler\n",
    "import os\n",
    "import numpy as np\n",
    "from tqdm import tqdm"
   ]
  },
  {
   "cell_type": "code",
   "execution_count": 2,
   "metadata": {
    "id": "hvxZPjWsPiQk"
   },
   "outputs": [],
   "source": [
    "lr = 0.01\n",
    "wd = 1e-6\n",
    "ne = 60\n",
    "nsc = 20\n",
    "gamma = 0.32\n",
    "device = 'cuda' if torch.cuda.is_available() else 'cpu'\n",
    "#To get reproductible experiment\n",
    "torch.manual_seed(0)\n",
    "np.random.seed(0)"
   ]
  },
  {
   "cell_type": "code",
   "execution_count": 3,
   "metadata": {
    "colab": {
     "base_uri": "https://localhost:8080/",
     "height": 118,
     "referenced_widgets": [
      "738271269cd44b10a2c94b3aae7a603e",
      "2d307e1d67c84225b52a1b501eecfa5e",
      "166a310ebe504059ad3de6c413d03304",
      "50394658d9fb460e8c97ec7705e1feaf",
      "7d7a67ed099842c7a7404ca4bb15c4e3",
      "3bc9264d8f774148b3e9f7e375a15c52",
      "9b9bcc05983b4961aa0f31c00351735a",
      "7c77c19d25f743e3bfe8053bc7a3c11e",
      "c11fb841911a4b38ad7b319b06428635",
      "51549d82205c4d38878b00f2be24d73b",
      "a60623293e084c439029d00eacf41af8"
     ]
    },
    "id": "bWPm_sSgP1ns",
    "outputId": "34bcb455-ff90-4291-f396-38e43381ba73"
   },
   "outputs": [
    {
     "name": "stdout",
     "output_type": "stream",
     "text": [
      "Downloading https://www.cs.toronto.edu/~kriz/cifar-10-python.tar.gz to ./data/cifar-10-python.tar.gz\n"
     ]
    },
    {
     "data": {
      "application/vnd.jupyter.widget-view+json": {
       "model_id": "738271269cd44b10a2c94b3aae7a603e",
       "version_major": 2,
       "version_minor": 0
      },
      "text/plain": [
       "  0%|          | 0/170498071 [00:00<?, ?it/s]"
      ]
     },
     "metadata": {},
     "output_type": "display_data"
    },
    {
     "name": "stdout",
     "output_type": "stream",
     "text": [
      "Extracting ./data/cifar-10-python.tar.gz to ./data\n",
      "Files already downloaded and verified\n",
      "Files already downloaded and verified\n"
     ]
    }
   ],
   "source": [
    "transform_train = transforms.Compose([\n",
    "    transforms.RandomCrop(32, padding=4),\n",
    "    transforms.RandomHorizontalFlip(),\n",
    "    transforms.ToTensor(),\n",
    "    transforms.Normalize((0.5, 0.5, 0.5), (0.2, 0.2, 0.2)),\n",
    "])\n",
    "\n",
    "transform_test = transforms.Compose([\n",
    "    transforms.ToTensor(),\n",
    "    transforms.Normalize((0.5, 0.5, 0.5), (0.2, 0.2, 0.2)),\n",
    "])\n",
    "\n",
    "trainset = torchvision.datasets.CIFAR10(root='./data', train=True, download=True, transform=transform_train)\n",
    "# Création de l'ensemble de validation\n",
    "validset = torchvision.datasets.CIFAR10(root='./data', train=True, download=True, transform=transform_test)\n",
    "split=5000\n",
    "num_train=50000\n",
    "indices = list(range(num_train))\n",
    "np.random.seed(123)\n",
    "np.random.shuffle(indices)\n",
    "train_idx, valid_idx = indices[split:], indices[:split]\n",
    "trainset = torch.utils.data.Subset(trainset,train_idx)\n",
    "validset = torch.utils.data.Subset(validset,valid_idx)\n",
    "trainloader = torch.utils.data.DataLoader(trainset, batch_size=128, shuffle=True, num_workers=2)\n",
    "validloader = torch.utils.data.DataLoader(validset, batch_size=100, shuffle=False, num_workers=2)\n",
    "#Création de l'ensemble de test\n",
    "testset = torchvision.datasets.CIFAR10(root='./data', train=False, download=True, transform=transform_test)\n",
    "testloader = torch.utils.data.DataLoader(testset, batch_size=100, shuffle=False, num_workers=2)\n"
   ]
  },
  {
   "cell_type": "code",
   "execution_count": 4,
   "metadata": {
    "colab": {
     "base_uri": "https://localhost:8080/"
    },
    "id": "N7qKf6dWQJua",
    "outputId": "05e27b1c-9c23-44c9-a99e-0a40be63a2c6"
   },
   "outputs": [
    {
     "name": "stderr",
     "output_type": "stream",
     "text": [
      "Epoch [0]: 100%|██████████| 352/352 [01:05<00:00,  5.40it/s, acc=0.436]\n",
      "100%|██████████| 50/50 [00:02<00:00, 17.91it/s, acc=0.544]\n"
     ]
    },
    {
     "name": "stdout",
     "output_type": "stream",
     "text": [
      "Saving..\n"
     ]
    },
    {
     "name": "stderr",
     "output_type": "stream",
     "text": [
      "Epoch [1]: 100%|██████████| 352/352 [01:05<00:00,  5.40it/s, acc=0.638]\n",
      "100%|██████████| 50/50 [00:02<00:00, 17.77it/s, acc=0.68]\n"
     ]
    },
    {
     "name": "stdout",
     "output_type": "stream",
     "text": [
      "Saving..\n"
     ]
    },
    {
     "name": "stderr",
     "output_type": "stream",
     "text": [
      "Epoch [2]: 100%|██████████| 352/352 [01:05<00:00,  5.41it/s, acc=0.73]\n",
      "100%|██████████| 50/50 [00:02<00:00, 17.92it/s, acc=0.731]\n"
     ]
    },
    {
     "name": "stdout",
     "output_type": "stream",
     "text": [
      "Saving..\n"
     ]
    },
    {
     "name": "stderr",
     "output_type": "stream",
     "text": [
      "Epoch [3]: 100%|██████████| 352/352 [01:05<00:00,  5.41it/s, acc=0.773]\n",
      "100%|██████████| 50/50 [00:02<00:00, 17.66it/s, acc=0.763]\n"
     ]
    },
    {
     "name": "stdout",
     "output_type": "stream",
     "text": [
      "Saving..\n"
     ]
    },
    {
     "name": "stderr",
     "output_type": "stream",
     "text": [
      "Epoch [4]: 100%|██████████| 352/352 [01:05<00:00,  5.41it/s, acc=0.8]\n",
      "100%|██████████| 50/50 [00:02<00:00, 17.96it/s, acc=0.794]\n"
     ]
    },
    {
     "name": "stdout",
     "output_type": "stream",
     "text": [
      "Saving..\n"
     ]
    },
    {
     "name": "stderr",
     "output_type": "stream",
     "text": [
      "Epoch [5]: 100%|██████████| 352/352 [01:05<00:00,  5.41it/s, acc=0.82]\n",
      "100%|██████████| 50/50 [00:02<00:00, 17.89it/s, acc=0.817]\n"
     ]
    },
    {
     "name": "stdout",
     "output_type": "stream",
     "text": [
      "Saving..\n"
     ]
    },
    {
     "name": "stderr",
     "output_type": "stream",
     "text": [
      "Epoch [6]: 100%|██████████| 352/352 [01:05<00:00,  5.40it/s, acc=0.838]\n",
      "100%|██████████| 50/50 [00:02<00:00, 17.67it/s, acc=0.808]\n",
      "Epoch [7]: 100%|██████████| 352/352 [01:05<00:00,  5.41it/s, acc=0.852]\n",
      "100%|██████████| 50/50 [00:02<00:00, 17.73it/s, acc=0.806]\n",
      "Epoch [8]: 100%|██████████| 352/352 [01:05<00:00,  5.40it/s, acc=0.863]\n",
      "100%|██████████| 50/50 [00:02<00:00, 18.03it/s, acc=0.825]\n"
     ]
    },
    {
     "name": "stdout",
     "output_type": "stream",
     "text": [
      "Saving..\n"
     ]
    },
    {
     "name": "stderr",
     "output_type": "stream",
     "text": [
      "Epoch [9]: 100%|██████████| 352/352 [01:05<00:00,  5.41it/s, acc=0.872]\n",
      "100%|██████████| 50/50 [00:02<00:00, 18.00it/s, acc=0.839]\n"
     ]
    },
    {
     "name": "stdout",
     "output_type": "stream",
     "text": [
      "Saving..\n"
     ]
    },
    {
     "name": "stderr",
     "output_type": "stream",
     "text": [
      "Epoch [10]: 100%|██████████| 352/352 [01:05<00:00,  5.41it/s, acc=0.883]\n",
      "100%|██████████| 50/50 [00:02<00:00, 18.12it/s, acc=0.846]\n"
     ]
    },
    {
     "name": "stdout",
     "output_type": "stream",
     "text": [
      "Saving..\n"
     ]
    },
    {
     "name": "stderr",
     "output_type": "stream",
     "text": [
      "Epoch [11]: 100%|██████████| 352/352 [01:04<00:00,  5.42it/s, acc=0.89]\n",
      "100%|██████████| 50/50 [00:02<00:00, 17.89it/s, acc=0.844]\n",
      "Epoch [12]: 100%|██████████| 352/352 [01:04<00:00,  5.45it/s, acc=0.898]\n",
      "100%|██████████| 50/50 [00:02<00:00, 18.20it/s, acc=0.862]\n"
     ]
    },
    {
     "name": "stdout",
     "output_type": "stream",
     "text": [
      "Saving..\n"
     ]
    },
    {
     "name": "stderr",
     "output_type": "stream",
     "text": [
      "Epoch [13]: 100%|██████████| 352/352 [01:04<00:00,  5.45it/s, acc=0.903]\n",
      "100%|██████████| 50/50 [00:02<00:00, 17.99it/s, acc=0.861]\n",
      "Epoch [14]: 100%|██████████| 352/352 [01:04<00:00,  5.46it/s, acc=0.909]\n",
      "100%|██████████| 50/50 [00:02<00:00, 18.37it/s, acc=0.863]\n"
     ]
    },
    {
     "name": "stdout",
     "output_type": "stream",
     "text": [
      "Saving..\n"
     ]
    },
    {
     "name": "stderr",
     "output_type": "stream",
     "text": [
      "Epoch [15]: 100%|██████████| 352/352 [01:04<00:00,  5.46it/s, acc=0.916]\n",
      "100%|██████████| 50/50 [00:02<00:00, 18.11it/s, acc=0.832]\n",
      "Epoch [16]: 100%|██████████| 352/352 [01:04<00:00,  5.46it/s, acc=0.919]\n",
      "100%|██████████| 50/50 [00:02<00:00, 17.44it/s, acc=0.857]\n",
      "Epoch [17]: 100%|██████████| 352/352 [01:04<00:00,  5.43it/s, acc=0.925]\n",
      "100%|██████████| 50/50 [00:02<00:00, 18.05it/s, acc=0.864]\n"
     ]
    },
    {
     "name": "stdout",
     "output_type": "stream",
     "text": [
      "Saving..\n"
     ]
    },
    {
     "name": "stderr",
     "output_type": "stream",
     "text": [
      "Epoch [18]: 100%|██████████| 352/352 [01:04<00:00,  5.44it/s, acc=0.928]\n",
      "100%|██████████| 50/50 [00:02<00:00, 18.27it/s, acc=0.87]\n"
     ]
    },
    {
     "name": "stdout",
     "output_type": "stream",
     "text": [
      "Saving..\n"
     ]
    },
    {
     "name": "stderr",
     "output_type": "stream",
     "text": [
      "Epoch [19]: 100%|██████████| 352/352 [01:04<00:00,  5.46it/s, acc=0.93]\n",
      "100%|██████████| 50/50 [00:02<00:00, 18.35it/s, acc=0.877]\n"
     ]
    },
    {
     "name": "stdout",
     "output_type": "stream",
     "text": [
      "Saving..\n"
     ]
    },
    {
     "name": "stderr",
     "output_type": "stream",
     "text": [
      "Epoch [20]: 100%|██████████| 352/352 [01:04<00:00,  5.44it/s, acc=0.958]\n",
      "100%|██████████| 50/50 [00:02<00:00, 17.92it/s, acc=0.902]\n"
     ]
    },
    {
     "name": "stdout",
     "output_type": "stream",
     "text": [
      "Saving..\n"
     ]
    },
    {
     "name": "stderr",
     "output_type": "stream",
     "text": [
      "Epoch [21]: 100%|██████████| 352/352 [01:04<00:00,  5.45it/s, acc=0.966]\n",
      "100%|██████████| 50/50 [00:02<00:00, 18.14it/s, acc=0.903]\n"
     ]
    },
    {
     "name": "stdout",
     "output_type": "stream",
     "text": [
      "Saving..\n"
     ]
    },
    {
     "name": "stderr",
     "output_type": "stream",
     "text": [
      "Epoch [22]: 100%|██████████| 352/352 [01:04<00:00,  5.45it/s, acc=0.968]\n",
      "100%|██████████| 50/50 [00:02<00:00, 17.96it/s, acc=0.904]\n"
     ]
    },
    {
     "name": "stdout",
     "output_type": "stream",
     "text": [
      "Saving..\n"
     ]
    },
    {
     "name": "stderr",
     "output_type": "stream",
     "text": [
      "Epoch [23]: 100%|██████████| 352/352 [01:04<00:00,  5.46it/s, acc=0.972]\n",
      "100%|██████████| 50/50 [00:02<00:00, 18.18it/s, acc=0.904]\n"
     ]
    },
    {
     "name": "stdout",
     "output_type": "stream",
     "text": [
      "Saving..\n"
     ]
    },
    {
     "name": "stderr",
     "output_type": "stream",
     "text": [
      "Epoch [24]: 100%|██████████| 352/352 [01:04<00:00,  5.45it/s, acc=0.974]\n",
      "100%|██████████| 50/50 [00:02<00:00, 18.03it/s, acc=0.904]\n",
      "Epoch [25]: 100%|██████████| 352/352 [01:04<00:00,  5.45it/s, acc=0.975]\n",
      "100%|██████████| 50/50 [00:02<00:00, 17.99it/s, acc=0.902]\n",
      "Epoch [26]: 100%|██████████| 352/352 [01:04<00:00,  5.46it/s, acc=0.976]\n",
      "100%|██████████| 50/50 [00:02<00:00, 18.39it/s, acc=0.903]\n",
      "Epoch [27]: 100%|██████████| 352/352 [01:04<00:00,  5.45it/s, acc=0.976]\n",
      "100%|██████████| 50/50 [00:02<00:00, 18.10it/s, acc=0.899]\n",
      "Epoch [28]: 100%|██████████| 352/352 [01:04<00:00,  5.45it/s, acc=0.977]\n",
      "100%|██████████| 50/50 [00:02<00:00, 17.96it/s, acc=0.899]\n",
      "Epoch [29]: 100%|██████████| 352/352 [01:04<00:00,  5.44it/s, acc=0.98]\n",
      "100%|██████████| 50/50 [00:02<00:00, 18.04it/s, acc=0.9]\n",
      "Epoch [30]: 100%|██████████| 352/352 [01:04<00:00,  5.45it/s, acc=0.98]\n",
      "100%|██████████| 50/50 [00:02<00:00, 18.21it/s, acc=0.899]\n",
      "Epoch [31]: 100%|██████████| 352/352 [01:04<00:00,  5.43it/s, acc=0.981]\n",
      "100%|██████████| 50/50 [00:02<00:00, 17.78it/s, acc=0.907]\n"
     ]
    },
    {
     "name": "stdout",
     "output_type": "stream",
     "text": [
      "Saving..\n"
     ]
    },
    {
     "name": "stderr",
     "output_type": "stream",
     "text": [
      "Epoch [32]: 100%|██████████| 352/352 [01:04<00:00,  5.44it/s, acc=0.981]\n",
      "100%|██████████| 50/50 [00:02<00:00, 17.52it/s, acc=0.904]\n",
      "Epoch [33]: 100%|██████████| 352/352 [01:04<00:00,  5.42it/s, acc=0.981]\n",
      "100%|██████████| 50/50 [00:02<00:00, 17.58it/s, acc=0.899]\n",
      "Epoch [34]: 100%|██████████| 352/352 [01:04<00:00,  5.42it/s, acc=0.983]\n",
      "100%|██████████| 50/50 [00:02<00:00, 17.37it/s, acc=0.904]\n",
      "Epoch [35]: 100%|██████████| 352/352 [01:04<00:00,  5.42it/s, acc=0.984]\n",
      "100%|██████████| 50/50 [00:02<00:00, 17.54it/s, acc=0.906]\n",
      "Epoch [36]: 100%|██████████| 352/352 [01:04<00:00,  5.42it/s, acc=0.984]\n",
      "100%|██████████| 50/50 [00:02<00:00, 17.62it/s, acc=0.9]\n",
      "Epoch [37]: 100%|██████████| 352/352 [01:04<00:00,  5.43it/s, acc=0.984]\n",
      "100%|██████████| 50/50 [00:02<00:00, 17.77it/s, acc=0.904]\n",
      "Epoch [38]: 100%|██████████| 352/352 [01:04<00:00,  5.42it/s, acc=0.986]\n",
      "100%|██████████| 50/50 [00:02<00:00, 17.73it/s, acc=0.904]\n",
      "Epoch [39]: 100%|██████████| 352/352 [01:05<00:00,  5.41it/s, acc=0.985]\n",
      "100%|██████████| 50/50 [00:02<00:00, 17.55it/s, acc=0.904]\n",
      "Epoch [40]: 100%|██████████| 352/352 [01:05<00:00,  5.41it/s, acc=0.991]\n",
      "100%|██████████| 50/50 [00:02<00:00, 17.92it/s, acc=0.908]\n"
     ]
    },
    {
     "name": "stdout",
     "output_type": "stream",
     "text": [
      "Saving..\n"
     ]
    },
    {
     "name": "stderr",
     "output_type": "stream",
     "text": [
      "Epoch [41]: 100%|██████████| 352/352 [01:04<00:00,  5.43it/s, acc=0.993]\n",
      "100%|██████████| 50/50 [00:02<00:00, 17.75it/s, acc=0.913]\n"
     ]
    },
    {
     "name": "stdout",
     "output_type": "stream",
     "text": [
      "Saving..\n"
     ]
    },
    {
     "name": "stderr",
     "output_type": "stream",
     "text": [
      "Epoch [42]: 100%|██████████| 352/352 [01:04<00:00,  5.43it/s, acc=0.994]\n",
      "100%|██████████| 50/50 [00:02<00:00, 17.68it/s, acc=0.911]\n",
      "Epoch [43]: 100%|██████████| 352/352 [01:04<00:00,  5.42it/s, acc=0.995]\n",
      "100%|██████████| 50/50 [00:02<00:00, 17.63it/s, acc=0.912]\n",
      "Epoch [44]: 100%|██████████| 352/352 [01:04<00:00,  5.43it/s, acc=0.995]\n",
      "100%|██████████| 50/50 [00:02<00:00, 17.72it/s, acc=0.915]\n"
     ]
    },
    {
     "name": "stdout",
     "output_type": "stream",
     "text": [
      "Saving..\n"
     ]
    },
    {
     "name": "stderr",
     "output_type": "stream",
     "text": [
      "Epoch [45]: 100%|██████████| 352/352 [01:04<00:00,  5.42it/s, acc=0.994]\n",
      "100%|██████████| 50/50 [00:02<00:00, 17.74it/s, acc=0.915]\n"
     ]
    },
    {
     "name": "stdout",
     "output_type": "stream",
     "text": [
      "Saving..\n"
     ]
    },
    {
     "name": "stderr",
     "output_type": "stream",
     "text": [
      "Epoch [46]: 100%|██████████| 352/352 [01:04<00:00,  5.42it/s, acc=0.995]\n",
      "100%|██████████| 50/50 [00:02<00:00, 17.78it/s, acc=0.912]\n",
      "Epoch [47]: 100%|██████████| 352/352 [01:05<00:00,  5.41it/s, acc=0.995]\n",
      "100%|██████████| 50/50 [00:02<00:00, 17.58it/s, acc=0.914]\n",
      "Epoch [48]: 100%|██████████| 352/352 [01:04<00:00,  5.42it/s, acc=0.996]\n",
      "100%|██████████| 50/50 [00:02<00:00, 17.61it/s, acc=0.913]\n",
      "Epoch [49]: 100%|██████████| 352/352 [01:04<00:00,  5.42it/s, acc=0.996]\n",
      "100%|██████████| 50/50 [00:02<00:00, 17.60it/s, acc=0.913]\n",
      "Epoch [50]: 100%|██████████| 352/352 [01:04<00:00,  5.42it/s, acc=0.996]\n",
      "100%|██████████| 50/50 [00:02<00:00, 17.54it/s, acc=0.911]\n",
      "Epoch [51]: 100%|██████████| 352/352 [01:04<00:00,  5.43it/s, acc=0.996]\n",
      "100%|██████████| 50/50 [00:02<00:00, 17.41it/s, acc=0.914]\n",
      "Epoch [52]: 100%|██████████| 352/352 [01:05<00:00,  5.41it/s, acc=0.996]\n",
      "100%|██████████| 50/50 [00:02<00:00, 17.60it/s, acc=0.915]\n"
     ]
    },
    {
     "name": "stdout",
     "output_type": "stream",
     "text": [
      "Saving..\n"
     ]
    },
    {
     "name": "stderr",
     "output_type": "stream",
     "text": [
      "Epoch [53]: 100%|██████████| 352/352 [01:04<00:00,  5.42it/s, acc=0.996]\n",
      "100%|██████████| 50/50 [00:02<00:00, 17.62it/s, acc=0.914]\n",
      "Epoch [54]: 100%|██████████| 352/352 [01:04<00:00,  5.42it/s, acc=0.997]\n",
      "100%|██████████| 50/50 [00:02<00:00, 17.89it/s, acc=0.914]\n",
      "Epoch [55]: 100%|██████████| 352/352 [01:05<00:00,  5.39it/s, acc=0.996]\n",
      "100%|██████████| 50/50 [00:02<00:00, 17.66it/s, acc=0.913]\n",
      "Epoch [56]: 100%|██████████| 352/352 [01:05<00:00,  5.41it/s, acc=0.996]\n",
      "100%|██████████| 50/50 [00:02<00:00, 17.65it/s, acc=0.915]\n",
      "Epoch [57]: 100%|██████████| 352/352 [01:04<00:00,  5.42it/s, acc=0.996]\n",
      "100%|██████████| 50/50 [00:02<00:00, 17.51it/s, acc=0.915]\n",
      "Epoch [58]: 100%|██████████| 352/352 [01:04<00:00,  5.43it/s, acc=0.997]\n",
      "100%|██████████| 50/50 [00:02<00:00, 17.48it/s, acc=0.914]\n",
      "Epoch [59]: 100%|██████████| 352/352 [01:04<00:00,  5.43it/s, acc=0.997]\n",
      "100%|██████████| 50/50 [00:02<00:00, 17.59it/s, acc=0.912]\n"
     ]
    },
    {
     "name": "stdout",
     "output_type": "stream",
     "text": [
      "==> Resuming from checkpoint..\n"
     ]
    },
    {
     "name": "stderr",
     "output_type": "stream",
     "text": [
      "100%|██████████| 100/100 [00:05<00:00, 18.08it/s, acc=0.909]"
     ]
    },
    {
     "name": "stdout",
     "output_type": "stream",
     "text": [
      "\n",
      "Final accuracy on the test set :  0.9092\n"
     ]
    },
    {
     "name": "stderr",
     "output_type": "stream",
     "text": [
      "\n"
     ]
    }
   ],
   "source": [
    "architecture = [64, 'M', 128, 128, 'M', 256, 256, 256, 'M', 512, 512, 512, 'M', 512, 512, 512, 'M']\n",
    "class VGG(nn.Module):\n",
    "    def __init__(self,architecture):\n",
    "        super(VGG, self).__init__()\n",
    "        self.layers = self.make_layers(architecture)\n",
    "        self.classifier = nn.Linear(512, 10)\n",
    "    def forward(self,x):\n",
    "        x = self.layers(x)\n",
    "        x = x.view(x.size(0),-1)\n",
    "        return self.classifier(x)\n",
    "    def make_layers(self,architecture):\n",
    "        layers = []\n",
    "        in_channels = 3\n",
    "        for x in architecture:\n",
    "            if x=='M':\n",
    "                layers += [nn.MaxPool2d(kernel_size=[3,3], stride=(1,1))]\n",
    "            else:\n",
    "                layers += [nn.Conv2d(in_channels, x, kernel_size=[3, 3], stride=(1, 1), padding=(1, 1)),\n",
    "                           nn.BatchNorm2d(x),\n",
    "                           nn.ReLU()]\n",
    "                in_channels = x\n",
    "        return nn.Sequential(*layers)\n",
    "            \n",
    "\n",
    "\n",
    "net = VGG(architecture)\n",
    "\n",
    "\n",
    "\n",
    "\n",
    "\n",
    "net = net.to(device)\n",
    "\n",
    "\n",
    "criterion = nn.CrossEntropyLoss()\n",
    "optimizer = optim.SGD(net.parameters(), lr=lr, momentum=0.9, weight_decay=wd)\n",
    "lr_sc = lr_scheduler.StepLR(optimizer, step_size=nsc, gamma=gamma)\n",
    "# Training\n",
    "def train(epoch,trainloader):\n",
    "    net.train()\n",
    "    train_loss = 0\n",
    "    correct = 0\n",
    "    total = 0\n",
    "    loop = tqdm(enumerate(trainloader), total=len(trainloader))\n",
    "    for batch_idx, (inputs, targets) in loop:\n",
    "        inputs, targets = inputs.to(device), targets.to(device)\n",
    "        optimizer.zero_grad()\n",
    "        outputs = net(inputs)\n",
    "        loss = criterion(outputs, targets)\n",
    "        loss.backward()\n",
    "        optimizer.step()\n",
    "        train_loss += loss.item()\n",
    "        _, predicted = outputs.max(1)\n",
    "        total += targets.size(0)\n",
    "        correct += predicted.eq(targets).sum().item()\n",
    "        loop.set_description(f\"Epoch [{epoch}]\")\n",
    "        loop.set_postfix(acc=correct/total)\n",
    "\n",
    "def test(epoch,validloader):\n",
    "    global best_acc\n",
    "    net.eval()\n",
    "    test_loss = 0\n",
    "    correct = 0\n",
    "    total = 0\n",
    "    with torch.no_grad():\n",
    "        loop = tqdm(enumerate(validloader), total=len(validloader))\n",
    "        for batch_idx, (inputs, targets) in loop:\n",
    "            inputs, targets = inputs.to(device), targets.to(device)\n",
    "            outputs = net(inputs)\n",
    "            loss = criterion(outputs, targets)\n",
    "            test_loss += loss.item()\n",
    "            _, predicted = outputs.max(1)\n",
    "            total += targets.size(0)\n",
    "            correct += predicted.eq(targets).sum().item()\n",
    "            loop.set_postfix(acc=correct/total)\n",
    "    # Save checkpoint.\n",
    "    acc = 100.*correct/total\n",
    "    if acc > best_acc:\n",
    "        print('Saving..')\n",
    "        state = {\n",
    "            'net': net.state_dict(),\n",
    "            'acc': acc,\n",
    "            'epoch': epoch,\n",
    "        }\n",
    "        if not os.path.isdir('checkpoint'):\n",
    "            os.mkdir('checkpoint')\n",
    "        torch.save(state, './checkpoint/ckpt.t7')\n",
    "        best_acc = acc\n",
    "        \n",
    "def testfinal(testloader):\n",
    "    print('==> Resuming from checkpoint..')\n",
    "    assert os.path.isdir('checkpoint'), 'Error: no checkpoint directory found!'\n",
    "    checkpoint = torch.load('./checkpoint/ckpt.t7')\n",
    "    net.load_state_dict(checkpoint['net'])\n",
    "    net.eval()\n",
    "    test_loss = 0\n",
    "    correct = 0\n",
    "    total = 0\n",
    "    with torch.no_grad():\n",
    "        loop = tqdm(enumerate(testloader), total=len(testloader))\n",
    "        for batch_idx, (inputs, targets) in loop:\n",
    "            inputs, targets = inputs.to(device), targets.to(device)\n",
    "            outputs = net(inputs)\n",
    "            loss = criterion(outputs, targets)\n",
    "            test_loss += loss.item()\n",
    "            _, predicted = outputs.max(1)\n",
    "            total += targets.size(0)\n",
    "            correct += predicted.eq(targets).sum().item()\n",
    "            loop.set_postfix(acc=correct/total)\n",
    "        print(\"\\nFinal accuracy on the test set : \",correct/total)\n",
    "\n",
    "best_acc = 0       \n",
    "\n",
    "for epoch in range(0, ne):\n",
    "    train(epoch,trainloader)\n",
    "    test(epoch,validloader)\n",
    "    lr_sc.step()\n",
    "\n",
    "testfinal(testloader)\n"
   ]
  }
 ],
 "metadata": {
  "accelerator": "GPU",
  "colab": {
   "collapsed_sections": [],
   "name": "vggPytorchmodulaire.ipynb",
   "provenance": []
  },
  "kernelspec": {
   "display_name": "Python 3 (ipykernel)",
   "language": "python",
   "name": "python3"
  },
  "language_info": {
   "codemirror_mode": {
    "name": "ipython",
    "version": 3
   },
   "file_extension": ".py",
   "mimetype": "text/x-python",
   "name": "python",
   "nbconvert_exporter": "python",
   "pygments_lexer": "ipython3",
   "version": "3.9.7"
  },
  "widgets": {
   "application/vnd.jupyter.widget-state+json": {
    "166a310ebe504059ad3de6c413d03304": {
     "model_module": "@jupyter-widgets/controls",
     "model_module_version": "1.5.0",
     "model_name": "HTMLModel",
     "state": {
      "_dom_classes": [],
      "_model_module": "@jupyter-widgets/controls",
      "_model_module_version": "1.5.0",
      "_model_name": "HTMLModel",
      "_view_count": null,
      "_view_module": "@jupyter-widgets/controls",
      "_view_module_version": "1.5.0",
      "_view_name": "HTMLView",
      "description": "",
      "description_tooltip": null,
      "layout": "IPY_MODEL_9b9bcc05983b4961aa0f31c00351735a",
      "placeholder": "​",
      "style": "IPY_MODEL_3bc9264d8f774148b3e9f7e375a15c52",
      "value": ""
     }
    },
    "2d307e1d67c84225b52a1b501eecfa5e": {
     "model_module": "@jupyter-widgets/base",
     "model_module_version": "1.2.0",
     "model_name": "LayoutModel",
     "state": {
      "_model_module": "@jupyter-widgets/base",
      "_model_module_version": "1.2.0",
      "_model_name": "LayoutModel",
      "_view_count": null,
      "_view_module": "@jupyter-widgets/base",
      "_view_module_version": "1.2.0",
      "_view_name": "LayoutView",
      "align_content": null,
      "align_items": null,
      "align_self": null,
      "border": null,
      "bottom": null,
      "display": null,
      "flex": null,
      "flex_flow": null,
      "grid_area": null,
      "grid_auto_columns": null,
      "grid_auto_flow": null,
      "grid_auto_rows": null,
      "grid_column": null,
      "grid_gap": null,
      "grid_row": null,
      "grid_template_areas": null,
      "grid_template_columns": null,
      "grid_template_rows": null,
      "height": null,
      "justify_content": null,
      "justify_items": null,
      "left": null,
      "margin": null,
      "max_height": null,
      "max_width": null,
      "min_height": null,
      "min_width": null,
      "object_fit": null,
      "object_position": null,
      "order": null,
      "overflow": null,
      "overflow_x": null,
      "overflow_y": null,
      "padding": null,
      "right": null,
      "top": null,
      "visibility": null,
      "width": null
     }
    },
    "3bc9264d8f774148b3e9f7e375a15c52": {
     "model_module": "@jupyter-widgets/controls",
     "model_module_version": "1.5.0",
     "model_name": "DescriptionStyleModel",
     "state": {
      "_model_module": "@jupyter-widgets/controls",
      "_model_module_version": "1.5.0",
      "_model_name": "DescriptionStyleModel",
      "_view_count": null,
      "_view_module": "@jupyter-widgets/base",
      "_view_module_version": "1.2.0",
      "_view_name": "StyleView",
      "description_width": ""
     }
    },
    "50394658d9fb460e8c97ec7705e1feaf": {
     "model_module": "@jupyter-widgets/controls",
     "model_module_version": "1.5.0",
     "model_name": "FloatProgressModel",
     "state": {
      "_dom_classes": [],
      "_model_module": "@jupyter-widgets/controls",
      "_model_module_version": "1.5.0",
      "_model_name": "FloatProgressModel",
      "_view_count": null,
      "_view_module": "@jupyter-widgets/controls",
      "_view_module_version": "1.5.0",
      "_view_name": "ProgressView",
      "bar_style": "success",
      "description": "",
      "description_tooltip": null,
      "layout": "IPY_MODEL_c11fb841911a4b38ad7b319b06428635",
      "max": 170498071,
      "min": 0,
      "orientation": "horizontal",
      "style": "IPY_MODEL_7c77c19d25f743e3bfe8053bc7a3c11e",
      "value": 170498071
     }
    },
    "51549d82205c4d38878b00f2be24d73b": {
     "model_module": "@jupyter-widgets/controls",
     "model_module_version": "1.5.0",
     "model_name": "DescriptionStyleModel",
     "state": {
      "_model_module": "@jupyter-widgets/controls",
      "_model_module_version": "1.5.0",
      "_model_name": "DescriptionStyleModel",
      "_view_count": null,
      "_view_module": "@jupyter-widgets/base",
      "_view_module_version": "1.2.0",
      "_view_name": "StyleView",
      "description_width": ""
     }
    },
    "738271269cd44b10a2c94b3aae7a603e": {
     "model_module": "@jupyter-widgets/controls",
     "model_module_version": "1.5.0",
     "model_name": "HBoxModel",
     "state": {
      "_dom_classes": [],
      "_model_module": "@jupyter-widgets/controls",
      "_model_module_version": "1.5.0",
      "_model_name": "HBoxModel",
      "_view_count": null,
      "_view_module": "@jupyter-widgets/controls",
      "_view_module_version": "1.5.0",
      "_view_name": "HBoxView",
      "box_style": "",
      "children": [
       "IPY_MODEL_166a310ebe504059ad3de6c413d03304",
       "IPY_MODEL_50394658d9fb460e8c97ec7705e1feaf",
       "IPY_MODEL_7d7a67ed099842c7a7404ca4bb15c4e3"
      ],
      "layout": "IPY_MODEL_2d307e1d67c84225b52a1b501eecfa5e"
     }
    },
    "7c77c19d25f743e3bfe8053bc7a3c11e": {
     "model_module": "@jupyter-widgets/controls",
     "model_module_version": "1.5.0",
     "model_name": "ProgressStyleModel",
     "state": {
      "_model_module": "@jupyter-widgets/controls",
      "_model_module_version": "1.5.0",
      "_model_name": "ProgressStyleModel",
      "_view_count": null,
      "_view_module": "@jupyter-widgets/base",
      "_view_module_version": "1.2.0",
      "_view_name": "StyleView",
      "bar_color": null,
      "description_width": ""
     }
    },
    "7d7a67ed099842c7a7404ca4bb15c4e3": {
     "model_module": "@jupyter-widgets/controls",
     "model_module_version": "1.5.0",
     "model_name": "HTMLModel",
     "state": {
      "_dom_classes": [],
      "_model_module": "@jupyter-widgets/controls",
      "_model_module_version": "1.5.0",
      "_model_name": "HTMLModel",
      "_view_count": null,
      "_view_module": "@jupyter-widgets/controls",
      "_view_module_version": "1.5.0",
      "_view_name": "HTMLView",
      "description": "",
      "description_tooltip": null,
      "layout": "IPY_MODEL_a60623293e084c439029d00eacf41af8",
      "placeholder": "​",
      "style": "IPY_MODEL_51549d82205c4d38878b00f2be24d73b",
      "value": " 170499072/? [00:04&lt;00:00, 50926309.07it/s]"
     }
    },
    "9b9bcc05983b4961aa0f31c00351735a": {
     "model_module": "@jupyter-widgets/base",
     "model_module_version": "1.2.0",
     "model_name": "LayoutModel",
     "state": {
      "_model_module": "@jupyter-widgets/base",
      "_model_module_version": "1.2.0",
      "_model_name": "LayoutModel",
      "_view_count": null,
      "_view_module": "@jupyter-widgets/base",
      "_view_module_version": "1.2.0",
      "_view_name": "LayoutView",
      "align_content": null,
      "align_items": null,
      "align_self": null,
      "border": null,
      "bottom": null,
      "display": null,
      "flex": null,
      "flex_flow": null,
      "grid_area": null,
      "grid_auto_columns": null,
      "grid_auto_flow": null,
      "grid_auto_rows": null,
      "grid_column": null,
      "grid_gap": null,
      "grid_row": null,
      "grid_template_areas": null,
      "grid_template_columns": null,
      "grid_template_rows": null,
      "height": null,
      "justify_content": null,
      "justify_items": null,
      "left": null,
      "margin": null,
      "max_height": null,
      "max_width": null,
      "min_height": null,
      "min_width": null,
      "object_fit": null,
      "object_position": null,
      "order": null,
      "overflow": null,
      "overflow_x": null,
      "overflow_y": null,
      "padding": null,
      "right": null,
      "top": null,
      "visibility": null,
      "width": null
     }
    },
    "a60623293e084c439029d00eacf41af8": {
     "model_module": "@jupyter-widgets/base",
     "model_module_version": "1.2.0",
     "model_name": "LayoutModel",
     "state": {
      "_model_module": "@jupyter-widgets/base",
      "_model_module_version": "1.2.0",
      "_model_name": "LayoutModel",
      "_view_count": null,
      "_view_module": "@jupyter-widgets/base",
      "_view_module_version": "1.2.0",
      "_view_name": "LayoutView",
      "align_content": null,
      "align_items": null,
      "align_self": null,
      "border": null,
      "bottom": null,
      "display": null,
      "flex": null,
      "flex_flow": null,
      "grid_area": null,
      "grid_auto_columns": null,
      "grid_auto_flow": null,
      "grid_auto_rows": null,
      "grid_column": null,
      "grid_gap": null,
      "grid_row": null,
      "grid_template_areas": null,
      "grid_template_columns": null,
      "grid_template_rows": null,
      "height": null,
      "justify_content": null,
      "justify_items": null,
      "left": null,
      "margin": null,
      "max_height": null,
      "max_width": null,
      "min_height": null,
      "min_width": null,
      "object_fit": null,
      "object_position": null,
      "order": null,
      "overflow": null,
      "overflow_x": null,
      "overflow_y": null,
      "padding": null,
      "right": null,
      "top": null,
      "visibility": null,
      "width": null
     }
    },
    "c11fb841911a4b38ad7b319b06428635": {
     "model_module": "@jupyter-widgets/base",
     "model_module_version": "1.2.0",
     "model_name": "LayoutModel",
     "state": {
      "_model_module": "@jupyter-widgets/base",
      "_model_module_version": "1.2.0",
      "_model_name": "LayoutModel",
      "_view_count": null,
      "_view_module": "@jupyter-widgets/base",
      "_view_module_version": "1.2.0",
      "_view_name": "LayoutView",
      "align_content": null,
      "align_items": null,
      "align_self": null,
      "border": null,
      "bottom": null,
      "display": null,
      "flex": null,
      "flex_flow": null,
      "grid_area": null,
      "grid_auto_columns": null,
      "grid_auto_flow": null,
      "grid_auto_rows": null,
      "grid_column": null,
      "grid_gap": null,
      "grid_row": null,
      "grid_template_areas": null,
      "grid_template_columns": null,
      "grid_template_rows": null,
      "height": null,
      "justify_content": null,
      "justify_items": null,
      "left": null,
      "margin": null,
      "max_height": null,
      "max_width": null,
      "min_height": null,
      "min_width": null,
      "object_fit": null,
      "object_position": null,
      "order": null,
      "overflow": null,
      "overflow_x": null,
      "overflow_y": null,
      "padding": null,
      "right": null,
      "top": null,
      "visibility": null,
      "width": null
     }
    }
   }
  }
 },
 "nbformat": 4,
 "nbformat_minor": 1
}
